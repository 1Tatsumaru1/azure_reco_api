{
 "cells": [
  {
   "cell_type": "markdown",
   "id": "23da35b9",
   "metadata": {},
   "source": [
    "<div style=\"color: orange\"><h1>[Projet] Recommandation de contenu</h1></div>"
   ]
  },
  {
   "cell_type": "markdown",
   "id": "bf247558",
   "metadata": {},
   "source": [
    "<img src=\"img/logo_my_content.png\" style=\"height: 250px\">"
   ]
  },
  {
   "cell_type": "markdown",
   "id": "5e463cca",
   "metadata": {},
   "source": [
    "# Sommaire"
   ]
  },
  {
   "cell_type": "markdown",
   "id": "3296ee43",
   "metadata": {},
   "source": [
    "[1. Imports](#1.-Imports)<br><br>\n",
    "[2. Analyse exploratoire](#2.-Analyse-exploratoire)\n",
    ">[2.1 articles_metadata](#2.1-articles_metadata)<br>\n",
    ">[2.2 clicks_hour_{}.csv](#2.2-clicks_hour_{}.csv)<br>\n",
    "\n",
    "[3. Modèle de recommandation Collaborative filtering](#3.-Modèle-de-recommandation-Collaborative-filtering)<br>\n",
    ">[3.1 Préparation des données](#3.1-Préparation-des-données)<br>\n",
    ">[3.2 Collaborative-filtering à l'article avec Surprise](#3.2-Collaborative-filtering-à-l'article-avec-Surprise)<br>\n",
    ">[3.3 Collaborative-filtering à la catégorie avec Surprise](#3.3-Collaborative-filtering-à-la-catégorie-avec-Surprise)<br>\n",
    ">[3.4 Collaborative-filtering à la catégorie : approche manuelle](#3.4-Collaborative-filtering-à-la-catégorie-:-approche-manuelle)\n",
    "\n",
    "[4. Modèle de recommandation Content-based](#4.-Modèle-de-recommandation-Content-based)<br>\n",
    ">[4.1 Embeddings entiers](#4.1-Embeddings-entiers)<br>\n",
    ">[4.2 Embeddings réduits (PCA)](#4.2-Embeddings-réduits-(PCA))\n",
    "\n",
    "[5. Script de calcul des recommandations](#5.-Script-de-calcul-des-recommandations)"
   ]
  },
  {
   "cell_type": "markdown",
   "id": "47b1263e",
   "metadata": {},
   "source": [
    "# 1. Imports"
   ]
  },
  {
   "cell_type": "code",
   "execution_count": 1,
   "id": "8cf4672f",
   "metadata": {
    "_cell_guid": "b1076dfc-b9ad-4769-8c92-a6c4dae69d19",
    "_uuid": "8f2839f25d086af736a60e9eeb907d3b93b6e0e5",
    "execution": {
     "iopub.execute_input": "2021-10-02T15:50:53.718012Z",
     "iopub.status.busy": "2021-10-02T15:50:53.712960Z",
     "iopub.status.idle": "2021-10-02T15:50:54.748617Z",
     "shell.execute_reply": "2021-10-02T15:50:54.747891Z",
     "shell.execute_reply.started": "2021-10-02T15:50:25.590715Z"
    },
    "papermill": {
     "duration": 1.088893,
     "end_time": "2021-10-02T15:50:54.748818",
     "exception": false,
     "start_time": "2021-10-02T15:50:53.659925",
     "status": "completed"
    },
    "tags": []
   },
   "outputs": [],
   "source": [
    "import os\n",
    "import gc\n",
    "import json\n",
    "import tqdm\n",
    "import scipy\n",
    "import pickle\n",
    "import random\n",
    "import missingno\n",
    "import numpy as np\n",
    "import pandas as pd\n",
    "import seaborn as sns\n",
    "import numexpr as ne\n",
    "import operator\n",
    "import sklearn\n",
    "import sklearn.model_selection\n",
    "import matplotlib.pyplot as plt\n",
    "from collections import defaultdict\n",
    "from surprise import NormalPredictor\n",
    "from surprise import Dataset\n",
    "from surprise import Reader\n",
    "from surprise import SVD\n",
    "from surprise import accuracy\n",
    "from surprise.model_selection import cross_validate, train_test_split, GridSearchCV\n",
    "from sklearn.metrics.pairwise import linear_kernel\n",
    "from implicit.nearest_neighbours import bm25_weight\n",
    "from implicit.als import AlternatingLeastSquares"
   ]
  },
  {
   "cell_type": "code",
   "execution_count": 2,
   "id": "c3db8ac1",
   "metadata": {},
   "outputs": [],
   "source": [
    "pd.set_option('display.max_columns', None)\n",
    "sns.set(color_codes=True)"
   ]
  },
  {
   "cell_type": "markdown",
   "id": "9a2c9ce8",
   "metadata": {},
   "source": [
    "*[(Retour sommaire)](#Sommaire)*"
   ]
  },
  {
   "cell_type": "markdown",
   "id": "413e4156",
   "metadata": {},
   "source": [
    "***"
   ]
  },
  {
   "cell_type": "markdown",
   "id": "dc7a3d9b",
   "metadata": {},
   "source": [
    "# 2. Analyse exploratoire"
   ]
  },
  {
   "cell_type": "markdown",
   "id": "32f8d962",
   "metadata": {},
   "source": [
    "<div class=\"alert alert-block alert-info\">\n",
    "\n",
    "Cette analyse exploratoire s'inspire du notebook Kaggle suivant : https://www.kaggle.com/code/tiramysu/how-to-build-recommendation-engine\n",
    "    \n",
    "</div>"
   ]
  },
  {
   "cell_type": "code",
   "execution_count": 3,
   "id": "7aa4a7f7",
   "metadata": {
    "execution": {
     "iopub.execute_input": "2021-10-02T15:50:55.024491Z",
     "iopub.status.busy": "2021-10-02T15:50:55.023705Z",
     "iopub.status.idle": "2021-10-02T15:50:55.034338Z",
     "shell.execute_reply": "2021-10-02T15:50:55.034867Z",
     "shell.execute_reply.started": "2021-10-02T15:48:58.684026Z"
    },
    "papermill": {
     "duration": 0.062679,
     "end_time": "2021-10-02T15:50:55.035026",
     "exception": false,
     "start_time": "2021-10-02T15:50:54.972347",
     "status": "completed"
    },
    "tags": []
   },
   "outputs": [
    {
     "name": "stdout",
     "output_type": "stream",
     "text": [
      "articles_embeddings.pickle\n",
      "articles_metadata.csv\n",
      "clicks\n",
      "clicks_sample.csv\n"
     ]
    }
   ],
   "source": [
    "[print(x) for x in os.listdir('data')];"
   ]
  },
  {
   "cell_type": "markdown",
   "id": "eed286e2",
   "metadata": {},
   "source": [
    "Voici les définitions de chacun de ces éléments, telles qu'indiquées sur Kaggle:\n",
    "\n",
    "- **articles_metadata.csv** : Fichier CSV avec des métadonnées sur tous (364047) les articles publiés.\n",
    "- **articles_embeddings.pickle** : Pickle (Python 3) d'une matrice NumPy contenant les Embeddings de contenu des articles (vecteurs à 250 dimensions), entraînés sur le texte et les métadonnées des articles.\n",
    "- **clicks** : Dossier contenant des fichiers CSV (1 par heure) donnant des indications sur les sessions et interactions des utilisateurs avec le portail de news.\n",
    "- **clicks_sample.csv** : Fichier CSV contenant un exemple des informations issues du dossier \"clicks\" ci-dessus."
   ]
  },
  {
   "cell_type": "markdown",
   "id": "c46ba513",
   "metadata": {},
   "source": [
    "## 2.1 articles_metadata"
   ]
  },
  {
   "cell_type": "markdown",
   "id": "3ad2c1d4",
   "metadata": {
    "papermill": {
     "duration": 0.044372,
     "end_time": "2021-10-02T15:50:55.216436",
     "exception": false,
     "start_time": "2021-10-02T15:50:55.172064",
     "status": "completed"
    },
    "tags": []
   },
   "source": [
    "### Contenu"
   ]
  },
  {
   "cell_type": "code",
   "execution_count": 15,
   "id": "f744f1fc",
   "metadata": {
    "execution": {
     "iopub.execute_input": "2021-10-02T15:50:55.310164Z",
     "iopub.status.busy": "2021-10-02T15:50:55.309564Z",
     "iopub.status.idle": "2021-10-02T15:50:55.614756Z",
     "shell.execute_reply": "2021-10-02T15:50:55.615278Z",
     "shell.execute_reply.started": "2021-10-02T15:48:58.702929Z"
    },
    "papermill": {
     "duration": 0.353371,
     "end_time": "2021-10-02T15:50:55.615467",
     "exception": false,
     "start_time": "2021-10-02T15:50:55.262096",
     "status": "completed"
    },
    "tags": []
   },
   "outputs": [],
   "source": [
    "articles_df = pd.read_csv('data/articles_metadata.csv')"
   ]
  },
  {
   "cell_type": "code",
   "execution_count": 5,
   "id": "694d8aa2",
   "metadata": {
    "execution": {
     "iopub.execute_input": "2021-10-02T15:50:55.732804Z",
     "iopub.status.busy": "2021-10-02T15:50:55.732087Z",
     "iopub.status.idle": "2021-10-02T15:50:55.743984Z",
     "shell.execute_reply": "2021-10-02T15:50:55.743523Z",
     "shell.execute_reply.started": "2021-10-02T15:48:58.940552Z"
    },
    "papermill": {
     "duration": 0.068603,
     "end_time": "2021-10-02T15:50:55.744128",
     "exception": false,
     "start_time": "2021-10-02T15:50:55.675525",
     "status": "completed"
    },
    "tags": []
   },
   "outputs": [
    {
     "data": {
      "text/html": [
       "<div>\n",
       "<style scoped>\n",
       "    .dataframe tbody tr th:only-of-type {\n",
       "        vertical-align: middle;\n",
       "    }\n",
       "\n",
       "    .dataframe tbody tr th {\n",
       "        vertical-align: top;\n",
       "    }\n",
       "\n",
       "    .dataframe thead th {\n",
       "        text-align: right;\n",
       "    }\n",
       "</style>\n",
       "<table border=\"1\" class=\"dataframe\">\n",
       "  <thead>\n",
       "    <tr style=\"text-align: right;\">\n",
       "      <th></th>\n",
       "      <th>article_id</th>\n",
       "      <th>category_id</th>\n",
       "      <th>created_at_ts</th>\n",
       "      <th>publisher_id</th>\n",
       "      <th>words_count</th>\n",
       "    </tr>\n",
       "  </thead>\n",
       "  <tbody>\n",
       "    <tr>\n",
       "      <th>0</th>\n",
       "      <td>0</td>\n",
       "      <td>0</td>\n",
       "      <td>1513144419000</td>\n",
       "      <td>0</td>\n",
       "      <td>168</td>\n",
       "    </tr>\n",
       "    <tr>\n",
       "      <th>1</th>\n",
       "      <td>1</td>\n",
       "      <td>1</td>\n",
       "      <td>1405341936000</td>\n",
       "      <td>0</td>\n",
       "      <td>189</td>\n",
       "    </tr>\n",
       "    <tr>\n",
       "      <th>2</th>\n",
       "      <td>2</td>\n",
       "      <td>1</td>\n",
       "      <td>1408667706000</td>\n",
       "      <td>0</td>\n",
       "      <td>250</td>\n",
       "    </tr>\n",
       "    <tr>\n",
       "      <th>3</th>\n",
       "      <td>3</td>\n",
       "      <td>1</td>\n",
       "      <td>1408468313000</td>\n",
       "      <td>0</td>\n",
       "      <td>230</td>\n",
       "    </tr>\n",
       "    <tr>\n",
       "      <th>4</th>\n",
       "      <td>4</td>\n",
       "      <td>1</td>\n",
       "      <td>1407071171000</td>\n",
       "      <td>0</td>\n",
       "      <td>162</td>\n",
       "    </tr>\n",
       "  </tbody>\n",
       "</table>\n",
       "</div>"
      ],
      "text/plain": [
       "   article_id  category_id  created_at_ts  publisher_id  words_count\n",
       "0           0            0  1513144419000             0          168\n",
       "1           1            1  1405341936000             0          189\n",
       "2           2            1  1408667706000             0          250\n",
       "3           3            1  1408468313000             0          230\n",
       "4           4            1  1407071171000             0          162"
      ]
     },
     "execution_count": 5,
     "metadata": {},
     "output_type": "execute_result"
    }
   ],
   "source": [
    "articles_df.head(5)"
   ]
  },
  {
   "cell_type": "markdown",
   "id": "0b6bad8b",
   "metadata": {
    "papermill": {
     "duration": 0.045353,
     "end_time": "2021-10-02T15:50:55.834711",
     "exception": false,
     "start_time": "2021-10-02T15:50:55.789358",
     "status": "completed"
    },
    "tags": []
   },
   "source": [
    "Les 5 colonnes :\n",
    "- **article_id** : ID de l'article\n",
    "- **category_id** : ID de la catégorie de l'article\n",
    "- **created_at_ts** : Date de création (timestamp)\n",
    "- **publisher_id** : ID de l'entité ayant publié\n",
    "- **words_count** : Nombre total de mots contenus dans l'article"
   ]
  },
  {
   "cell_type": "code",
   "execution_count": 35,
   "id": "206bea5f",
   "metadata": {},
   "outputs": [
    {
     "data": {
      "text/html": [
       "<div>\n",
       "<style scoped>\n",
       "    .dataframe tbody tr th:only-of-type {\n",
       "        vertical-align: middle;\n",
       "    }\n",
       "\n",
       "    .dataframe tbody tr th {\n",
       "        vertical-align: top;\n",
       "    }\n",
       "\n",
       "    .dataframe thead th {\n",
       "        text-align: right;\n",
       "    }\n",
       "</style>\n",
       "<table border=\"1\" class=\"dataframe\">\n",
       "  <thead>\n",
       "    <tr style=\"text-align: right;\">\n",
       "      <th></th>\n",
       "      <th>article_id</th>\n",
       "      <th>category_id</th>\n",
       "      <th>created_at_ts</th>\n",
       "      <th>publisher_id</th>\n",
       "      <th>words_count</th>\n",
       "    </tr>\n",
       "  </thead>\n",
       "  <tbody>\n",
       "    <tr>\n",
       "      <th>count</th>\n",
       "      <td>364047.000000</td>\n",
       "      <td>364047.000000</td>\n",
       "      <td>3.640470e+05</td>\n",
       "      <td>364047.0</td>\n",
       "      <td>364047.000000</td>\n",
       "    </tr>\n",
       "    <tr>\n",
       "      <th>mean</th>\n",
       "      <td>182023.000000</td>\n",
       "      <td>283.108239</td>\n",
       "      <td>1.474070e+12</td>\n",
       "      <td>0.0</td>\n",
       "      <td>190.897727</td>\n",
       "    </tr>\n",
       "    <tr>\n",
       "      <th>std</th>\n",
       "      <td>105091.461061</td>\n",
       "      <td>136.723470</td>\n",
       "      <td>4.293038e+10</td>\n",
       "      <td>0.0</td>\n",
       "      <td>59.502766</td>\n",
       "    </tr>\n",
       "    <tr>\n",
       "      <th>min</th>\n",
       "      <td>0.000000</td>\n",
       "      <td>0.000000</td>\n",
       "      <td>1.159356e+12</td>\n",
       "      <td>0.0</td>\n",
       "      <td>0.000000</td>\n",
       "    </tr>\n",
       "    <tr>\n",
       "      <th>25%</th>\n",
       "      <td>91011.500000</td>\n",
       "      <td>199.000000</td>\n",
       "      <td>1.444925e+12</td>\n",
       "      <td>0.0</td>\n",
       "      <td>159.000000</td>\n",
       "    </tr>\n",
       "    <tr>\n",
       "      <th>50%</th>\n",
       "      <td>182023.000000</td>\n",
       "      <td>301.000000</td>\n",
       "      <td>1.489422e+12</td>\n",
       "      <td>0.0</td>\n",
       "      <td>186.000000</td>\n",
       "    </tr>\n",
       "    <tr>\n",
       "      <th>75%</th>\n",
       "      <td>273034.500000</td>\n",
       "      <td>399.000000</td>\n",
       "      <td>1.509891e+12</td>\n",
       "      <td>0.0</td>\n",
       "      <td>218.000000</td>\n",
       "    </tr>\n",
       "    <tr>\n",
       "      <th>max</th>\n",
       "      <td>364046.000000</td>\n",
       "      <td>460.000000</td>\n",
       "      <td>1.520943e+12</td>\n",
       "      <td>0.0</td>\n",
       "      <td>6690.000000</td>\n",
       "    </tr>\n",
       "  </tbody>\n",
       "</table>\n",
       "</div>"
      ],
      "text/plain": [
       "          article_id    category_id  created_at_ts  publisher_id  \\\n",
       "count  364047.000000  364047.000000   3.640470e+05      364047.0   \n",
       "mean   182023.000000     283.108239   1.474070e+12           0.0   \n",
       "std    105091.461061     136.723470   4.293038e+10           0.0   \n",
       "min         0.000000       0.000000   1.159356e+12           0.0   \n",
       "25%     91011.500000     199.000000   1.444925e+12           0.0   \n",
       "50%    182023.000000     301.000000   1.489422e+12           0.0   \n",
       "75%    273034.500000     399.000000   1.509891e+12           0.0   \n",
       "max    364046.000000     460.000000   1.520943e+12           0.0   \n",
       "\n",
       "         words_count  \n",
       "count  364047.000000  \n",
       "mean      190.897727  \n",
       "std        59.502766  \n",
       "min         0.000000  \n",
       "25%       159.000000  \n",
       "50%       186.000000  \n",
       "75%       218.000000  \n",
       "max      6690.000000  "
      ]
     },
     "execution_count": 35,
     "metadata": {},
     "output_type": "execute_result"
    }
   ],
   "source": [
    "articles_df.describe(include='all')"
   ]
  },
  {
   "cell_type": "markdown",
   "id": "e5a4fc02",
   "metadata": {
    "papermill": {
     "duration": 0.044804,
     "end_time": "2021-10-02T15:50:55.925435",
     "exception": false,
     "start_time": "2021-10-02T15:50:55.880631",
     "status": "completed"
    },
    "tags": []
   },
   "source": [
    "### Valeurs manquantes"
   ]
  },
  {
   "cell_type": "code",
   "execution_count": 6,
   "id": "cb0601d9",
   "metadata": {
    "execution": {
     "iopub.execute_input": "2021-10-02T15:50:56.020428Z",
     "iopub.status.busy": "2021-10-02T15:50:56.019359Z",
     "iopub.status.idle": "2021-10-02T15:50:57.230972Z",
     "shell.execute_reply": "2021-10-02T15:50:57.231643Z",
     "shell.execute_reply.started": "2021-10-02T15:48:58.957804Z"
    },
    "papermill": {
     "duration": 1.261039,
     "end_time": "2021-10-02T15:50:57.231826",
     "exception": false,
     "start_time": "2021-10-02T15:50:55.970787",
     "status": "completed"
    },
    "tags": []
   },
   "outputs": [
    {
     "data": {
      "image/png": "[encoded data removed]",
      "text/plain": [
       "<Figure size 2500x1000 with 2 Axes>"
      ]
     },
     "metadata": {},
     "output_type": "display_data"
    }
   ],
   "source": [
    "missingno.matrix(articles_df);"
   ]
  },
  {
   "cell_type": "markdown",
   "id": "6f35e4a4",
   "metadata": {
    "papermill": {
     "duration": 0.047246,
     "end_time": "2021-10-02T15:50:57.326979",
     "exception": false,
     "start_time": "2021-10-02T15:50:57.279733",
     "status": "completed"
    },
    "tags": []
   },
   "source": [
    "Pas de valeur manquante"
   ]
  },
  {
   "cell_type": "markdown",
   "id": "af530b1e",
   "metadata": {},
   "source": [
    "### Word_count"
   ]
  },
  {
   "cell_type": "code",
   "execution_count": 7,
   "id": "2b93ab95",
   "metadata": {
    "execution": {
     "iopub.execute_input": "2021-10-02T15:50:57.429357Z",
     "iopub.status.busy": "2021-10-02T15:50:57.428664Z",
     "iopub.status.idle": "2021-10-02T15:50:57.446805Z",
     "shell.execute_reply": "2021-10-02T15:50:57.447406Z",
     "shell.execute_reply.started": "2021-10-02T15:49:00.445413Z"
    },
    "papermill": {
     "duration": 0.073277,
     "end_time": "2021-10-02T15:50:57.447569",
     "exception": false,
     "start_time": "2021-10-02T15:50:57.374292",
     "status": "completed"
    },
    "tags": []
   },
   "outputs": [
    {
     "data": {
      "text/plain": [
       "count    364047.000000\n",
       "mean        190.897727\n",
       "std          59.502766\n",
       "min           0.000000\n",
       "25%         159.000000\n",
       "50%         186.000000\n",
       "75%         218.000000\n",
       "max        6690.000000\n",
       "Name: words_count, dtype: float64"
      ]
     },
     "execution_count": 7,
     "metadata": {},
     "output_type": "execute_result"
    }
   ],
   "source": [
    "articles_df['words_count'].describe()"
   ]
  },
  {
   "cell_type": "code",
   "execution_count": 9,
   "id": "3cd6e454",
   "metadata": {},
   "outputs": [
    {
     "name": "stdout",
     "output_type": "stream",
     "text": [
      "Nombre d'articles à 0 mots : 35\n"
     ]
    }
   ],
   "source": [
    "print(f\"Nombre d'articles à 0 mots : {len(articles_df[articles_df['words_count'] == 0])}\")"
   ]
  },
  {
   "cell_type": "code",
   "execution_count": 21,
   "id": "28216122",
   "metadata": {},
   "outputs": [
    {
     "name": "stdout",
     "output_type": "stream",
     "text": [
      "Nombre d'articles au-dessus de 500 mots : 541\n"
     ]
    }
   ],
   "source": [
    "print(f\"Nombre d'articles au-dessus de 500 mots : {len(articles_df[articles_df['words_count'] > 500])}\")"
   ]
  },
  {
   "cell_type": "code",
   "execution_count": 20,
   "id": "4f1560b1",
   "metadata": {
    "execution": {
     "iopub.execute_input": "2021-10-02T15:50:57.546080Z",
     "iopub.status.busy": "2021-10-02T15:50:57.545501Z",
     "iopub.status.idle": "2021-10-02T15:51:05.660708Z",
     "shell.execute_reply": "2021-10-02T15:51:05.660196Z",
     "shell.execute_reply.started": "2021-10-02T15:49:00.473133Z"
    },
    "papermill": {
     "duration": 8.165598,
     "end_time": "2021-10-02T15:51:05.660885",
     "exception": false,
     "start_time": "2021-10-02T15:50:57.495287",
     "status": "completed"
    },
    "tags": []
   },
   "outputs": [
    {
     "data": {
      "image/png": "[encoded data removed]",
      "text/plain": [
       "<Figure size 1200x600 with 1 Axes>"
      ]
     },
     "metadata": {},
     "output_type": "display_data"
    }
   ],
   "source": [
    "fig, ax = plt.subplots(figsize=(12, 6))\n",
    "sns.histplot(articles_df['words_count'], color=\"deepskyblue\", binwidth=5, ax=ax)\n",
    "plt.xlim([0, 500])\n",
    "plt.xlabel('Nombre de mots')\n",
    "plt.title('Distribution du nombre de mots par article');\n",
    "plt.show()"
   ]
  },
  {
   "cell_type": "markdown",
   "id": "3afe1fcc",
   "metadata": {},
   "source": [
    "### Article_id"
   ]
  },
  {
   "cell_type": "markdown",
   "id": "792fa5c6",
   "metadata": {},
   "source": [
    "Combien d'articles ?"
   ]
  },
  {
   "cell_type": "code",
   "execution_count": 64,
   "id": "e9b3ee97",
   "metadata": {},
   "outputs": [
    {
     "data": {
      "text/plain": [
       "364047"
      ]
     },
     "execution_count": 64,
     "metadata": {},
     "output_type": "execute_result"
    }
   ],
   "source": [
    "len(articles_df['article_id'].unique())"
   ]
  },
  {
   "cell_type": "markdown",
   "id": "59b6401d",
   "metadata": {},
   "source": [
    "### Category_id"
   ]
  },
  {
   "cell_type": "markdown",
   "id": "ef7c3885",
   "metadata": {},
   "source": [
    "Combien de catégories ?"
   ]
  },
  {
   "cell_type": "code",
   "execution_count": 65,
   "id": "546867c3",
   "metadata": {},
   "outputs": [
    {
     "data": {
      "text/plain": [
       "461"
      ]
     },
     "execution_count": 65,
     "metadata": {},
     "output_type": "execute_result"
    }
   ],
   "source": [
    "len(articles_df['category_id'].unique())"
   ]
  },
  {
   "cell_type": "markdown",
   "id": "a2df0cf3",
   "metadata": {},
   "source": [
    "Catégories ayant le plus d'articles"
   ]
  },
  {
   "cell_type": "code",
   "execution_count": 33,
   "id": "73c20c61",
   "metadata": {},
   "outputs": [
    {
     "data": {
      "text/html": [
       "<div>\n",
       "<style scoped>\n",
       "    .dataframe tbody tr th:only-of-type {\n",
       "        vertical-align: middle;\n",
       "    }\n",
       "\n",
       "    .dataframe tbody tr th {\n",
       "        vertical-align: top;\n",
       "    }\n",
       "\n",
       "    .dataframe thead th {\n",
       "        text-align: right;\n",
       "    }\n",
       "</style>\n",
       "<table border=\"1\" class=\"dataframe\">\n",
       "  <thead>\n",
       "    <tr style=\"text-align: right;\">\n",
       "      <th></th>\n",
       "      <th>article_id</th>\n",
       "    </tr>\n",
       "    <tr>\n",
       "      <th>category_id</th>\n",
       "      <th></th>\n",
       "    </tr>\n",
       "  </thead>\n",
       "  <tbody>\n",
       "    <tr>\n",
       "      <th>281</th>\n",
       "      <td>12817</td>\n",
       "    </tr>\n",
       "    <tr>\n",
       "      <th>375</th>\n",
       "      <td>10005</td>\n",
       "    </tr>\n",
       "    <tr>\n",
       "      <th>399</th>\n",
       "      <td>9049</td>\n",
       "    </tr>\n",
       "    <tr>\n",
       "      <th>412</th>\n",
       "      <td>8648</td>\n",
       "    </tr>\n",
       "    <tr>\n",
       "      <th>431</th>\n",
       "      <td>7759</td>\n",
       "    </tr>\n",
       "    <tr>\n",
       "      <th>428</th>\n",
       "      <td>7731</td>\n",
       "    </tr>\n",
       "    <tr>\n",
       "      <th>26</th>\n",
       "      <td>7343</td>\n",
       "    </tr>\n",
       "    <tr>\n",
       "      <th>7</th>\n",
       "      <td>6726</td>\n",
       "    </tr>\n",
       "    <tr>\n",
       "      <th>299</th>\n",
       "      <td>6634</td>\n",
       "    </tr>\n",
       "    <tr>\n",
       "      <th>301</th>\n",
       "      <td>6446</td>\n",
       "    </tr>\n",
       "  </tbody>\n",
       "</table>\n",
       "</div>"
      ],
      "text/plain": [
       "             article_id\n",
       "category_id            \n",
       "281               12817\n",
       "375               10005\n",
       "399                9049\n",
       "412                8648\n",
       "431                7759\n",
       "428                7731\n",
       "26                 7343\n",
       "7                  6726\n",
       "299                6634\n",
       "301                6446"
      ]
     },
     "execution_count": 33,
     "metadata": {},
     "output_type": "execute_result"
    }
   ],
   "source": [
    "articles_df.groupby('category_id').count().sort_values(by='article_id', ascending=False).head(10).iloc[:, :1]"
   ]
  },
  {
   "cell_type": "code",
   "execution_count": 34,
   "id": "0afc51e2",
   "metadata": {
    "execution": {
     "iopub.execute_input": "2021-10-02T15:51:05.872374Z",
     "iopub.status.busy": "2021-10-02T15:51:05.871738Z",
     "iopub.status.idle": "2021-10-02T15:51:06.496436Z",
     "shell.execute_reply": "2021-10-02T15:51:06.496974Z",
     "shell.execute_reply.started": "2021-10-02T15:49:10.039069Z"
    },
    "papermill": {
     "duration": 0.676756,
     "end_time": "2021-10-02T15:51:06.497151",
     "exception": false,
     "start_time": "2021-10-02T15:51:05.820395",
     "status": "completed"
    },
    "tags": []
   },
   "outputs": [
    {
     "data": {
      "image/png": "[encoded data removed]",
      "text/plain": [
       "<Figure size 1200x600 with 1 Axes>"
      ]
     },
     "metadata": {},
     "output_type": "display_data"
    }
   ],
   "source": [
    "fig, ax = plt.subplots(figsize=(12, 6))\n",
    "sns.histplot(articles_df['category_id'], color=\"deepskyblue\", binwidth=1, ax=ax)\n",
    "plt.title('Distribution des catégories');\n",
    "plt.show()"
   ]
  },
  {
   "cell_type": "markdown",
   "id": "45595fa0",
   "metadata": {},
   "source": [
    "### Created_at_ts"
   ]
  },
  {
   "cell_type": "markdown",
   "id": "288b1043",
   "metadata": {},
   "source": [
    "Nombre d'articles créés par année"
   ]
  },
  {
   "cell_type": "code",
   "execution_count": 45,
   "id": "1b920076",
   "metadata": {},
   "outputs": [],
   "source": [
    "articles_df['created_at_dt'] = pd.to_datetime(articles_df['created_at_ts'] / 1000, unit='s')"
   ]
  },
  {
   "cell_type": "code",
   "execution_count": 53,
   "id": "49c1160b",
   "metadata": {},
   "outputs": [
    {
     "data": {
      "text/html": [
       "<div>\n",
       "<style scoped>\n",
       "    .dataframe tbody tr th:only-of-type {\n",
       "        vertical-align: middle;\n",
       "    }\n",
       "\n",
       "    .dataframe tbody tr th {\n",
       "        vertical-align: top;\n",
       "    }\n",
       "\n",
       "    .dataframe thead th {\n",
       "        text-align: right;\n",
       "    }\n",
       "</style>\n",
       "<table border=\"1\" class=\"dataframe\">\n",
       "  <thead>\n",
       "    <tr style=\"text-align: right;\">\n",
       "      <th></th>\n",
       "      <th>created_at_dt</th>\n",
       "      <th>article_id</th>\n",
       "    </tr>\n",
       "  </thead>\n",
       "  <tbody>\n",
       "    <tr>\n",
       "      <th>0</th>\n",
       "      <td>2006</td>\n",
       "      <td>9</td>\n",
       "    </tr>\n",
       "    <tr>\n",
       "      <th>1</th>\n",
       "      <td>2007</td>\n",
       "      <td>33</td>\n",
       "    </tr>\n",
       "    <tr>\n",
       "      <th>2</th>\n",
       "      <td>2008</td>\n",
       "      <td>7</td>\n",
       "    </tr>\n",
       "    <tr>\n",
       "      <th>3</th>\n",
       "      <td>2009</td>\n",
       "      <td>13</td>\n",
       "    </tr>\n",
       "    <tr>\n",
       "      <th>4</th>\n",
       "      <td>2010</td>\n",
       "      <td>61</td>\n",
       "    </tr>\n",
       "    <tr>\n",
       "      <th>5</th>\n",
       "      <td>2011</td>\n",
       "      <td>170</td>\n",
       "    </tr>\n",
       "    <tr>\n",
       "      <th>6</th>\n",
       "      <td>2012</td>\n",
       "      <td>341</td>\n",
       "    </tr>\n",
       "    <tr>\n",
       "      <th>7</th>\n",
       "      <td>2013</td>\n",
       "      <td>18895</td>\n",
       "    </tr>\n",
       "    <tr>\n",
       "      <th>8</th>\n",
       "      <td>2014</td>\n",
       "      <td>34243</td>\n",
       "    </tr>\n",
       "    <tr>\n",
       "      <th>9</th>\n",
       "      <td>2015</td>\n",
       "      <td>49604</td>\n",
       "    </tr>\n",
       "    <tr>\n",
       "      <th>10</th>\n",
       "      <td>2016</td>\n",
       "      <td>58362</td>\n",
       "    </tr>\n",
       "    <tr>\n",
       "      <th>11</th>\n",
       "      <td>2017</td>\n",
       "      <td>155358</td>\n",
       "    </tr>\n",
       "    <tr>\n",
       "      <th>12</th>\n",
       "      <td>2018</td>\n",
       "      <td>46951</td>\n",
       "    </tr>\n",
       "  </tbody>\n",
       "</table>\n",
       "</div>"
      ],
      "text/plain": [
       "    created_at_dt  article_id\n",
       "0            2006           9\n",
       "1            2007          33\n",
       "2            2008           7\n",
       "3            2009          13\n",
       "4            2010          61\n",
       "5            2011         170\n",
       "6            2012         341\n",
       "7            2013       18895\n",
       "8            2014       34243\n",
       "9            2015       49604\n",
       "10           2016       58362\n",
       "11           2017      155358\n",
       "12           2018       46951"
      ]
     },
     "execution_count": 53,
     "metadata": {},
     "output_type": "execute_result"
    }
   ],
   "source": [
    "articles_df.sort_values(by='created_at_dt').groupby(articles_df['created_at_dt'].dt.year).count().iloc[:, :1].reset_index()"
   ]
  },
  {
   "cell_type": "code",
   "execution_count": 55,
   "id": "adef2774",
   "metadata": {},
   "outputs": [
    {
     "data": {
      "image/png": "[encoded data removed]",
      "text/plain": [
       "<Figure size 1200x600 with 1 Axes>"
      ]
     },
     "metadata": {},
     "output_type": "display_data"
    }
   ],
   "source": [
    "fig, ax = plt.subplots(figsize=(12, 6))\n",
    "sns.histplot(articles_df.sort_values(by='created_at_dt')['created_at_dt'].dt.year, color=\"deepskyblue\",\n",
    "             binwidth=1, ax=ax)\n",
    "plt.xlabel('Date de création')\n",
    "plt.title('Distribution des dates de création');\n",
    "plt.show()"
   ]
  },
  {
   "cell_type": "markdown",
   "id": "5905aefa",
   "metadata": {},
   "source": [
    "*[(Retour sommaire)](#Sommaire)*"
   ]
  },
  {
   "cell_type": "markdown",
   "id": "117b6869",
   "metadata": {},
   "source": [
    "***"
   ]
  },
  {
   "cell_type": "markdown",
   "id": "77dc470d",
   "metadata": {},
   "source": [
    "## 2.2 clicks_hour_{}.csv"
   ]
  },
  {
   "cell_type": "markdown",
   "id": "9792aec2",
   "metadata": {
    "papermill": {
     "duration": 0.055116,
     "end_time": "2021-10-02T15:51:06.716837",
     "exception": false,
     "start_time": "2021-10-02T15:51:06.661721",
     "status": "completed"
    },
    "tags": []
   },
   "source": [
    "### Contenu"
   ]
  },
  {
   "cell_type": "code",
   "execution_count": 56,
   "id": "93d1b01c",
   "metadata": {
    "execution": {
     "iopub.execute_input": "2021-10-02T15:51:06.819133Z",
     "iopub.status.busy": "2021-10-02T15:51:06.818521Z",
     "iopub.status.idle": "2021-10-02T15:51:06.834065Z",
     "shell.execute_reply": "2021-10-02T15:51:06.834567Z",
     "shell.execute_reply.started": "2021-10-02T15:49:10.810041Z"
    },
    "papermill": {
     "duration": 0.068228,
     "end_time": "2021-10-02T15:51:06.834742",
     "exception": false,
     "start_time": "2021-10-02T15:51:06.766514",
     "status": "completed"
    },
    "tags": []
   },
   "outputs": [],
   "source": [
    "clicks_samp_df = pd.read_csv('data/clicks_sample.csv')"
   ]
  },
  {
   "cell_type": "code",
   "execution_count": 57,
   "id": "0c360589",
   "metadata": {
    "execution": {
     "iopub.execute_input": "2021-10-02T15:51:06.936682Z",
     "iopub.status.busy": "2021-10-02T15:51:06.936075Z",
     "iopub.status.idle": "2021-10-02T15:51:06.948407Z",
     "shell.execute_reply": "2021-10-02T15:51:06.949015Z",
     "shell.execute_reply.started": "2021-10-02T15:49:10.826683Z"
    },
    "papermill": {
     "duration": 0.064544,
     "end_time": "2021-10-02T15:51:06.949198",
     "exception": false,
     "start_time": "2021-10-02T15:51:06.884654",
     "status": "completed"
    },
    "tags": []
   },
   "outputs": [
    {
     "data": {
      "text/html": [
       "<div>\n",
       "<style scoped>\n",
       "    .dataframe tbody tr th:only-of-type {\n",
       "        vertical-align: middle;\n",
       "    }\n",
       "\n",
       "    .dataframe tbody tr th {\n",
       "        vertical-align: top;\n",
       "    }\n",
       "\n",
       "    .dataframe thead th {\n",
       "        text-align: right;\n",
       "    }\n",
       "</style>\n",
       "<table border=\"1\" class=\"dataframe\">\n",
       "  <thead>\n",
       "    <tr style=\"text-align: right;\">\n",
       "      <th></th>\n",
       "      <th>user_id</th>\n",
       "      <th>session_id</th>\n",
       "      <th>session_start</th>\n",
       "      <th>session_size</th>\n",
       "      <th>click_article_id</th>\n",
       "      <th>click_timestamp</th>\n",
       "      <th>click_environment</th>\n",
       "      <th>click_deviceGroup</th>\n",
       "      <th>click_os</th>\n",
       "      <th>click_country</th>\n",
       "      <th>click_region</th>\n",
       "      <th>click_referrer_type</th>\n",
       "    </tr>\n",
       "  </thead>\n",
       "  <tbody>\n",
       "    <tr>\n",
       "      <th>0</th>\n",
       "      <td>0</td>\n",
       "      <td>1506825423271737</td>\n",
       "      <td>1506825423000</td>\n",
       "      <td>2</td>\n",
       "      <td>157541</td>\n",
       "      <td>1506826828020</td>\n",
       "      <td>4</td>\n",
       "      <td>3</td>\n",
       "      <td>20</td>\n",
       "      <td>1</td>\n",
       "      <td>20</td>\n",
       "      <td>2</td>\n",
       "    </tr>\n",
       "    <tr>\n",
       "      <th>1</th>\n",
       "      <td>0</td>\n",
       "      <td>1506825423271737</td>\n",
       "      <td>1506825423000</td>\n",
       "      <td>2</td>\n",
       "      <td>68866</td>\n",
       "      <td>1506826858020</td>\n",
       "      <td>4</td>\n",
       "      <td>3</td>\n",
       "      <td>20</td>\n",
       "      <td>1</td>\n",
       "      <td>20</td>\n",
       "      <td>2</td>\n",
       "    </tr>\n",
       "    <tr>\n",
       "      <th>2</th>\n",
       "      <td>1</td>\n",
       "      <td>1506825426267738</td>\n",
       "      <td>1506825426000</td>\n",
       "      <td>2</td>\n",
       "      <td>235840</td>\n",
       "      <td>1506827017951</td>\n",
       "      <td>4</td>\n",
       "      <td>1</td>\n",
       "      <td>17</td>\n",
       "      <td>1</td>\n",
       "      <td>16</td>\n",
       "      <td>2</td>\n",
       "    </tr>\n",
       "    <tr>\n",
       "      <th>3</th>\n",
       "      <td>1</td>\n",
       "      <td>1506825426267738</td>\n",
       "      <td>1506825426000</td>\n",
       "      <td>2</td>\n",
       "      <td>96663</td>\n",
       "      <td>1506827047951</td>\n",
       "      <td>4</td>\n",
       "      <td>1</td>\n",
       "      <td>17</td>\n",
       "      <td>1</td>\n",
       "      <td>16</td>\n",
       "      <td>2</td>\n",
       "    </tr>\n",
       "    <tr>\n",
       "      <th>4</th>\n",
       "      <td>2</td>\n",
       "      <td>1506825435299739</td>\n",
       "      <td>1506825435000</td>\n",
       "      <td>2</td>\n",
       "      <td>119592</td>\n",
       "      <td>1506827090575</td>\n",
       "      <td>4</td>\n",
       "      <td>1</td>\n",
       "      <td>17</td>\n",
       "      <td>1</td>\n",
       "      <td>24</td>\n",
       "      <td>2</td>\n",
       "    </tr>\n",
       "  </tbody>\n",
       "</table>\n",
       "</div>"
      ],
      "text/plain": [
       "   user_id        session_id  session_start  session_size  click_article_id  \\\n",
       "0        0  1506825423271737  1506825423000             2            157541   \n",
       "1        0  1506825423271737  1506825423000             2             68866   \n",
       "2        1  1506825426267738  1506825426000             2            235840   \n",
       "3        1  1506825426267738  1506825426000             2             96663   \n",
       "4        2  1506825435299739  1506825435000             2            119592   \n",
       "\n",
       "   click_timestamp  click_environment  click_deviceGroup  click_os  \\\n",
       "0    1506826828020                  4                  3        20   \n",
       "1    1506826858020                  4                  3        20   \n",
       "2    1506827017951                  4                  1        17   \n",
       "3    1506827047951                  4                  1        17   \n",
       "4    1506827090575                  4                  1        17   \n",
       "\n",
       "   click_country  click_region  click_referrer_type  \n",
       "0              1            20                    2  \n",
       "1              1            20                    2  \n",
       "2              1            16                    2  \n",
       "3              1            16                    2  \n",
       "4              1            24                    2  "
      ]
     },
     "execution_count": 57,
     "metadata": {},
     "output_type": "execute_result"
    }
   ],
   "source": [
    "clicks_samp_df.head(5)"
   ]
  },
  {
   "cell_type": "markdown",
   "id": "353b9eed",
   "metadata": {
    "papermill": {
     "duration": 0.050189,
     "end_time": "2021-10-02T15:51:07.160773",
     "exception": false,
     "start_time": "2021-10-02T15:51:07.110584",
     "status": "completed"
    },
    "tags": []
   },
   "source": [
    "Les 12 colonnes de clicks_{}.csv (la signification des colonnes est déduite des données) :\n",
    "- **user_id** : ID d'utilisateur\n",
    "- **session_id** : ID de session\n",
    "- **session_start** : Démarrage de la session (timestamp)\n",
    "- **session_size** : Nombre de clicks pas session\n",
    "- **click_article_id** : ID de l'article que l'utilisateur consulte\n",
    "- **click_timestamp** : Moment du click utilisateur (timestamp)\n",
    "- **click_environment** : Environnement d'accès (User Agent) de l'utilisateur\n",
    "- **click_deviceGroup** : Groupe de terminal utilisé\n",
    "- **click_os** : OS utilisateur\n",
    "- **click_country** : Localisation (pays) depuis laquelle l'utilisateur a clické\n",
    "- **click_region** : Localisation (région) depuis laquelle l'utilisateur a clické\n",
    "- **click_referrer_type** : Origine du click"
   ]
  },
  {
   "cell_type": "markdown",
   "id": "b26c2784",
   "metadata": {
    "papermill": {
     "duration": 0.055116,
     "end_time": "2021-10-02T15:51:06.716837",
     "exception": false,
     "start_time": "2021-10-02T15:51:06.661721",
     "status": "completed"
    },
    "tags": []
   },
   "source": [
    "### Aggrégation de tous les fichiers du dossier \"clicks\""
   ]
  },
  {
   "cell_type": "code",
   "execution_count": 114,
   "id": "623af9fe",
   "metadata": {},
   "outputs": [],
   "source": [
    "def get_clicks():\n",
    "    \n",
    "    \"\"\"\n",
    "    Renvoi une aggrégation de tous les fichiers clicks_hour_{}.csv du dossier data\n",
    "    Lit le CSV si une version existe sur disque, sinon la construit et l'écrit dans le dossier data\n",
    "        @return <pd.DataFrame> : dataframe des clicks utilisateurs\n",
    "    \"\"\"\n",
    "    \n",
    "    if not os.path.exists('data/clicks.csv'):\n",
    "        clicks_dir = \"data/clicks\"\n",
    "        clicks_path = []\n",
    "        clicks_path = clicks_path + sorted(\n",
    "                [os.path.join(clicks_dir, fname) for fname in os.listdir(clicks_dir) if fname.endswith(\".csv\")]\n",
    "            )\n",
    "        print(\"Number of clicks csv:\", len(clicks_path))\n",
    "        _li = []\n",
    "        for filename in clicks_path:\n",
    "            df = pd.read_csv(filename, index_col=None, header=0)\n",
    "            _li.append(df)\n",
    "        clicks = pd.concat(_li, axis=0, ignore_index=True)\n",
    "        clicks.to_csv('data/clicks.csv', index=False)\n",
    "    else:\n",
    "        clicks= pd.read_csv('data/clicks.csv')\n",
    "    return clicks"
   ]
  },
  {
   "cell_type": "code",
   "execution_count": 99,
   "id": "f97e922f",
   "metadata": {},
   "outputs": [
    {
     "name": "stdout",
     "output_type": "stream",
     "text": [
      "Number of clicks csv: 385\n",
      "CPU times: total: 46.2 s\n",
      "Wall time: 46.8 s\n"
     ]
    }
   ],
   "source": [
    "%%time\n",
    "clicks_df = get_clicks()"
   ]
  },
  {
   "cell_type": "code",
   "execution_count": 115,
   "id": "247e7e02",
   "metadata": {},
   "outputs": [],
   "source": [
    "clicks_df = pd.read_csv('data/clicks.csv')"
   ]
  },
  {
   "cell_type": "markdown",
   "id": "346cff71",
   "metadata": {},
   "source": [
    "### Description"
   ]
  },
  {
   "cell_type": "code",
   "execution_count": 61,
   "id": "f3cce87e",
   "metadata": {},
   "outputs": [
    {
     "data": {
      "text/html": [
       "<div>\n",
       "<style scoped>\n",
       "    .dataframe tbody tr th:only-of-type {\n",
       "        vertical-align: middle;\n",
       "    }\n",
       "\n",
       "    .dataframe tbody tr th {\n",
       "        vertical-align: top;\n",
       "    }\n",
       "\n",
       "    .dataframe thead th {\n",
       "        text-align: right;\n",
       "    }\n",
       "</style>\n",
       "<table border=\"1\" class=\"dataframe\">\n",
       "  <thead>\n",
       "    <tr style=\"text-align: right;\">\n",
       "      <th></th>\n",
       "      <th>user_id</th>\n",
       "      <th>session_id</th>\n",
       "      <th>session_start</th>\n",
       "      <th>session_size</th>\n",
       "      <th>click_article_id</th>\n",
       "      <th>click_timestamp</th>\n",
       "      <th>click_environment</th>\n",
       "      <th>click_deviceGroup</th>\n",
       "      <th>click_os</th>\n",
       "      <th>click_country</th>\n",
       "      <th>click_region</th>\n",
       "      <th>click_referrer_type</th>\n",
       "    </tr>\n",
       "  </thead>\n",
       "  <tbody>\n",
       "    <tr>\n",
       "      <th>0</th>\n",
       "      <td>0</td>\n",
       "      <td>1506825423271737</td>\n",
       "      <td>1506825423000</td>\n",
       "      <td>2</td>\n",
       "      <td>157541</td>\n",
       "      <td>1506826828020</td>\n",
       "      <td>4</td>\n",
       "      <td>3</td>\n",
       "      <td>20</td>\n",
       "      <td>1</td>\n",
       "      <td>20</td>\n",
       "      <td>2</td>\n",
       "    </tr>\n",
       "    <tr>\n",
       "      <th>1</th>\n",
       "      <td>0</td>\n",
       "      <td>1506825423271737</td>\n",
       "      <td>1506825423000</td>\n",
       "      <td>2</td>\n",
       "      <td>68866</td>\n",
       "      <td>1506826858020</td>\n",
       "      <td>4</td>\n",
       "      <td>3</td>\n",
       "      <td>20</td>\n",
       "      <td>1</td>\n",
       "      <td>20</td>\n",
       "      <td>2</td>\n",
       "    </tr>\n",
       "    <tr>\n",
       "      <th>2</th>\n",
       "      <td>1</td>\n",
       "      <td>1506825426267738</td>\n",
       "      <td>1506825426000</td>\n",
       "      <td>2</td>\n",
       "      <td>235840</td>\n",
       "      <td>1506827017951</td>\n",
       "      <td>4</td>\n",
       "      <td>1</td>\n",
       "      <td>17</td>\n",
       "      <td>1</td>\n",
       "      <td>16</td>\n",
       "      <td>2</td>\n",
       "    </tr>\n",
       "    <tr>\n",
       "      <th>3</th>\n",
       "      <td>1</td>\n",
       "      <td>1506825426267738</td>\n",
       "      <td>1506825426000</td>\n",
       "      <td>2</td>\n",
       "      <td>96663</td>\n",
       "      <td>1506827047951</td>\n",
       "      <td>4</td>\n",
       "      <td>1</td>\n",
       "      <td>17</td>\n",
       "      <td>1</td>\n",
       "      <td>16</td>\n",
       "      <td>2</td>\n",
       "    </tr>\n",
       "    <tr>\n",
       "      <th>4</th>\n",
       "      <td>2</td>\n",
       "      <td>1506825435299739</td>\n",
       "      <td>1506825435000</td>\n",
       "      <td>2</td>\n",
       "      <td>119592</td>\n",
       "      <td>1506827090575</td>\n",
       "      <td>4</td>\n",
       "      <td>1</td>\n",
       "      <td>17</td>\n",
       "      <td>1</td>\n",
       "      <td>24</td>\n",
       "      <td>2</td>\n",
       "    </tr>\n",
       "  </tbody>\n",
       "</table>\n",
       "</div>"
      ],
      "text/plain": [
       "  user_id        session_id  session_start session_size click_article_id  \\\n",
       "0       0  1506825423271737  1506825423000            2           157541   \n",
       "1       0  1506825423271737  1506825423000            2            68866   \n",
       "2       1  1506825426267738  1506825426000            2           235840   \n",
       "3       1  1506825426267738  1506825426000            2            96663   \n",
       "4       2  1506825435299739  1506825435000            2           119592   \n",
       "\n",
       "  click_timestamp click_environment click_deviceGroup click_os click_country  \\\n",
       "0   1506826828020                 4                 3       20             1   \n",
       "1   1506826858020                 4                 3       20             1   \n",
       "2   1506827017951                 4                 1       17             1   \n",
       "3   1506827047951                 4                 1       17             1   \n",
       "4   1506827090575                 4                 1       17             1   \n",
       "\n",
       "  click_region click_referrer_type  \n",
       "0           20                   2  \n",
       "1           20                   2  \n",
       "2           16                   2  \n",
       "3           16                   2  \n",
       "4           24                   2  "
      ]
     },
     "execution_count": 61,
     "metadata": {},
     "output_type": "execute_result"
    }
   ],
   "source": [
    "clicks_df.head()"
   ]
  },
  {
   "cell_type": "code",
   "execution_count": 62,
   "id": "1e612008",
   "metadata": {},
   "outputs": [
    {
     "data": {
      "text/html": [
       "<div>\n",
       "<style scoped>\n",
       "    .dataframe tbody tr th:only-of-type {\n",
       "        vertical-align: middle;\n",
       "    }\n",
       "\n",
       "    .dataframe tbody tr th {\n",
       "        vertical-align: top;\n",
       "    }\n",
       "\n",
       "    .dataframe thead th {\n",
       "        text-align: right;\n",
       "    }\n",
       "</style>\n",
       "<table border=\"1\" class=\"dataframe\">\n",
       "  <thead>\n",
       "    <tr style=\"text-align: right;\">\n",
       "      <th></th>\n",
       "      <th>user_id</th>\n",
       "      <th>session_id</th>\n",
       "      <th>session_start</th>\n",
       "      <th>session_size</th>\n",
       "      <th>click_article_id</th>\n",
       "      <th>click_timestamp</th>\n",
       "      <th>click_environment</th>\n",
       "      <th>click_deviceGroup</th>\n",
       "      <th>click_os</th>\n",
       "      <th>click_country</th>\n",
       "      <th>click_region</th>\n",
       "      <th>click_referrer_type</th>\n",
       "    </tr>\n",
       "  </thead>\n",
       "  <tbody>\n",
       "    <tr>\n",
       "      <th>count</th>\n",
       "      <td>2988181</td>\n",
       "      <td>2988181</td>\n",
       "      <td>2988181</td>\n",
       "      <td>2988181</td>\n",
       "      <td>2988181</td>\n",
       "      <td>2988181</td>\n",
       "      <td>2988181</td>\n",
       "      <td>2988181</td>\n",
       "      <td>2988181</td>\n",
       "      <td>2988181</td>\n",
       "      <td>2988181</td>\n",
       "      <td>2988181</td>\n",
       "    </tr>\n",
       "    <tr>\n",
       "      <th>unique</th>\n",
       "      <td>322897</td>\n",
       "      <td>1048594</td>\n",
       "      <td>646874</td>\n",
       "      <td>72</td>\n",
       "      <td>46033</td>\n",
       "      <td>2983198</td>\n",
       "      <td>3</td>\n",
       "      <td>5</td>\n",
       "      <td>8</td>\n",
       "      <td>11</td>\n",
       "      <td>28</td>\n",
       "      <td>7</td>\n",
       "    </tr>\n",
       "    <tr>\n",
       "      <th>top</th>\n",
       "      <td>5890</td>\n",
       "      <td>1507563657895091</td>\n",
       "      <td>1507563657000</td>\n",
       "      <td>2</td>\n",
       "      <td>160974</td>\n",
       "      <td>1506961009961</td>\n",
       "      <td>4</td>\n",
       "      <td>1</td>\n",
       "      <td>17</td>\n",
       "      <td>1</td>\n",
       "      <td>25</td>\n",
       "      <td>2</td>\n",
       "    </tr>\n",
       "    <tr>\n",
       "      <th>freq</th>\n",
       "      <td>1232</td>\n",
       "      <td>124</td>\n",
       "      <td>127</td>\n",
       "      <td>1260372</td>\n",
       "      <td>37213</td>\n",
       "      <td>3</td>\n",
       "      <td>2904478</td>\n",
       "      <td>1823162</td>\n",
       "      <td>1738138</td>\n",
       "      <td>2852406</td>\n",
       "      <td>804985</td>\n",
       "      <td>1602601</td>\n",
       "    </tr>\n",
       "  </tbody>\n",
       "</table>\n",
       "</div>"
      ],
      "text/plain": [
       "        user_id        session_id  session_start  session_size  \\\n",
       "count   2988181           2988181        2988181       2988181   \n",
       "unique   322897           1048594         646874            72   \n",
       "top        5890  1507563657895091  1507563657000             2   \n",
       "freq       1232               124            127       1260372   \n",
       "\n",
       "        click_article_id  click_timestamp  click_environment  \\\n",
       "count            2988181          2988181            2988181   \n",
       "unique             46033          2983198                  3   \n",
       "top               160974    1506961009961                  4   \n",
       "freq               37213                3            2904478   \n",
       "\n",
       "        click_deviceGroup  click_os  click_country  click_region  \\\n",
       "count             2988181   2988181        2988181       2988181   \n",
       "unique                  5         8             11            28   \n",
       "top                     1        17              1            25   \n",
       "freq              1823162   1738138        2852406        804985   \n",
       "\n",
       "        click_referrer_type  \n",
       "count               2988181  \n",
       "unique                    7  \n",
       "top                       2  \n",
       "freq                1602601  "
      ]
     },
     "execution_count": 62,
     "metadata": {},
     "output_type": "execute_result"
    }
   ],
   "source": [
    "clicks_df.describe(include='all')"
   ]
  },
  {
   "cell_type": "markdown",
   "id": "6884aa7d",
   "metadata": {},
   "source": [
    "### Valeurs manquantes"
   ]
  },
  {
   "cell_type": "code",
   "execution_count": 66,
   "id": "aad82ce6",
   "metadata": {},
   "outputs": [
    {
     "data": {
      "text/plain": [
       "<AxesSubplot: >"
      ]
     },
     "execution_count": 66,
     "metadata": {},
     "output_type": "execute_result"
    },
    {
     "data": {
      "image/png": "[encoded data removed]",
      "text/plain": [
       "<Figure size 2500x1000 with 2 Axes>"
      ]
     },
     "metadata": {},
     "output_type": "display_data"
    }
   ],
   "source": [
    "missingno.matrix(clicks_df)"
   ]
  },
  {
   "cell_type": "markdown",
   "id": "87c77fd7",
   "metadata": {},
   "source": [
    "### Distributions"
   ]
  },
  {
   "cell_type": "markdown",
   "id": "80b9f105",
   "metadata": {},
   "source": [
    "Colonnes liées à la session, la localisation et l'environnement technique"
   ]
  },
  {
   "cell_type": "code",
   "execution_count": 91,
   "id": "52c81c73",
   "metadata": {
    "scrolled": false
   },
   "outputs": [
    {
     "data": {
      "image/png": "[encoded data removed]",
      "text/plain": [
       "<Figure size 1200x800 with 6 Axes>"
      ]
     },
     "metadata": {},
     "output_type": "display_data"
    }
   ],
   "source": [
    "fig, ax = plt.subplots(2, 3, figsize=(12, 8))\n",
    "sns.histplot(clicks_df.loc[clicks_df['session_size'] <= 25, 'session_size'], color=\"deepskyblue\", binwidth=1, ax=ax[0, 0])\n",
    "sns.histplot(clicks_df['click_environment'], color=\"deepskyblue\", ax=ax[0, 1])\n",
    "sns.histplot(clicks_df['click_deviceGroup'], color=\"deepskyblue\", ax=ax[0, 2])\n",
    "sns.histplot(clicks_df['click_os'], color=\"deepskyblue\", binwidth=1, ax=ax[1, 0])\n",
    "sns.histplot(clicks_df['click_country'], color=\"deepskyblue\", binwidth=1, ax=ax[1, 1])\n",
    "sns.histplot(clicks_df['click_region'], color=\"deepskyblue\", binwidth=1, ax=ax[1, 2])\n",
    "plt.show()"
   ]
  },
  {
   "cell_type": "markdown",
   "id": "7570054a",
   "metadata": {},
   "source": [
    "Dates des clicks"
   ]
  },
  {
   "cell_type": "code",
   "execution_count": 74,
   "id": "d0099225",
   "metadata": {},
   "outputs": [
    {
     "name": "stderr",
     "output_type": "stream",
     "text": [
      "C:\\Users\\aledo\\AppData\\Local\\Temp\\ipykernel_5456\\2989924952.py:2: SettingWithCopyWarning: \n",
      "A value is trying to be set on a copy of a slice from a DataFrame.\n",
      "Try using .loc[row_indexer,col_indexer] = value instead\n",
      "\n",
      "See the caveats in the documentation: https://pandas.pydata.org/pandas-docs/stable/user_guide/indexing.html#returning-a-view-versus-a-copy\n",
      "  clicks_date['click_dt'] = pd.to_datetime(clicks_date['click_timestamp'] / 1000, unit='s')\n"
     ]
    }
   ],
   "source": [
    "clicks_date = clicks_df[['click_timestamp']]\n",
    "clicks_date['click_dt'] = pd.to_datetime(clicks_date['click_timestamp'] / 1000, unit='s')"
   ]
  },
  {
   "cell_type": "code",
   "execution_count": 78,
   "id": "b182600b",
   "metadata": {},
   "outputs": [
    {
     "data": {
      "text/html": [
       "<div>\n",
       "<style scoped>\n",
       "    .dataframe tbody tr th:only-of-type {\n",
       "        vertical-align: middle;\n",
       "    }\n",
       "\n",
       "    .dataframe tbody tr th {\n",
       "        vertical-align: top;\n",
       "    }\n",
       "\n",
       "    .dataframe thead th {\n",
       "        text-align: right;\n",
       "    }\n",
       "</style>\n",
       "<table border=\"1\" class=\"dataframe\">\n",
       "  <thead>\n",
       "    <tr style=\"text-align: right;\">\n",
       "      <th></th>\n",
       "      <th>level_0</th>\n",
       "      <th>level_1</th>\n",
       "      <th>click_timestamp</th>\n",
       "    </tr>\n",
       "  </thead>\n",
       "  <tbody>\n",
       "    <tr>\n",
       "      <th>0</th>\n",
       "      <td>2017</td>\n",
       "      <td>10</td>\n",
       "      <td>2988167</td>\n",
       "    </tr>\n",
       "    <tr>\n",
       "      <th>1</th>\n",
       "      <td>2017</td>\n",
       "      <td>11</td>\n",
       "      <td>14</td>\n",
       "    </tr>\n",
       "  </tbody>\n",
       "</table>\n",
       "</div>"
      ],
      "text/plain": [
       "   level_0  level_1  click_timestamp\n",
       "0     2017       10          2988167\n",
       "1     2017       11               14"
      ]
     },
     "execution_count": 78,
     "metadata": {},
     "output_type": "execute_result"
    }
   ],
   "source": [
    "clicks_date.sort_values(by='click_dt').groupby([\n",
    "    clicks_date['click_dt'].dt.year.values,\n",
    "    clicks_date['click_dt'].dt.month.values\n",
    "]).count().iloc[:, :1].reset_index()"
   ]
  },
  {
   "cell_type": "code",
   "execution_count": 81,
   "id": "52d5fe84",
   "metadata": {},
   "outputs": [
    {
     "data": {
      "text/plain": [
       "3238552"
      ]
     },
     "execution_count": 81,
     "metadata": {},
     "output_type": "execute_result"
    }
   ],
   "source": [
    "del clicks_date\n",
    "gc.collect()"
   ]
  },
  {
   "cell_type": "markdown",
   "id": "0354001e",
   "metadata": {},
   "source": [
    "### Corrélations linéaires"
   ]
  },
  {
   "cell_type": "code",
   "execution_count": 88,
   "id": "5e60e00c",
   "metadata": {},
   "outputs": [
    {
     "data": {
      "text/plain": [
       "<AxesSubplot: >"
      ]
     },
     "execution_count": 88,
     "metadata": {},
     "output_type": "execute_result"
    },
    {
     "data": {
      "image/png": "[encoded data removed]",
      "text/plain": [
       "<Figure size 640x480 with 2 Axes>"
      ]
     },
     "metadata": {},
     "output_type": "display_data"
    }
   ],
   "source": [
    "sns.heatmap(clicks_df[['session_size', 'click_deviceGroup', 'click_os', 'click_region']].astype('float64').corr(),\n",
    "            cmap=sns.color_palette('coolwarm'))"
   ]
  },
  {
   "cell_type": "markdown",
   "id": "86465435",
   "metadata": {},
   "source": [
    "*[(Retour sommaire)](#Sommaire)*"
   ]
  },
  {
   "cell_type": "markdown",
   "id": "a3540e52",
   "metadata": {},
   "source": [
    "***"
   ]
  },
  {
   "cell_type": "markdown",
   "id": "8c141451",
   "metadata": {},
   "source": [
    "# 3. Modèle de recommandation Collaborative filtering"
   ]
  },
  {
   "cell_type": "markdown",
   "id": "6a2ecfb6",
   "metadata": {},
   "source": [
    "<div class=\"alert alert-block alert-info\">\n",
    "\n",
    "Le développement ci-dessous d'inspire des notebooks Kaggle suivant :\n",
    "- https://www.kaggle.com/code/tiramysu/how-to-build-recommendation-engine\n",
    "- https://www.kaggle.com/code/devmaxime/intro-to-recommendation-systems/notebook\n",
    "    \n",
    "    \n",
    "Et l'article suivant :\n",
    "- https://realpython.com/build-recommendation-engine-collaborative-filtering/#using-python-to-build-recommenders\n",
    "    \n",
    "</div>"
   ]
  },
  {
   "cell_type": "markdown",
   "id": "2a56a2ef",
   "metadata": {},
   "source": [
    "## 3.1 Préparation des données"
   ]
  },
  {
   "cell_type": "code",
   "execution_count": 7,
   "id": "ecbe1029",
   "metadata": {
    "scrolled": true
   },
   "outputs": [
    {
     "data": {
      "text/html": [
       "<div>\n",
       "<style scoped>\n",
       "    .dataframe tbody tr th:only-of-type {\n",
       "        vertical-align: middle;\n",
       "    }\n",
       "\n",
       "    .dataframe tbody tr th {\n",
       "        vertical-align: top;\n",
       "    }\n",
       "\n",
       "    .dataframe thead th {\n",
       "        text-align: right;\n",
       "    }\n",
       "</style>\n",
       "<table border=\"1\" class=\"dataframe\">\n",
       "  <thead>\n",
       "    <tr style=\"text-align: right;\">\n",
       "      <th></th>\n",
       "      <th>user_id</th>\n",
       "      <th>session_id</th>\n",
       "      <th>session_start</th>\n",
       "      <th>session_size</th>\n",
       "      <th>click_article_id</th>\n",
       "      <th>click_timestamp</th>\n",
       "      <th>click_environment</th>\n",
       "      <th>click_deviceGroup</th>\n",
       "      <th>click_os</th>\n",
       "      <th>click_country</th>\n",
       "      <th>click_region</th>\n",
       "      <th>click_referrer_type</th>\n",
       "    </tr>\n",
       "  </thead>\n",
       "  <tbody>\n",
       "    <tr>\n",
       "      <th>0</th>\n",
       "      <td>0</td>\n",
       "      <td>1506825423271737</td>\n",
       "      <td>1506825423000</td>\n",
       "      <td>2</td>\n",
       "      <td>157541</td>\n",
       "      <td>1506826828020</td>\n",
       "      <td>4</td>\n",
       "      <td>3</td>\n",
       "      <td>20</td>\n",
       "      <td>1</td>\n",
       "      <td>20</td>\n",
       "      <td>2</td>\n",
       "    </tr>\n",
       "    <tr>\n",
       "      <th>1</th>\n",
       "      <td>0</td>\n",
       "      <td>1506825423271737</td>\n",
       "      <td>1506825423000</td>\n",
       "      <td>2</td>\n",
       "      <td>68866</td>\n",
       "      <td>1506826858020</td>\n",
       "      <td>4</td>\n",
       "      <td>3</td>\n",
       "      <td>20</td>\n",
       "      <td>1</td>\n",
       "      <td>20</td>\n",
       "      <td>2</td>\n",
       "    </tr>\n",
       "    <tr>\n",
       "      <th>2</th>\n",
       "      <td>1</td>\n",
       "      <td>1506825426267738</td>\n",
       "      <td>1506825426000</td>\n",
       "      <td>2</td>\n",
       "      <td>235840</td>\n",
       "      <td>1506827017951</td>\n",
       "      <td>4</td>\n",
       "      <td>1</td>\n",
       "      <td>17</td>\n",
       "      <td>1</td>\n",
       "      <td>16</td>\n",
       "      <td>2</td>\n",
       "    </tr>\n",
       "    <tr>\n",
       "      <th>3</th>\n",
       "      <td>1</td>\n",
       "      <td>1506825426267738</td>\n",
       "      <td>1506825426000</td>\n",
       "      <td>2</td>\n",
       "      <td>96663</td>\n",
       "      <td>1506827047951</td>\n",
       "      <td>4</td>\n",
       "      <td>1</td>\n",
       "      <td>17</td>\n",
       "      <td>1</td>\n",
       "      <td>16</td>\n",
       "      <td>2</td>\n",
       "    </tr>\n",
       "    <tr>\n",
       "      <th>4</th>\n",
       "      <td>2</td>\n",
       "      <td>1506825435299739</td>\n",
       "      <td>1506825435000</td>\n",
       "      <td>2</td>\n",
       "      <td>119592</td>\n",
       "      <td>1506827090575</td>\n",
       "      <td>4</td>\n",
       "      <td>1</td>\n",
       "      <td>17</td>\n",
       "      <td>1</td>\n",
       "      <td>24</td>\n",
       "      <td>2</td>\n",
       "    </tr>\n",
       "  </tbody>\n",
       "</table>\n",
       "</div>"
      ],
      "text/plain": [
       "   user_id        session_id  session_start  session_size  click_article_id  \\\n",
       "0        0  1506825423271737  1506825423000             2            157541   \n",
       "1        0  1506825423271737  1506825423000             2             68866   \n",
       "2        1  1506825426267738  1506825426000             2            235840   \n",
       "3        1  1506825426267738  1506825426000             2             96663   \n",
       "4        2  1506825435299739  1506825435000             2            119592   \n",
       "\n",
       "   click_timestamp  click_environment  click_deviceGroup  click_os  \\\n",
       "0    1506826828020                  4                  3        20   \n",
       "1    1506826858020                  4                  3        20   \n",
       "2    1506827017951                  4                  1        17   \n",
       "3    1506827047951                  4                  1        17   \n",
       "4    1506827090575                  4                  1        17   \n",
       "\n",
       "   click_country  click_region  click_referrer_type  \n",
       "0              1            20                    2  \n",
       "1              1            20                    2  \n",
       "2              1            16                    2  \n",
       "3              1            16                    2  \n",
       "4              1            24                    2  "
      ]
     },
     "execution_count": 7,
     "metadata": {},
     "output_type": "execute_result"
    }
   ],
   "source": [
    "clicks_df.head()"
   ]
  },
  {
   "cell_type": "code",
   "execution_count": 8,
   "id": "d290def2",
   "metadata": {},
   "outputs": [
    {
     "data": {
      "text/html": [
       "<div>\n",
       "<style scoped>\n",
       "    .dataframe tbody tr th:only-of-type {\n",
       "        vertical-align: middle;\n",
       "    }\n",
       "\n",
       "    .dataframe tbody tr th {\n",
       "        vertical-align: top;\n",
       "    }\n",
       "\n",
       "    .dataframe thead th {\n",
       "        text-align: right;\n",
       "    }\n",
       "</style>\n",
       "<table border=\"1\" class=\"dataframe\">\n",
       "  <thead>\n",
       "    <tr style=\"text-align: right;\">\n",
       "      <th></th>\n",
       "      <th>article_id</th>\n",
       "      <th>category_id</th>\n",
       "      <th>created_at_ts</th>\n",
       "      <th>publisher_id</th>\n",
       "      <th>words_count</th>\n",
       "    </tr>\n",
       "  </thead>\n",
       "  <tbody>\n",
       "    <tr>\n",
       "      <th>0</th>\n",
       "      <td>0</td>\n",
       "      <td>0</td>\n",
       "      <td>1513144419000</td>\n",
       "      <td>0</td>\n",
       "      <td>168</td>\n",
       "    </tr>\n",
       "    <tr>\n",
       "      <th>1</th>\n",
       "      <td>1</td>\n",
       "      <td>1</td>\n",
       "      <td>1405341936000</td>\n",
       "      <td>0</td>\n",
       "      <td>189</td>\n",
       "    </tr>\n",
       "    <tr>\n",
       "      <th>2</th>\n",
       "      <td>2</td>\n",
       "      <td>1</td>\n",
       "      <td>1408667706000</td>\n",
       "      <td>0</td>\n",
       "      <td>250</td>\n",
       "    </tr>\n",
       "    <tr>\n",
       "      <th>3</th>\n",
       "      <td>3</td>\n",
       "      <td>1</td>\n",
       "      <td>1408468313000</td>\n",
       "      <td>0</td>\n",
       "      <td>230</td>\n",
       "    </tr>\n",
       "    <tr>\n",
       "      <th>4</th>\n",
       "      <td>4</td>\n",
       "      <td>1</td>\n",
       "      <td>1407071171000</td>\n",
       "      <td>0</td>\n",
       "      <td>162</td>\n",
       "    </tr>\n",
       "  </tbody>\n",
       "</table>\n",
       "</div>"
      ],
      "text/plain": [
       "   article_id  category_id  created_at_ts  publisher_id  words_count\n",
       "0           0            0  1513144419000             0          168\n",
       "1           1            1  1405341936000             0          189\n",
       "2           2            1  1408667706000             0          250\n",
       "3           3            1  1408468313000             0          230\n",
       "4           4            1  1407071171000             0          162"
      ]
     },
     "execution_count": 8,
     "metadata": {},
     "output_type": "execute_result"
    }
   ],
   "source": [
    "articles_df.head()"
   ]
  },
  {
   "cell_type": "markdown",
   "id": "174be370",
   "metadata": {},
   "source": [
    "Nous allons considérer que l'intérêt d'un utilisateur se traduit par :\n",
    " - un nombre de clicks sur une catégorie\n",
    " - un nombre de clicks sur un article\n",
    " \n",
    "Dans les sous-parties 3.2 à 3.4 ci-dessous, nous examinerons ces deux approches."
   ]
  },
  {
   "cell_type": "markdown",
   "id": "d159fab3",
   "metadata": {},
   "source": [
    "### Ratings"
   ]
  },
  {
   "cell_type": "markdown",
   "id": "40654598",
   "metadata": {},
   "source": [
    "Ici nous récupérons le nombre de clicks de chaque utilisateur sur chaque catégorie"
   ]
  },
  {
   "cell_type": "code",
   "execution_count": 102,
   "id": "35f6c32a",
   "metadata": {},
   "outputs": [],
   "source": [
    "def get_cat_rating_by_user(cli_df=None, art_df=None):\n",
    "    \n",
    "    \"\"\"\n",
    "    Renvoi un dataframe des catégories par user_id avec nombre de consultation\n",
    "    Lit le CSV si une version existe sur disque, sinon la construit et l'écrit dans le dossier data\n",
    "        @param cli_df <pd.DataFrame> : aggrégation des fichiers clicks_hour_{}.csv\n",
    "        @param art_df <pd.DataFrame> : dataframe des articles\n",
    "        @return <pd.DataFrame> : dataframe des catégories par user_id avec nombre de consultation\n",
    "    \"\"\"\n",
    "    \n",
    "    df = None\n",
    "    if not os.path.exists('data/cat_rating_by_user.csv'):\n",
    "        \n",
    "        # Récupère les dataframes de base\n",
    "        if cli_df is get_cat_rating_by_user.__defaults__[0]:\n",
    "            cli_df = get_clicks()\n",
    "        if art_df is get_cat_rating_by_user.__defaults__[1]:\n",
    "            art_df = pd.read_csv('data/articles_metadata.csv')\n",
    "            \n",
    "        # Joint les dataframes ensembles\n",
    "        if 'click_article_id' in cli_df.columns:\n",
    "            cli_df.rename(columns={'click_article_id':'article_id'}, inplace = True)\n",
    "        df = cli_df[['user_id', 'article_id']].join(\n",
    "            art_df[['article_id', 'category_id']].set_index('article_id'), how='left', on='article_id')\n",
    "        \n",
    "        # Liste les catégories consultés par chaque user_id avec le nombre de clicks, et sauvegarde\n",
    "        df = df.groupby(['user_id', 'category_id']).count().reset_index()\n",
    "        df.rename(columns={'article_id':'nb_clicks'}, inplace = True)\n",
    "        df.to_csv('data/cat_rating_by_user.csv', index=False)\n",
    "        \n",
    "    else:\n",
    "        df= pd.read_csv('data/cat_rating_by_user.csv')\n",
    "        \n",
    "    return df"
   ]
  },
  {
   "cell_type": "code",
   "execution_count": 15,
   "id": "8968d6f5",
   "metadata": {},
   "outputs": [
    {
     "name": "stdout",
     "output_type": "stream",
     "text": [
      "CPU times: total: 7.97 s\n",
      "Wall time: 8 s\n"
     ]
    }
   ],
   "source": [
    "%%time\n",
    "cat_rating_by_user = get_cat_rating_by_user(clicks_df, articles_df)"
   ]
  },
  {
   "cell_type": "code",
   "execution_count": 16,
   "id": "dab3cd22",
   "metadata": {},
   "outputs": [
    {
     "data": {
      "text/html": [
       "<div>\n",
       "<style scoped>\n",
       "    .dataframe tbody tr th:only-of-type {\n",
       "        vertical-align: middle;\n",
       "    }\n",
       "\n",
       "    .dataframe tbody tr th {\n",
       "        vertical-align: top;\n",
       "    }\n",
       "\n",
       "    .dataframe thead th {\n",
       "        text-align: right;\n",
       "    }\n",
       "</style>\n",
       "<table border=\"1\" class=\"dataframe\">\n",
       "  <thead>\n",
       "    <tr style=\"text-align: right;\">\n",
       "      <th></th>\n",
       "      <th>user_id</th>\n",
       "      <th>category_id</th>\n",
       "      <th>nb_clicks</th>\n",
       "    </tr>\n",
       "  </thead>\n",
       "  <tbody>\n",
       "    <tr>\n",
       "      <th>0</th>\n",
       "      <td>0</td>\n",
       "      <td>136</td>\n",
       "      <td>1</td>\n",
       "    </tr>\n",
       "    <tr>\n",
       "      <th>1</th>\n",
       "      <td>0</td>\n",
       "      <td>186</td>\n",
       "      <td>2</td>\n",
       "    </tr>\n",
       "    <tr>\n",
       "      <th>2</th>\n",
       "      <td>0</td>\n",
       "      <td>209</td>\n",
       "      <td>1</td>\n",
       "    </tr>\n",
       "    <tr>\n",
       "      <th>3</th>\n",
       "      <td>0</td>\n",
       "      <td>281</td>\n",
       "      <td>2</td>\n",
       "    </tr>\n",
       "    <tr>\n",
       "      <th>4</th>\n",
       "      <td>0</td>\n",
       "      <td>375</td>\n",
       "      <td>1</td>\n",
       "    </tr>\n",
       "  </tbody>\n",
       "</table>\n",
       "</div>"
      ],
      "text/plain": [
       "   user_id  category_id  nb_clicks\n",
       "0        0          136          1\n",
       "1        0          186          2\n",
       "2        0          209          1\n",
       "3        0          281          2\n",
       "4        0          375          1"
      ]
     },
     "execution_count": 16,
     "metadata": {},
     "output_type": "execute_result"
    }
   ],
   "source": [
    "cat_rating_by_user.head()"
   ]
  },
  {
   "cell_type": "markdown",
   "id": "b94ea2f5",
   "metadata": {},
   "source": [
    "Forme du dataframe obtenu :"
   ]
  },
  {
   "cell_type": "code",
   "execution_count": 37,
   "id": "a3d22e22",
   "metadata": {},
   "outputs": [
    {
     "data": {
      "text/plain": [
       "(1882302, 3)"
      ]
     },
     "execution_count": 37,
     "metadata": {},
     "output_type": "execute_result"
    }
   ],
   "source": [
    "cat_rating_by_user.shape"
   ]
  },
  {
   "cell_type": "markdown",
   "id": "ef7ef26d",
   "metadata": {},
   "source": [
    "**Rationalisation du nombre de clicks**"
   ]
  },
  {
   "cell_type": "code",
   "execution_count": 35,
   "id": "213a5e67",
   "metadata": {},
   "outputs": [
    {
     "name": "stdout",
     "output_type": "stream",
     "text": [
      "Nombre minimum de clicks : 1\n",
      "Nombre maximum de clicks : 535\n"
     ]
    }
   ],
   "source": [
    "print(f\"Nombre minimum de clicks : {cat_rating_by_user['nb_clicks'].min()}\")\n",
    "print(f\"Nombre maximum de clicks : {cat_rating_by_user['nb_clicks'].max()}\")"
   ]
  },
  {
   "cell_type": "markdown",
   "id": "f898f155",
   "metadata": {},
   "source": [
    "Vu le grand écart de valeur, nous n'allons garder que les valeurs de rating > 1% du total des clicks"
   ]
  },
  {
   "cell_type": "code",
   "execution_count": 53,
   "id": "eead23f4",
   "metadata": {},
   "outputs": [],
   "source": [
    "clicks_analyse = cat_rating_by_user.sort_values(by='nb_clicks').groupby('nb_clicks').count().reset_index().iloc[:, :2]"
   ]
  },
  {
   "cell_type": "code",
   "execution_count": 54,
   "id": "647618a4",
   "metadata": {},
   "outputs": [
    {
     "data": {
      "text/html": [
       "<div>\n",
       "<style scoped>\n",
       "    .dataframe tbody tr th:only-of-type {\n",
       "        vertical-align: middle;\n",
       "    }\n",
       "\n",
       "    .dataframe tbody tr th {\n",
       "        vertical-align: top;\n",
       "    }\n",
       "\n",
       "    .dataframe thead th {\n",
       "        text-align: right;\n",
       "    }\n",
       "</style>\n",
       "<table border=\"1\" class=\"dataframe\">\n",
       "  <thead>\n",
       "    <tr style=\"text-align: right;\">\n",
       "      <th></th>\n",
       "      <th>nb_clicks</th>\n",
       "      <th>user_id</th>\n",
       "    </tr>\n",
       "  </thead>\n",
       "  <tbody>\n",
       "    <tr>\n",
       "      <th>0</th>\n",
       "      <td>1</td>\n",
       "      <td>1378686</td>\n",
       "    </tr>\n",
       "    <tr>\n",
       "      <th>1</th>\n",
       "      <td>2</td>\n",
       "      <td>293327</td>\n",
       "    </tr>\n",
       "    <tr>\n",
       "      <th>2</th>\n",
       "      <td>3</td>\n",
       "      <td>97043</td>\n",
       "    </tr>\n",
       "    <tr>\n",
       "      <th>3</th>\n",
       "      <td>4</td>\n",
       "      <td>43989</td>\n",
       "    </tr>\n",
       "    <tr>\n",
       "      <th>4</th>\n",
       "      <td>5</td>\n",
       "      <td>23658</td>\n",
       "    </tr>\n",
       "  </tbody>\n",
       "</table>\n",
       "</div>"
      ],
      "text/plain": [
       "   nb_clicks  user_id\n",
       "0          1  1378686\n",
       "1          2   293327\n",
       "2          3    97043\n",
       "3          4    43989\n",
       "4          5    23658"
      ]
     },
     "execution_count": 54,
     "metadata": {},
     "output_type": "execute_result"
    }
   ],
   "source": [
    "clicks_analyse.head()"
   ]
  },
  {
   "cell_type": "code",
   "execution_count": 63,
   "id": "78d481b9",
   "metadata": {},
   "outputs": [],
   "source": [
    "threshold = clicks_analyse['user_id'].sum() / 100    # Nous allons garder uniquement les valeurs > 1% "
   ]
  },
  {
   "cell_type": "code",
   "execution_count": 64,
   "id": "e4f46c33",
   "metadata": {},
   "outputs": [
    {
     "data": {
      "image/png": "[encoded data removed]",
      "text/plain": [
       "<Figure size 640x480 with 1 Axes>"
      ]
     },
     "metadata": {},
     "output_type": "display_data"
    }
   ],
   "source": [
    "plt.plot(figsize=(15, 6))\n",
    "sns.barplot(data=clicks_analyse[clicks_analyse['user_id'] > threshold], x='nb_clicks', y='user_id', color=\"deepskyblue\")\n",
    "plt.title('Nombre de couple Utilisateur <-> Catégorie par nombre de clicks')\n",
    "plt.show()"
   ]
  },
  {
   "cell_type": "markdown",
   "id": "fb28b894",
   "metadata": {},
   "source": [
    "<div class=\"alert alert-block alert-info\">\n",
    "\n",
    "Nous nous intéresserons donc aux nombres de clicks de 1 à 5, car ils capturent 99% des évaluations exprimées. Les évaluations supérieures sont ramenées à une valeur de 5.\n",
    "    \n",
    "</div>"
   ]
  },
  {
   "cell_type": "code",
   "execution_count": 20,
   "id": "edc9cdcc",
   "metadata": {},
   "outputs": [],
   "source": [
    "cat_rating_by_user['nb_clicks'] = cat_rating_by_user['nb_clicks'].apply(lambda x: x if x <= 5 else 5)"
   ]
  },
  {
   "cell_type": "code",
   "execution_count": 21,
   "id": "3454a72a",
   "metadata": {},
   "outputs": [
    {
     "data": {
      "text/plain": [
       "5"
      ]
     },
     "execution_count": 21,
     "metadata": {},
     "output_type": "execute_result"
    }
   ],
   "source": [
    "cat_rating_by_user['nb_clicks'].max()"
   ]
  },
  {
   "cell_type": "code",
   "execution_count": 30,
   "id": "e22dc55f",
   "metadata": {},
   "outputs": [
    {
     "data": {
      "image/png": "[encoded data removed]",
      "text/plain": [
       "<Figure size 640x480 with 1 Axes>"
      ]
     },
     "metadata": {},
     "output_type": "display_data"
    }
   ],
   "source": [
    "plt.plot(figsize=(15, 6))\n",
    "sns.countplot(cat_rating_by_user, x='nb_clicks', color=\"deepskyblue\")\n",
    "plt.title('Nombre de couple Utilisateur <-> Catégorie par nombre de clicks')\n",
    "plt.show()"
   ]
  },
  {
   "cell_type": "markdown",
   "id": "387e3ff8",
   "metadata": {},
   "source": [
    "**Ajout des articles non lus pour compléter la matrice user-interaction**"
   ]
  },
  {
   "cell_type": "markdown",
   "id": "ac31dce5",
   "metadata": {},
   "source": [
    "Création d'une matrice user-interaction sur la base du nombre de clicks par utilisateur et par catégorie"
   ]
  },
  {
   "cell_type": "code",
   "execution_count": 6,
   "id": "78ca40e3",
   "metadata": {},
   "outputs": [],
   "source": [
    "cat_rating_by_user = get_cat_rating_by_user()"
   ]
  },
  {
   "cell_type": "code",
   "execution_count": 7,
   "id": "2b9bf10b",
   "metadata": {},
   "outputs": [
    {
     "data": {
      "text/plain": [
       "(322897, 316)"
      ]
     },
     "execution_count": 7,
     "metadata": {},
     "output_type": "execute_result"
    }
   ],
   "source": [
    "user_int_mat = pd.pivot_table(cat_rating_by_user, index=['user_id'], columns=['category_id'], values='nb_clicks')\n",
    "user_int_mat.shape"
   ]
  },
  {
   "cell_type": "code",
   "execution_count": 8,
   "id": "65a46d59",
   "metadata": {
    "scrolled": true
   },
   "outputs": [
    {
     "data": {
      "text/html": [
       "<div>\n",
       "<style scoped>\n",
       "    .dataframe tbody tr th:only-of-type {\n",
       "        vertical-align: middle;\n",
       "    }\n",
       "\n",
       "    .dataframe tbody tr th {\n",
       "        vertical-align: top;\n",
       "    }\n",
       "\n",
       "    .dataframe thead th {\n",
       "        text-align: right;\n",
       "    }\n",
       "</style>\n",
       "<table border=\"1\" class=\"dataframe\">\n",
       "  <thead>\n",
       "    <tr style=\"text-align: right;\">\n",
       "      <th>category_id</th>\n",
       "      <th>1</th>\n",
       "      <th>2</th>\n",
       "      <th>3</th>\n",
       "      <th>4</th>\n",
       "      <th>6</th>\n",
       "      <th>7</th>\n",
       "      <th>9</th>\n",
       "      <th>11</th>\n",
       "      <th>15</th>\n",
       "      <th>16</th>\n",
       "      <th>17</th>\n",
       "      <th>18</th>\n",
       "      <th>19</th>\n",
       "      <th>20</th>\n",
       "      <th>21</th>\n",
       "      <th>22</th>\n",
       "      <th>24</th>\n",
       "      <th>25</th>\n",
       "      <th>26</th>\n",
       "      <th>27</th>\n",
       "      <th>28</th>\n",
       "      <th>29</th>\n",
       "      <th>31</th>\n",
       "      <th>32</th>\n",
       "      <th>34</th>\n",
       "      <th>36</th>\n",
       "      <th>37</th>\n",
       "      <th>39</th>\n",
       "      <th>40</th>\n",
       "      <th>41</th>\n",
       "      <th>42</th>\n",
       "      <th>43</th>\n",
       "      <th>44</th>\n",
       "      <th>46</th>\n",
       "      <th>47</th>\n",
       "      <th>48</th>\n",
       "      <th>51</th>\n",
       "      <th>54</th>\n",
       "      <th>55</th>\n",
       "      <th>56</th>\n",
       "      <th>58</th>\n",
       "      <th>60</th>\n",
       "      <th>62</th>\n",
       "      <th>63</th>\n",
       "      <th>64</th>\n",
       "      <th>65</th>\n",
       "      <th>66</th>\n",
       "      <th>67</th>\n",
       "      <th>68</th>\n",
       "      <th>69</th>\n",
       "      <th>70</th>\n",
       "      <th>71</th>\n",
       "      <th>72</th>\n",
       "      <th>74</th>\n",
       "      <th>75</th>\n",
       "      <th>76</th>\n",
       "      <th>77</th>\n",
       "      <th>81</th>\n",
       "      <th>84</th>\n",
       "      <th>87</th>\n",
       "      <th>89</th>\n",
       "      <th>90</th>\n",
       "      <th>92</th>\n",
       "      <th>95</th>\n",
       "      <th>96</th>\n",
       "      <th>97</th>\n",
       "      <th>99</th>\n",
       "      <th>101</th>\n",
       "      <th>102</th>\n",
       "      <th>103</th>\n",
       "      <th>104</th>\n",
       "      <th>107</th>\n",
       "      <th>114</th>\n",
       "      <th>115</th>\n",
       "      <th>116</th>\n",
       "      <th>117</th>\n",
       "      <th>118</th>\n",
       "      <th>119</th>\n",
       "      <th>120</th>\n",
       "      <th>122</th>\n",
       "      <th>123</th>\n",
       "      <th>125</th>\n",
       "      <th>126</th>\n",
       "      <th>127</th>\n",
       "      <th>128</th>\n",
       "      <th>130</th>\n",
       "      <th>132</th>\n",
       "      <th>133</th>\n",
       "      <th>134</th>\n",
       "      <th>135</th>\n",
       "      <th>136</th>\n",
       "      <th>137</th>\n",
       "      <th>138</th>\n",
       "      <th>140</th>\n",
       "      <th>141</th>\n",
       "      <th>142</th>\n",
       "      <th>146</th>\n",
       "      <th>147</th>\n",
       "      <th>148</th>\n",
       "      <th>151</th>\n",
       "      <th>152</th>\n",
       "      <th>156</th>\n",
       "      <th>159</th>\n",
       "      <th>160</th>\n",
       "      <th>161</th>\n",
       "      <th>162</th>\n",
       "      <th>163</th>\n",
       "      <th>164</th>\n",
       "      <th>165</th>\n",
       "      <th>166</th>\n",
       "      <th>167</th>\n",
       "      <th>171</th>\n",
       "      <th>172</th>\n",
       "      <th>173</th>\n",
       "      <th>174</th>\n",
       "      <th>175</th>\n",
       "      <th>176</th>\n",
       "      <th>177</th>\n",
       "      <th>180</th>\n",
       "      <th>183</th>\n",
       "      <th>184</th>\n",
       "      <th>186</th>\n",
       "      <th>187</th>\n",
       "      <th>188</th>\n",
       "      <th>191</th>\n",
       "      <th>193</th>\n",
       "      <th>195</th>\n",
       "      <th>196</th>\n",
       "      <th>197</th>\n",
       "      <th>198</th>\n",
       "      <th>201</th>\n",
       "      <th>202</th>\n",
       "      <th>203</th>\n",
       "      <th>204</th>\n",
       "      <th>207</th>\n",
       "      <th>208</th>\n",
       "      <th>209</th>\n",
       "      <th>211</th>\n",
       "      <th>213</th>\n",
       "      <th>215</th>\n",
       "      <th>216</th>\n",
       "      <th>218</th>\n",
       "      <th>219</th>\n",
       "      <th>220</th>\n",
       "      <th>221</th>\n",
       "      <th>222</th>\n",
       "      <th>223</th>\n",
       "      <th>225</th>\n",
       "      <th>226</th>\n",
       "      <th>227</th>\n",
       "      <th>228</th>\n",
       "      <th>229</th>\n",
       "      <th>230</th>\n",
       "      <th>231</th>\n",
       "      <th>233</th>\n",
       "      <th>234</th>\n",
       "      <th>236</th>\n",
       "      <th>237</th>\n",
       "      <th>238</th>\n",
       "      <th>240</th>\n",
       "      <th>242</th>\n",
       "      <th>243</th>\n",
       "      <th>244</th>\n",
       "      <th>245</th>\n",
       "      <th>247</th>\n",
       "      <th>249</th>\n",
       "      <th>250</th>\n",
       "      <th>252</th>\n",
       "      <th>254</th>\n",
       "      <th>255</th>\n",
       "      <th>256</th>\n",
       "      <th>257</th>\n",
       "      <th>258</th>\n",
       "      <th>259</th>\n",
       "      <th>260</th>\n",
       "      <th>262</th>\n",
       "      <th>263</th>\n",
       "      <th>264</th>\n",
       "      <th>265</th>\n",
       "      <th>266</th>\n",
       "      <th>267</th>\n",
       "      <th>268</th>\n",
       "      <th>269</th>\n",
       "      <th>270</th>\n",
       "      <th>271</th>\n",
       "      <th>272</th>\n",
       "      <th>275</th>\n",
       "      <th>276</th>\n",
       "      <th>277</th>\n",
       "      <th>278</th>\n",
       "      <th>279</th>\n",
       "      <th>281</th>\n",
       "      <th>284</th>\n",
       "      <th>285</th>\n",
       "      <th>287</th>\n",
       "      <th>288</th>\n",
       "      <th>289</th>\n",
       "      <th>290</th>\n",
       "      <th>291</th>\n",
       "      <th>295</th>\n",
       "      <th>297</th>\n",
       "      <th>298</th>\n",
       "      <th>299</th>\n",
       "      <th>300</th>\n",
       "      <th>301</th>\n",
       "      <th>302</th>\n",
       "      <th>304</th>\n",
       "      <th>305</th>\n",
       "      <th>307</th>\n",
       "      <th>309</th>\n",
       "      <th>310</th>\n",
       "      <th>311</th>\n",
       "      <th>314</th>\n",
       "      <th>316</th>\n",
       "      <th>317</th>\n",
       "      <th>318</th>\n",
       "      <th>320</th>\n",
       "      <th>322</th>\n",
       "      <th>323</th>\n",
       "      <th>325</th>\n",
       "      <th>326</th>\n",
       "      <th>327</th>\n",
       "      <th>328</th>\n",
       "      <th>329</th>\n",
       "      <th>330</th>\n",
       "      <th>331</th>\n",
       "      <th>332</th>\n",
       "      <th>333</th>\n",
       "      <th>337</th>\n",
       "      <th>339</th>\n",
       "      <th>340</th>\n",
       "      <th>342</th>\n",
       "      <th>348</th>\n",
       "      <th>349</th>\n",
       "      <th>351</th>\n",
       "      <th>352</th>\n",
       "      <th>353</th>\n",
       "      <th>354</th>\n",
       "      <th>355</th>\n",
       "      <th>357</th>\n",
       "      <th>359</th>\n",
       "      <th>360</th>\n",
       "      <th>362</th>\n",
       "      <th>363</th>\n",
       "      <th>367</th>\n",
       "      <th>368</th>\n",
       "      <th>369</th>\n",
       "      <th>370</th>\n",
       "      <th>371</th>\n",
       "      <th>372</th>\n",
       "      <th>373</th>\n",
       "      <th>374</th>\n",
       "      <th>375</th>\n",
       "      <th>376</th>\n",
       "      <th>377</th>\n",
       "      <th>379</th>\n",
       "      <th>380</th>\n",
       "      <th>381</th>\n",
       "      <th>382</th>\n",
       "      <th>384</th>\n",
       "      <th>385</th>\n",
       "      <th>388</th>\n",
       "      <th>389</th>\n",
       "      <th>390</th>\n",
       "      <th>391</th>\n",
       "      <th>392</th>\n",
       "      <th>393</th>\n",
       "      <th>395</th>\n",
       "      <th>396</th>\n",
       "      <th>398</th>\n",
       "      <th>399</th>\n",
       "      <th>401</th>\n",
       "      <th>402</th>\n",
       "      <th>403</th>\n",
       "      <th>404</th>\n",
       "      <th>405</th>\n",
       "      <th>406</th>\n",
       "      <th>407</th>\n",
       "      <th>408</th>\n",
       "      <th>409</th>\n",
       "      <th>410</th>\n",
       "      <th>412</th>\n",
       "      <th>413</th>\n",
       "      <th>414</th>\n",
       "      <th>415</th>\n",
       "      <th>417</th>\n",
       "      <th>418</th>\n",
       "      <th>420</th>\n",
       "      <th>421</th>\n",
       "      <th>422</th>\n",
       "      <th>424</th>\n",
       "      <th>428</th>\n",
       "      <th>429</th>\n",
       "      <th>430</th>\n",
       "      <th>431</th>\n",
       "      <th>433</th>\n",
       "      <th>434</th>\n",
       "      <th>435</th>\n",
       "      <th>436</th>\n",
       "      <th>437</th>\n",
       "      <th>438</th>\n",
       "      <th>442</th>\n",
       "      <th>443</th>\n",
       "      <th>444</th>\n",
       "      <th>445</th>\n",
       "      <th>447</th>\n",
       "      <th>448</th>\n",
       "      <th>449</th>\n",
       "      <th>450</th>\n",
       "      <th>451</th>\n",
       "      <th>453</th>\n",
       "      <th>454</th>\n",
       "      <th>455</th>\n",
       "      <th>456</th>\n",
       "      <th>458</th>\n",
       "      <th>460</th>\n",
       "    </tr>\n",
       "    <tr>\n",
       "      <th>user_id</th>\n",
       "      <th></th>\n",
       "      <th></th>\n",
       "      <th></th>\n",
       "      <th></th>\n",
       "      <th></th>\n",
       "      <th></th>\n",
       "      <th></th>\n",
       "      <th></th>\n",
       "      <th></th>\n",
       "      <th></th>\n",
       "      <th></th>\n",
       "      <th></th>\n",
       "      <th></th>\n",
       "      <th></th>\n",
       "      <th></th>\n",
       "      <th></th>\n",
       "      <th></th>\n",
       "      <th></th>\n",
       "      <th></th>\n",
       "      <th></th>\n",
       "      <th></th>\n",
       "      <th></th>\n",
       "      <th></th>\n",
       "      <th></th>\n",
       "      <th></th>\n",
       "      <th></th>\n",
       "      <th></th>\n",
       "      <th></th>\n",
       "      <th></th>\n",
       "      <th></th>\n",
       "      <th></th>\n",
       "      <th></th>\n",
       "      <th></th>\n",
       "      <th></th>\n",
       "      <th></th>\n",
       "      <th></th>\n",
       "      <th></th>\n",
       "      <th></th>\n",
       "      <th></th>\n",
       "      <th></th>\n",
       "      <th></th>\n",
       "      <th></th>\n",
       "      <th></th>\n",
       "      <th></th>\n",
       "      <th></th>\n",
       "      <th></th>\n",
       "      <th></th>\n",
       "      <th></th>\n",
       "      <th></th>\n",
       "      <th></th>\n",
       "      <th></th>\n",
       "      <th></th>\n",
       "      <th></th>\n",
       "      <th></th>\n",
       "      <th></th>\n",
       "      <th></th>\n",
       "      <th></th>\n",
       "      <th></th>\n",
       "      <th></th>\n",
       "      <th></th>\n",
       "      <th></th>\n",
       "      <th></th>\n",
       "      <th></th>\n",
       "      <th></th>\n",
       "      <th></th>\n",
       "      <th></th>\n",
       "      <th></th>\n",
       "      <th></th>\n",
       "      <th></th>\n",
       "      <th></th>\n",
       "      <th></th>\n",
       "      <th></th>\n",
       "      <th></th>\n",
       "      <th></th>\n",
       "      <th></th>\n",
       "      <th></th>\n",
       "      <th></th>\n",
       "      <th></th>\n",
       "      <th></th>\n",
       "      <th></th>\n",
       "      <th></th>\n",
       "      <th></th>\n",
       "      <th></th>\n",
       "      <th></th>\n",
       "      <th></th>\n",
       "      <th></th>\n",
       "      <th></th>\n",
       "      <th></th>\n",
       "      <th></th>\n",
       "      <th></th>\n",
       "      <th></th>\n",
       "      <th></th>\n",
       "      <th></th>\n",
       "      <th></th>\n",
       "      <th></th>\n",
       "      <th></th>\n",
       "      <th></th>\n",
       "      <th></th>\n",
       "      <th></th>\n",
       "      <th></th>\n",
       "      <th></th>\n",
       "      <th></th>\n",
       "      <th></th>\n",
       "      <th></th>\n",
       "      <th></th>\n",
       "      <th></th>\n",
       "      <th></th>\n",
       "      <th></th>\n",
       "      <th></th>\n",
       "      <th></th>\n",
       "      <th></th>\n",
       "      <th></th>\n",
       "      <th></th>\n",
       "      <th></th>\n",
       "      <th></th>\n",
       "      <th></th>\n",
       "      <th></th>\n",
       "      <th></th>\n",
       "      <th></th>\n",
       "      <th></th>\n",
       "      <th></th>\n",
       "      <th></th>\n",
       "      <th></th>\n",
       "      <th></th>\n",
       "      <th></th>\n",
       "      <th></th>\n",
       "      <th></th>\n",
       "      <th></th>\n",
       "      <th></th>\n",
       "      <th></th>\n",
       "      <th></th>\n",
       "      <th></th>\n",
       "      <th></th>\n",
       "      <th></th>\n",
       "      <th></th>\n",
       "      <th></th>\n",
       "      <th></th>\n",
       "      <th></th>\n",
       "      <th></th>\n",
       "      <th></th>\n",
       "      <th></th>\n",
       "      <th></th>\n",
       "      <th></th>\n",
       "      <th></th>\n",
       "      <th></th>\n",
       "      <th></th>\n",
       "      <th></th>\n",
       "      <th></th>\n",
       "      <th></th>\n",
       "      <th></th>\n",
       "      <th></th>\n",
       "      <th></th>\n",
       "      <th></th>\n",
       "      <th></th>\n",
       "      <th></th>\n",
       "      <th></th>\n",
       "      <th></th>\n",
       "      <th></th>\n",
       "      <th></th>\n",
       "      <th></th>\n",
       "      <th></th>\n",
       "      <th></th>\n",
       "      <th></th>\n",
       "      <th></th>\n",
       "      <th></th>\n",
       "      <th></th>\n",
       "      <th></th>\n",
       "      <th></th>\n",
       "      <th></th>\n",
       "      <th></th>\n",
       "      <th></th>\n",
       "      <th></th>\n",
       "      <th></th>\n",
       "      <th></th>\n",
       "      <th></th>\n",
       "      <th></th>\n",
       "      <th></th>\n",
       "      <th></th>\n",
       "      <th></th>\n",
       "      <th></th>\n",
       "      <th></th>\n",
       "      <th></th>\n",
       "      <th></th>\n",
       "      <th></th>\n",
       "      <th></th>\n",
       "      <th></th>\n",
       "      <th></th>\n",
       "      <th></th>\n",
       "      <th></th>\n",
       "      <th></th>\n",
       "      <th></th>\n",
       "      <th></th>\n",
       "      <th></th>\n",
       "      <th></th>\n",
       "      <th></th>\n",
       "      <th></th>\n",
       "      <th></th>\n",
       "      <th></th>\n",
       "      <th></th>\n",
       "      <th></th>\n",
       "      <th></th>\n",
       "      <th></th>\n",
       "      <th></th>\n",
       "      <th></th>\n",
       "      <th></th>\n",
       "      <th></th>\n",
       "      <th></th>\n",
       "      <th></th>\n",
       "      <th></th>\n",
       "      <th></th>\n",
       "      <th></th>\n",
       "      <th></th>\n",
       "      <th></th>\n",
       "      <th></th>\n",
       "      <th></th>\n",
       "      <th></th>\n",
       "      <th></th>\n",
       "      <th></th>\n",
       "      <th></th>\n",
       "      <th></th>\n",
       "      <th></th>\n",
       "      <th></th>\n",
       "      <th></th>\n",
       "      <th></th>\n",
       "      <th></th>\n",
       "      <th></th>\n",
       "      <th></th>\n",
       "      <th></th>\n",
       "      <th></th>\n",
       "      <th></th>\n",
       "      <th></th>\n",
       "      <th></th>\n",
       "      <th></th>\n",
       "      <th></th>\n",
       "      <th></th>\n",
       "      <th></th>\n",
       "      <th></th>\n",
       "      <th></th>\n",
       "      <th></th>\n",
       "      <th></th>\n",
       "      <th></th>\n",
       "      <th></th>\n",
       "      <th></th>\n",
       "      <th></th>\n",
       "      <th></th>\n",
       "      <th></th>\n",
       "      <th></th>\n",
       "      <th></th>\n",
       "      <th></th>\n",
       "      <th></th>\n",
       "      <th></th>\n",
       "      <th></th>\n",
       "      <th></th>\n",
       "      <th></th>\n",
       "      <th></th>\n",
       "      <th></th>\n",
       "      <th></th>\n",
       "      <th></th>\n",
       "      <th></th>\n",
       "      <th></th>\n",
       "      <th></th>\n",
       "      <th></th>\n",
       "      <th></th>\n",
       "      <th></th>\n",
       "      <th></th>\n",
       "      <th></th>\n",
       "      <th></th>\n",
       "      <th></th>\n",
       "      <th></th>\n",
       "      <th></th>\n",
       "      <th></th>\n",
       "      <th></th>\n",
       "      <th></th>\n",
       "      <th></th>\n",
       "      <th></th>\n",
       "      <th></th>\n",
       "      <th></th>\n",
       "      <th></th>\n",
       "      <th></th>\n",
       "      <th></th>\n",
       "      <th></th>\n",
       "      <th></th>\n",
       "      <th></th>\n",
       "      <th></th>\n",
       "      <th></th>\n",
       "      <th></th>\n",
       "      <th></th>\n",
       "      <th></th>\n",
       "      <th></th>\n",
       "      <th></th>\n",
       "      <th></th>\n",
       "      <th></th>\n",
       "      <th></th>\n",
       "      <th></th>\n",
       "      <th></th>\n",
       "      <th></th>\n",
       "      <th></th>\n",
       "      <th></th>\n",
       "      <th></th>\n",
       "      <th></th>\n",
       "      <th></th>\n",
       "      <th></th>\n",
       "      <th></th>\n",
       "      <th></th>\n",
       "      <th></th>\n",
       "      <th></th>\n",
       "      <th></th>\n",
       "      <th></th>\n",
       "      <th></th>\n",
       "      <th></th>\n",
       "      <th></th>\n",
       "      <th></th>\n",
       "      <th></th>\n",
       "      <th></th>\n",
       "      <th></th>\n",
       "      <th></th>\n",
       "    </tr>\n",
       "  </thead>\n",
       "  <tbody>\n",
       "    <tr>\n",
       "      <th>0</th>\n",
       "      <td>0.0</td>\n",
       "      <td>0.0</td>\n",
       "      <td>0.0</td>\n",
       "      <td>0.0</td>\n",
       "      <td>0.0</td>\n",
       "      <td>0.0</td>\n",
       "      <td>0.0</td>\n",
       "      <td>0.0</td>\n",
       "      <td>0.0</td>\n",
       "      <td>0.0</td>\n",
       "      <td>0.0</td>\n",
       "      <td>0.0</td>\n",
       "      <td>0.0</td>\n",
       "      <td>0.0</td>\n",
       "      <td>0.0</td>\n",
       "      <td>0.0</td>\n",
       "      <td>0.0</td>\n",
       "      <td>0.0</td>\n",
       "      <td>0.0</td>\n",
       "      <td>0.0</td>\n",
       "      <td>0.0</td>\n",
       "      <td>0.0</td>\n",
       "      <td>0.0</td>\n",
       "      <td>0.0</td>\n",
       "      <td>0.0</td>\n",
       "      <td>0.0</td>\n",
       "      <td>0.0</td>\n",
       "      <td>0.0</td>\n",
       "      <td>0.0</td>\n",
       "      <td>0.0</td>\n",
       "      <td>0.0</td>\n",
       "      <td>0.0</td>\n",
       "      <td>0.0</td>\n",
       "      <td>0.0</td>\n",
       "      <td>0.0</td>\n",
       "      <td>0.0</td>\n",
       "      <td>0.0</td>\n",
       "      <td>0.0</td>\n",
       "      <td>0.0</td>\n",
       "      <td>0.0</td>\n",
       "      <td>0.0</td>\n",
       "      <td>0.0</td>\n",
       "      <td>0.0</td>\n",
       "      <td>0.0</td>\n",
       "      <td>0.0</td>\n",
       "      <td>0.0</td>\n",
       "      <td>0.0</td>\n",
       "      <td>0.0</td>\n",
       "      <td>0.0</td>\n",
       "      <td>0.0</td>\n",
       "      <td>0.0</td>\n",
       "      <td>0.0</td>\n",
       "      <td>0.0</td>\n",
       "      <td>0.0</td>\n",
       "      <td>0.0</td>\n",
       "      <td>0.0</td>\n",
       "      <td>0.0</td>\n",
       "      <td>0.0</td>\n",
       "      <td>0.0</td>\n",
       "      <td>0.0</td>\n",
       "      <td>0.0</td>\n",
       "      <td>0.0</td>\n",
       "      <td>0.0</td>\n",
       "      <td>0.0</td>\n",
       "      <td>0.0</td>\n",
       "      <td>0.0</td>\n",
       "      <td>0.0</td>\n",
       "      <td>0.0</td>\n",
       "      <td>0.0</td>\n",
       "      <td>0.0</td>\n",
       "      <td>0.0</td>\n",
       "      <td>0.0</td>\n",
       "      <td>0.0</td>\n",
       "      <td>0.0</td>\n",
       "      <td>0.0</td>\n",
       "      <td>0.0</td>\n",
       "      <td>0.0</td>\n",
       "      <td>0.0</td>\n",
       "      <td>0.0</td>\n",
       "      <td>0.0</td>\n",
       "      <td>0.0</td>\n",
       "      <td>0.0</td>\n",
       "      <td>0.0</td>\n",
       "      <td>0.0</td>\n",
       "      <td>0.0</td>\n",
       "      <td>0.0</td>\n",
       "      <td>0.0</td>\n",
       "      <td>0.0</td>\n",
       "      <td>0.0</td>\n",
       "      <td>0.0</td>\n",
       "      <td>1.0</td>\n",
       "      <td>0.0</td>\n",
       "      <td>0.0</td>\n",
       "      <td>0.0</td>\n",
       "      <td>0.0</td>\n",
       "      <td>0.0</td>\n",
       "      <td>0.0</td>\n",
       "      <td>0.0</td>\n",
       "      <td>0.0</td>\n",
       "      <td>0.0</td>\n",
       "      <td>0.0</td>\n",
       "      <td>0.0</td>\n",
       "      <td>0.0</td>\n",
       "      <td>0.0</td>\n",
       "      <td>0.0</td>\n",
       "      <td>0.0</td>\n",
       "      <td>0.0</td>\n",
       "      <td>0.0</td>\n",
       "      <td>0.0</td>\n",
       "      <td>0.0</td>\n",
       "      <td>0.0</td>\n",
       "      <td>0.0</td>\n",
       "      <td>0.0</td>\n",
       "      <td>0.0</td>\n",
       "      <td>0.0</td>\n",
       "      <td>0.0</td>\n",
       "      <td>0.0</td>\n",
       "      <td>0.0</td>\n",
       "      <td>0.0</td>\n",
       "      <td>0.0</td>\n",
       "      <td>0.0</td>\n",
       "      <td>2.0</td>\n",
       "      <td>0.0</td>\n",
       "      <td>0.0</td>\n",
       "      <td>0.0</td>\n",
       "      <td>0.0</td>\n",
       "      <td>0.0</td>\n",
       "      <td>0.0</td>\n",
       "      <td>0.0</td>\n",
       "      <td>0.0</td>\n",
       "      <td>0.0</td>\n",
       "      <td>0.0</td>\n",
       "      <td>0.0</td>\n",
       "      <td>0.0</td>\n",
       "      <td>0.0</td>\n",
       "      <td>0.0</td>\n",
       "      <td>1.0</td>\n",
       "      <td>0.0</td>\n",
       "      <td>0.0</td>\n",
       "      <td>0.0</td>\n",
       "      <td>0.0</td>\n",
       "      <td>0.0</td>\n",
       "      <td>0.0</td>\n",
       "      <td>0.0</td>\n",
       "      <td>0.0</td>\n",
       "      <td>0.0</td>\n",
       "      <td>0.0</td>\n",
       "      <td>0.0</td>\n",
       "      <td>0.0</td>\n",
       "      <td>0.0</td>\n",
       "      <td>0.0</td>\n",
       "      <td>0.0</td>\n",
       "      <td>0.0</td>\n",
       "      <td>0.0</td>\n",
       "      <td>0.0</td>\n",
       "      <td>0.0</td>\n",
       "      <td>0.0</td>\n",
       "      <td>0.0</td>\n",
       "      <td>0.0</td>\n",
       "      <td>0.0</td>\n",
       "      <td>0.0</td>\n",
       "      <td>0.0</td>\n",
       "      <td>0.0</td>\n",
       "      <td>0.0</td>\n",
       "      <td>0.0</td>\n",
       "      <td>0.0</td>\n",
       "      <td>0.0</td>\n",
       "      <td>0.0</td>\n",
       "      <td>0.0</td>\n",
       "      <td>0.0</td>\n",
       "      <td>0.0</td>\n",
       "      <td>0.0</td>\n",
       "      <td>0.0</td>\n",
       "      <td>0.0</td>\n",
       "      <td>0.0</td>\n",
       "      <td>0.0</td>\n",
       "      <td>0.0</td>\n",
       "      <td>0.0</td>\n",
       "      <td>0.0</td>\n",
       "      <td>0.0</td>\n",
       "      <td>0.0</td>\n",
       "      <td>0.0</td>\n",
       "      <td>0.0</td>\n",
       "      <td>0.0</td>\n",
       "      <td>0.0</td>\n",
       "      <td>0.0</td>\n",
       "      <td>0.0</td>\n",
       "      <td>0.0</td>\n",
       "      <td>0.0</td>\n",
       "      <td>0.0</td>\n",
       "      <td>0.0</td>\n",
       "      <td>2.0</td>\n",
       "      <td>0.0</td>\n",
       "      <td>0.0</td>\n",
       "      <td>0.0</td>\n",
       "      <td>0.0</td>\n",
       "      <td>0.0</td>\n",
       "      <td>0.0</td>\n",
       "      <td>0.0</td>\n",
       "      <td>0.0</td>\n",
       "      <td>0.0</td>\n",
       "      <td>0.0</td>\n",
       "      <td>0.0</td>\n",
       "      <td>0.0</td>\n",
       "      <td>0.0</td>\n",
       "      <td>0.0</td>\n",
       "      <td>0.0</td>\n",
       "      <td>0.0</td>\n",
       "      <td>0.0</td>\n",
       "      <td>0.0</td>\n",
       "      <td>0.0</td>\n",
       "      <td>0.0</td>\n",
       "      <td>0.0</td>\n",
       "      <td>0.0</td>\n",
       "      <td>0.0</td>\n",
       "      <td>0.0</td>\n",
       "      <td>0.0</td>\n",
       "      <td>0.0</td>\n",
       "      <td>0.0</td>\n",
       "      <td>0.0</td>\n",
       "      <td>0.0</td>\n",
       "      <td>0.0</td>\n",
       "      <td>0.0</td>\n",
       "      <td>0.0</td>\n",
       "      <td>0.0</td>\n",
       "      <td>0.0</td>\n",
       "      <td>0.0</td>\n",
       "      <td>0.0</td>\n",
       "      <td>0.0</td>\n",
       "      <td>0.0</td>\n",
       "      <td>0.0</td>\n",
       "      <td>0.0</td>\n",
       "      <td>0.0</td>\n",
       "      <td>0.0</td>\n",
       "      <td>0.0</td>\n",
       "      <td>0.0</td>\n",
       "      <td>0.0</td>\n",
       "      <td>0.0</td>\n",
       "      <td>0.0</td>\n",
       "      <td>0.0</td>\n",
       "      <td>0.0</td>\n",
       "      <td>0.0</td>\n",
       "      <td>0.0</td>\n",
       "      <td>0.0</td>\n",
       "      <td>0.0</td>\n",
       "      <td>0.0</td>\n",
       "      <td>0.0</td>\n",
       "      <td>0.0</td>\n",
       "      <td>0.0</td>\n",
       "      <td>0.0</td>\n",
       "      <td>0.0</td>\n",
       "      <td>0.0</td>\n",
       "      <td>1.0</td>\n",
       "      <td>0.0</td>\n",
       "      <td>0.0</td>\n",
       "      <td>0.0</td>\n",
       "      <td>0.0</td>\n",
       "      <td>0.0</td>\n",
       "      <td>0.0</td>\n",
       "      <td>0.0</td>\n",
       "      <td>0.0</td>\n",
       "      <td>0.0</td>\n",
       "      <td>0.0</td>\n",
       "      <td>0.0</td>\n",
       "      <td>0.0</td>\n",
       "      <td>0.0</td>\n",
       "      <td>0.0</td>\n",
       "      <td>0.0</td>\n",
       "      <td>0.0</td>\n",
       "      <td>0.0</td>\n",
       "      <td>0.0</td>\n",
       "      <td>0.0</td>\n",
       "      <td>0.0</td>\n",
       "      <td>0.0</td>\n",
       "      <td>0.0</td>\n",
       "      <td>0.0</td>\n",
       "      <td>0.0</td>\n",
       "      <td>0.0</td>\n",
       "      <td>0.0</td>\n",
       "      <td>0.0</td>\n",
       "      <td>0.0</td>\n",
       "      <td>0.0</td>\n",
       "      <td>0.0</td>\n",
       "      <td>0.0</td>\n",
       "      <td>0.0</td>\n",
       "      <td>0.0</td>\n",
       "      <td>0.0</td>\n",
       "      <td>0.0</td>\n",
       "      <td>0.0</td>\n",
       "      <td>0.0</td>\n",
       "      <td>0.0</td>\n",
       "      <td>0.0</td>\n",
       "      <td>0.0</td>\n",
       "      <td>0.0</td>\n",
       "      <td>1.0</td>\n",
       "      <td>0.0</td>\n",
       "      <td>0.0</td>\n",
       "      <td>0.0</td>\n",
       "      <td>0.0</td>\n",
       "      <td>0.0</td>\n",
       "      <td>0.0</td>\n",
       "      <td>0.0</td>\n",
       "      <td>0.0</td>\n",
       "      <td>0.0</td>\n",
       "      <td>0.0</td>\n",
       "      <td>0.0</td>\n",
       "      <td>0.0</td>\n",
       "      <td>0.0</td>\n",
       "      <td>0.0</td>\n",
       "      <td>0.0</td>\n",
       "      <td>0.0</td>\n",
       "      <td>0.0</td>\n",
       "      <td>0.0</td>\n",
       "      <td>0.0</td>\n",
       "      <td>0.0</td>\n",
       "      <td>0.0</td>\n",
       "    </tr>\n",
       "    <tr>\n",
       "      <th>1</th>\n",
       "      <td>0.0</td>\n",
       "      <td>0.0</td>\n",
       "      <td>0.0</td>\n",
       "      <td>0.0</td>\n",
       "      <td>0.0</td>\n",
       "      <td>0.0</td>\n",
       "      <td>0.0</td>\n",
       "      <td>0.0</td>\n",
       "      <td>0.0</td>\n",
       "      <td>0.0</td>\n",
       "      <td>0.0</td>\n",
       "      <td>0.0</td>\n",
       "      <td>0.0</td>\n",
       "      <td>0.0</td>\n",
       "      <td>0.0</td>\n",
       "      <td>0.0</td>\n",
       "      <td>0.0</td>\n",
       "      <td>0.0</td>\n",
       "      <td>0.0</td>\n",
       "      <td>0.0</td>\n",
       "      <td>0.0</td>\n",
       "      <td>0.0</td>\n",
       "      <td>0.0</td>\n",
       "      <td>0.0</td>\n",
       "      <td>0.0</td>\n",
       "      <td>0.0</td>\n",
       "      <td>0.0</td>\n",
       "      <td>0.0</td>\n",
       "      <td>0.0</td>\n",
       "      <td>0.0</td>\n",
       "      <td>0.0</td>\n",
       "      <td>1.0</td>\n",
       "      <td>0.0</td>\n",
       "      <td>0.0</td>\n",
       "      <td>0.0</td>\n",
       "      <td>0.0</td>\n",
       "      <td>0.0</td>\n",
       "      <td>0.0</td>\n",
       "      <td>0.0</td>\n",
       "      <td>0.0</td>\n",
       "      <td>0.0</td>\n",
       "      <td>0.0</td>\n",
       "      <td>0.0</td>\n",
       "      <td>0.0</td>\n",
       "      <td>0.0</td>\n",
       "      <td>0.0</td>\n",
       "      <td>0.0</td>\n",
       "      <td>0.0</td>\n",
       "      <td>0.0</td>\n",
       "      <td>0.0</td>\n",
       "      <td>0.0</td>\n",
       "      <td>0.0</td>\n",
       "      <td>0.0</td>\n",
       "      <td>0.0</td>\n",
       "      <td>0.0</td>\n",
       "      <td>0.0</td>\n",
       "      <td>0.0</td>\n",
       "      <td>0.0</td>\n",
       "      <td>0.0</td>\n",
       "      <td>0.0</td>\n",
       "      <td>0.0</td>\n",
       "      <td>0.0</td>\n",
       "      <td>0.0</td>\n",
       "      <td>0.0</td>\n",
       "      <td>0.0</td>\n",
       "      <td>0.0</td>\n",
       "      <td>0.0</td>\n",
       "      <td>0.0</td>\n",
       "      <td>0.0</td>\n",
       "      <td>0.0</td>\n",
       "      <td>0.0</td>\n",
       "      <td>0.0</td>\n",
       "      <td>0.0</td>\n",
       "      <td>0.0</td>\n",
       "      <td>0.0</td>\n",
       "      <td>0.0</td>\n",
       "      <td>0.0</td>\n",
       "      <td>0.0</td>\n",
       "      <td>0.0</td>\n",
       "      <td>0.0</td>\n",
       "      <td>1.0</td>\n",
       "      <td>0.0</td>\n",
       "      <td>0.0</td>\n",
       "      <td>0.0</td>\n",
       "      <td>0.0</td>\n",
       "      <td>0.0</td>\n",
       "      <td>0.0</td>\n",
       "      <td>0.0</td>\n",
       "      <td>0.0</td>\n",
       "      <td>0.0</td>\n",
       "      <td>0.0</td>\n",
       "      <td>0.0</td>\n",
       "      <td>0.0</td>\n",
       "      <td>0.0</td>\n",
       "      <td>0.0</td>\n",
       "      <td>0.0</td>\n",
       "      <td>0.0</td>\n",
       "      <td>0.0</td>\n",
       "      <td>0.0</td>\n",
       "      <td>0.0</td>\n",
       "      <td>0.0</td>\n",
       "      <td>0.0</td>\n",
       "      <td>0.0</td>\n",
       "      <td>0.0</td>\n",
       "      <td>0.0</td>\n",
       "      <td>0.0</td>\n",
       "      <td>0.0</td>\n",
       "      <td>0.0</td>\n",
       "      <td>0.0</td>\n",
       "      <td>0.0</td>\n",
       "      <td>0.0</td>\n",
       "      <td>0.0</td>\n",
       "      <td>0.0</td>\n",
       "      <td>0.0</td>\n",
       "      <td>0.0</td>\n",
       "      <td>0.0</td>\n",
       "      <td>0.0</td>\n",
       "      <td>0.0</td>\n",
       "      <td>0.0</td>\n",
       "      <td>0.0</td>\n",
       "      <td>0.0</td>\n",
       "      <td>0.0</td>\n",
       "      <td>0.0</td>\n",
       "      <td>0.0</td>\n",
       "      <td>0.0</td>\n",
       "      <td>0.0</td>\n",
       "      <td>0.0</td>\n",
       "      <td>0.0</td>\n",
       "      <td>0.0</td>\n",
       "      <td>0.0</td>\n",
       "      <td>0.0</td>\n",
       "      <td>0.0</td>\n",
       "      <td>0.0</td>\n",
       "      <td>0.0</td>\n",
       "      <td>0.0</td>\n",
       "      <td>0.0</td>\n",
       "      <td>1.0</td>\n",
       "      <td>0.0</td>\n",
       "      <td>0.0</td>\n",
       "      <td>0.0</td>\n",
       "      <td>0.0</td>\n",
       "      <td>0.0</td>\n",
       "      <td>0.0</td>\n",
       "      <td>0.0</td>\n",
       "      <td>0.0</td>\n",
       "      <td>0.0</td>\n",
       "      <td>0.0</td>\n",
       "      <td>0.0</td>\n",
       "      <td>0.0</td>\n",
       "      <td>0.0</td>\n",
       "      <td>0.0</td>\n",
       "      <td>0.0</td>\n",
       "      <td>0.0</td>\n",
       "      <td>0.0</td>\n",
       "      <td>0.0</td>\n",
       "      <td>0.0</td>\n",
       "      <td>0.0</td>\n",
       "      <td>0.0</td>\n",
       "      <td>0.0</td>\n",
       "      <td>0.0</td>\n",
       "      <td>0.0</td>\n",
       "      <td>0.0</td>\n",
       "      <td>0.0</td>\n",
       "      <td>0.0</td>\n",
       "      <td>0.0</td>\n",
       "      <td>0.0</td>\n",
       "      <td>0.0</td>\n",
       "      <td>0.0</td>\n",
       "      <td>0.0</td>\n",
       "      <td>0.0</td>\n",
       "      <td>0.0</td>\n",
       "      <td>0.0</td>\n",
       "      <td>0.0</td>\n",
       "      <td>0.0</td>\n",
       "      <td>0.0</td>\n",
       "      <td>0.0</td>\n",
       "      <td>0.0</td>\n",
       "      <td>0.0</td>\n",
       "      <td>0.0</td>\n",
       "      <td>0.0</td>\n",
       "      <td>0.0</td>\n",
       "      <td>0.0</td>\n",
       "      <td>0.0</td>\n",
       "      <td>0.0</td>\n",
       "      <td>0.0</td>\n",
       "      <td>0.0</td>\n",
       "      <td>0.0</td>\n",
       "      <td>0.0</td>\n",
       "      <td>0.0</td>\n",
       "      <td>0.0</td>\n",
       "      <td>0.0</td>\n",
       "      <td>2.0</td>\n",
       "      <td>0.0</td>\n",
       "      <td>0.0</td>\n",
       "      <td>0.0</td>\n",
       "      <td>0.0</td>\n",
       "      <td>0.0</td>\n",
       "      <td>0.0</td>\n",
       "      <td>0.0</td>\n",
       "      <td>0.0</td>\n",
       "      <td>0.0</td>\n",
       "      <td>0.0</td>\n",
       "      <td>0.0</td>\n",
       "      <td>0.0</td>\n",
       "      <td>1.0</td>\n",
       "      <td>0.0</td>\n",
       "      <td>0.0</td>\n",
       "      <td>0.0</td>\n",
       "      <td>0.0</td>\n",
       "      <td>0.0</td>\n",
       "      <td>0.0</td>\n",
       "      <td>0.0</td>\n",
       "      <td>0.0</td>\n",
       "      <td>0.0</td>\n",
       "      <td>0.0</td>\n",
       "      <td>0.0</td>\n",
       "      <td>0.0</td>\n",
       "      <td>0.0</td>\n",
       "      <td>0.0</td>\n",
       "      <td>0.0</td>\n",
       "      <td>0.0</td>\n",
       "      <td>0.0</td>\n",
       "      <td>0.0</td>\n",
       "      <td>0.0</td>\n",
       "      <td>0.0</td>\n",
       "      <td>1.0</td>\n",
       "      <td>0.0</td>\n",
       "      <td>0.0</td>\n",
       "      <td>0.0</td>\n",
       "      <td>0.0</td>\n",
       "      <td>0.0</td>\n",
       "      <td>0.0</td>\n",
       "      <td>0.0</td>\n",
       "      <td>0.0</td>\n",
       "      <td>0.0</td>\n",
       "      <td>0.0</td>\n",
       "      <td>0.0</td>\n",
       "      <td>0.0</td>\n",
       "      <td>0.0</td>\n",
       "      <td>0.0</td>\n",
       "      <td>0.0</td>\n",
       "      <td>0.0</td>\n",
       "      <td>0.0</td>\n",
       "      <td>0.0</td>\n",
       "      <td>0.0</td>\n",
       "      <td>0.0</td>\n",
       "      <td>0.0</td>\n",
       "      <td>0.0</td>\n",
       "      <td>0.0</td>\n",
       "      <td>0.0</td>\n",
       "      <td>0.0</td>\n",
       "      <td>0.0</td>\n",
       "      <td>2.0</td>\n",
       "      <td>0.0</td>\n",
       "      <td>0.0</td>\n",
       "      <td>0.0</td>\n",
       "      <td>0.0</td>\n",
       "      <td>0.0</td>\n",
       "      <td>0.0</td>\n",
       "      <td>0.0</td>\n",
       "      <td>0.0</td>\n",
       "      <td>0.0</td>\n",
       "      <td>0.0</td>\n",
       "      <td>0.0</td>\n",
       "      <td>0.0</td>\n",
       "      <td>0.0</td>\n",
       "      <td>0.0</td>\n",
       "      <td>0.0</td>\n",
       "      <td>0.0</td>\n",
       "      <td>0.0</td>\n",
       "      <td>0.0</td>\n",
       "      <td>0.0</td>\n",
       "      <td>0.0</td>\n",
       "      <td>0.0</td>\n",
       "      <td>0.0</td>\n",
       "      <td>0.0</td>\n",
       "      <td>0.0</td>\n",
       "      <td>0.0</td>\n",
       "      <td>0.0</td>\n",
       "      <td>0.0</td>\n",
       "      <td>0.0</td>\n",
       "      <td>2.0</td>\n",
       "      <td>0.0</td>\n",
       "      <td>0.0</td>\n",
       "      <td>0.0</td>\n",
       "      <td>0.0</td>\n",
       "      <td>0.0</td>\n",
       "      <td>0.0</td>\n",
       "      <td>0.0</td>\n",
       "      <td>0.0</td>\n",
       "      <td>0.0</td>\n",
       "      <td>0.0</td>\n",
       "      <td>0.0</td>\n",
       "      <td>0.0</td>\n",
       "      <td>0.0</td>\n",
       "      <td>0.0</td>\n",
       "      <td>0.0</td>\n",
       "      <td>1.0</td>\n",
       "      <td>0.0</td>\n",
       "      <td>0.0</td>\n",
       "      <td>0.0</td>\n",
       "      <td>0.0</td>\n",
       "      <td>0.0</td>\n",
       "      <td>0.0</td>\n",
       "      <td>0.0</td>\n",
       "      <td>0.0</td>\n",
       "      <td>0.0</td>\n",
       "      <td>0.0</td>\n",
       "      <td>0.0</td>\n",
       "      <td>0.0</td>\n",
       "      <td>0.0</td>\n",
       "      <td>0.0</td>\n",
       "      <td>0.0</td>\n",
       "      <td>0.0</td>\n",
       "      <td>0.0</td>\n",
       "      <td>0.0</td>\n",
       "    </tr>\n",
       "    <tr>\n",
       "      <th>2</th>\n",
       "      <td>0.0</td>\n",
       "      <td>0.0</td>\n",
       "      <td>0.0</td>\n",
       "      <td>0.0</td>\n",
       "      <td>0.0</td>\n",
       "      <td>0.0</td>\n",
       "      <td>0.0</td>\n",
       "      <td>0.0</td>\n",
       "      <td>0.0</td>\n",
       "      <td>0.0</td>\n",
       "      <td>0.0</td>\n",
       "      <td>0.0</td>\n",
       "      <td>0.0</td>\n",
       "      <td>0.0</td>\n",
       "      <td>0.0</td>\n",
       "      <td>0.0</td>\n",
       "      <td>0.0</td>\n",
       "      <td>0.0</td>\n",
       "      <td>2.0</td>\n",
       "      <td>0.0</td>\n",
       "      <td>0.0</td>\n",
       "      <td>0.0</td>\n",
       "      <td>0.0</td>\n",
       "      <td>0.0</td>\n",
       "      <td>0.0</td>\n",
       "      <td>0.0</td>\n",
       "      <td>0.0</td>\n",
       "      <td>0.0</td>\n",
       "      <td>0.0</td>\n",
       "      <td>0.0</td>\n",
       "      <td>0.0</td>\n",
       "      <td>0.0</td>\n",
       "      <td>0.0</td>\n",
       "      <td>0.0</td>\n",
       "      <td>0.0</td>\n",
       "      <td>0.0</td>\n",
       "      <td>0.0</td>\n",
       "      <td>0.0</td>\n",
       "      <td>0.0</td>\n",
       "      <td>0.0</td>\n",
       "      <td>0.0</td>\n",
       "      <td>0.0</td>\n",
       "      <td>0.0</td>\n",
       "      <td>0.0</td>\n",
       "      <td>0.0</td>\n",
       "      <td>0.0</td>\n",
       "      <td>0.0</td>\n",
       "      <td>0.0</td>\n",
       "      <td>0.0</td>\n",
       "      <td>0.0</td>\n",
       "      <td>0.0</td>\n",
       "      <td>0.0</td>\n",
       "      <td>0.0</td>\n",
       "      <td>0.0</td>\n",
       "      <td>0.0</td>\n",
       "      <td>0.0</td>\n",
       "      <td>0.0</td>\n",
       "      <td>0.0</td>\n",
       "      <td>0.0</td>\n",
       "      <td>0.0</td>\n",
       "      <td>0.0</td>\n",
       "      <td>0.0</td>\n",
       "      <td>0.0</td>\n",
       "      <td>0.0</td>\n",
       "      <td>0.0</td>\n",
       "      <td>0.0</td>\n",
       "      <td>0.0</td>\n",
       "      <td>0.0</td>\n",
       "      <td>0.0</td>\n",
       "      <td>0.0</td>\n",
       "      <td>0.0</td>\n",
       "      <td>0.0</td>\n",
       "      <td>0.0</td>\n",
       "      <td>0.0</td>\n",
       "      <td>0.0</td>\n",
       "      <td>0.0</td>\n",
       "      <td>0.0</td>\n",
       "      <td>0.0</td>\n",
       "      <td>0.0</td>\n",
       "      <td>0.0</td>\n",
       "      <td>0.0</td>\n",
       "      <td>0.0</td>\n",
       "      <td>0.0</td>\n",
       "      <td>0.0</td>\n",
       "      <td>0.0</td>\n",
       "      <td>0.0</td>\n",
       "      <td>0.0</td>\n",
       "      <td>0.0</td>\n",
       "      <td>0.0</td>\n",
       "      <td>0.0</td>\n",
       "      <td>0.0</td>\n",
       "      <td>0.0</td>\n",
       "      <td>0.0</td>\n",
       "      <td>0.0</td>\n",
       "      <td>0.0</td>\n",
       "      <td>0.0</td>\n",
       "      <td>0.0</td>\n",
       "      <td>0.0</td>\n",
       "      <td>0.0</td>\n",
       "      <td>0.0</td>\n",
       "      <td>0.0</td>\n",
       "      <td>0.0</td>\n",
       "      <td>0.0</td>\n",
       "      <td>0.0</td>\n",
       "      <td>0.0</td>\n",
       "      <td>0.0</td>\n",
       "      <td>0.0</td>\n",
       "      <td>0.0</td>\n",
       "      <td>0.0</td>\n",
       "      <td>0.0</td>\n",
       "      <td>0.0</td>\n",
       "      <td>0.0</td>\n",
       "      <td>0.0</td>\n",
       "      <td>0.0</td>\n",
       "      <td>0.0</td>\n",
       "      <td>0.0</td>\n",
       "      <td>0.0</td>\n",
       "      <td>0.0</td>\n",
       "      <td>0.0</td>\n",
       "      <td>0.0</td>\n",
       "      <td>0.0</td>\n",
       "      <td>0.0</td>\n",
       "      <td>0.0</td>\n",
       "      <td>0.0</td>\n",
       "      <td>0.0</td>\n",
       "      <td>0.0</td>\n",
       "      <td>0.0</td>\n",
       "      <td>0.0</td>\n",
       "      <td>0.0</td>\n",
       "      <td>0.0</td>\n",
       "      <td>0.0</td>\n",
       "      <td>0.0</td>\n",
       "      <td>0.0</td>\n",
       "      <td>0.0</td>\n",
       "      <td>0.0</td>\n",
       "      <td>0.0</td>\n",
       "      <td>0.0</td>\n",
       "      <td>0.0</td>\n",
       "      <td>0.0</td>\n",
       "      <td>0.0</td>\n",
       "      <td>0.0</td>\n",
       "      <td>0.0</td>\n",
       "      <td>0.0</td>\n",
       "      <td>0.0</td>\n",
       "      <td>0.0</td>\n",
       "      <td>0.0</td>\n",
       "      <td>0.0</td>\n",
       "      <td>0.0</td>\n",
       "      <td>0.0</td>\n",
       "      <td>0.0</td>\n",
       "      <td>0.0</td>\n",
       "      <td>0.0</td>\n",
       "      <td>0.0</td>\n",
       "      <td>0.0</td>\n",
       "      <td>0.0</td>\n",
       "      <td>0.0</td>\n",
       "      <td>0.0</td>\n",
       "      <td>0.0</td>\n",
       "      <td>0.0</td>\n",
       "      <td>0.0</td>\n",
       "      <td>0.0</td>\n",
       "      <td>0.0</td>\n",
       "      <td>0.0</td>\n",
       "      <td>0.0</td>\n",
       "      <td>1.0</td>\n",
       "      <td>0.0</td>\n",
       "      <td>0.0</td>\n",
       "      <td>0.0</td>\n",
       "      <td>0.0</td>\n",
       "      <td>0.0</td>\n",
       "      <td>0.0</td>\n",
       "      <td>0.0</td>\n",
       "      <td>0.0</td>\n",
       "      <td>0.0</td>\n",
       "      <td>0.0</td>\n",
       "      <td>0.0</td>\n",
       "      <td>0.0</td>\n",
       "      <td>0.0</td>\n",
       "      <td>0.0</td>\n",
       "      <td>0.0</td>\n",
       "      <td>0.0</td>\n",
       "      <td>0.0</td>\n",
       "      <td>0.0</td>\n",
       "      <td>0.0</td>\n",
       "      <td>0.0</td>\n",
       "      <td>0.0</td>\n",
       "      <td>0.0</td>\n",
       "      <td>0.0</td>\n",
       "      <td>0.0</td>\n",
       "      <td>0.0</td>\n",
       "      <td>0.0</td>\n",
       "      <td>0.0</td>\n",
       "      <td>0.0</td>\n",
       "      <td>0.0</td>\n",
       "      <td>0.0</td>\n",
       "      <td>0.0</td>\n",
       "      <td>0.0</td>\n",
       "      <td>0.0</td>\n",
       "      <td>0.0</td>\n",
       "      <td>0.0</td>\n",
       "      <td>0.0</td>\n",
       "      <td>0.0</td>\n",
       "      <td>0.0</td>\n",
       "      <td>0.0</td>\n",
       "      <td>0.0</td>\n",
       "      <td>0.0</td>\n",
       "      <td>0.0</td>\n",
       "      <td>0.0</td>\n",
       "      <td>0.0</td>\n",
       "      <td>0.0</td>\n",
       "      <td>0.0</td>\n",
       "      <td>0.0</td>\n",
       "      <td>0.0</td>\n",
       "      <td>0.0</td>\n",
       "      <td>0.0</td>\n",
       "      <td>0.0</td>\n",
       "      <td>0.0</td>\n",
       "      <td>0.0</td>\n",
       "      <td>0.0</td>\n",
       "      <td>0.0</td>\n",
       "      <td>0.0</td>\n",
       "      <td>0.0</td>\n",
       "      <td>0.0</td>\n",
       "      <td>0.0</td>\n",
       "      <td>0.0</td>\n",
       "      <td>0.0</td>\n",
       "      <td>1.0</td>\n",
       "      <td>0.0</td>\n",
       "      <td>0.0</td>\n",
       "      <td>0.0</td>\n",
       "      <td>0.0</td>\n",
       "      <td>0.0</td>\n",
       "      <td>0.0</td>\n",
       "      <td>0.0</td>\n",
       "      <td>0.0</td>\n",
       "      <td>0.0</td>\n",
       "      <td>0.0</td>\n",
       "      <td>0.0</td>\n",
       "      <td>0.0</td>\n",
       "      <td>0.0</td>\n",
       "      <td>0.0</td>\n",
       "      <td>0.0</td>\n",
       "      <td>0.0</td>\n",
       "      <td>0.0</td>\n",
       "      <td>0.0</td>\n",
       "      <td>0.0</td>\n",
       "      <td>0.0</td>\n",
       "      <td>0.0</td>\n",
       "      <td>0.0</td>\n",
       "      <td>0.0</td>\n",
       "      <td>0.0</td>\n",
       "      <td>0.0</td>\n",
       "      <td>0.0</td>\n",
       "      <td>0.0</td>\n",
       "      <td>0.0</td>\n",
       "      <td>0.0</td>\n",
       "      <td>0.0</td>\n",
       "      <td>0.0</td>\n",
       "      <td>0.0</td>\n",
       "      <td>0.0</td>\n",
       "      <td>0.0</td>\n",
       "      <td>0.0</td>\n",
       "      <td>0.0</td>\n",
       "      <td>0.0</td>\n",
       "      <td>0.0</td>\n",
       "      <td>0.0</td>\n",
       "      <td>0.0</td>\n",
       "      <td>0.0</td>\n",
       "      <td>0.0</td>\n",
       "      <td>0.0</td>\n",
       "      <td>0.0</td>\n",
       "      <td>0.0</td>\n",
       "      <td>0.0</td>\n",
       "      <td>0.0</td>\n",
       "      <td>0.0</td>\n",
       "      <td>0.0</td>\n",
       "      <td>0.0</td>\n",
       "      <td>0.0</td>\n",
       "      <td>0.0</td>\n",
       "      <td>0.0</td>\n",
       "      <td>0.0</td>\n",
       "      <td>0.0</td>\n",
       "      <td>0.0</td>\n",
       "      <td>0.0</td>\n",
       "      <td>0.0</td>\n",
       "      <td>0.0</td>\n",
       "      <td>0.0</td>\n",
       "      <td>0.0</td>\n",
       "      <td>0.0</td>\n",
       "      <td>0.0</td>\n",
       "      <td>0.0</td>\n",
       "      <td>0.0</td>\n",
       "      <td>0.0</td>\n",
       "      <td>0.0</td>\n",
       "      <td>0.0</td>\n",
       "      <td>0.0</td>\n",
       "      <td>0.0</td>\n",
       "      <td>0.0</td>\n",
       "      <td>0.0</td>\n",
       "      <td>0.0</td>\n",
       "      <td>0.0</td>\n",
       "      <td>0.0</td>\n",
       "      <td>0.0</td>\n",
       "      <td>0.0</td>\n",
       "      <td>0.0</td>\n",
       "      <td>0.0</td>\n",
       "      <td>0.0</td>\n",
       "      <td>0.0</td>\n",
       "      <td>0.0</td>\n",
       "      <td>0.0</td>\n",
       "      <td>0.0</td>\n",
       "      <td>0.0</td>\n",
       "      <td>0.0</td>\n",
       "      <td>0.0</td>\n",
       "      <td>0.0</td>\n",
       "      <td>0.0</td>\n",
       "    </tr>\n",
       "    <tr>\n",
       "      <th>3</th>\n",
       "      <td>0.0</td>\n",
       "      <td>0.0</td>\n",
       "      <td>0.0</td>\n",
       "      <td>0.0</td>\n",
       "      <td>0.0</td>\n",
       "      <td>0.0</td>\n",
       "      <td>0.0</td>\n",
       "      <td>0.0</td>\n",
       "      <td>0.0</td>\n",
       "      <td>0.0</td>\n",
       "      <td>0.0</td>\n",
       "      <td>0.0</td>\n",
       "      <td>0.0</td>\n",
       "      <td>0.0</td>\n",
       "      <td>0.0</td>\n",
       "      <td>0.0</td>\n",
       "      <td>0.0</td>\n",
       "      <td>0.0</td>\n",
       "      <td>0.0</td>\n",
       "      <td>0.0</td>\n",
       "      <td>0.0</td>\n",
       "      <td>0.0</td>\n",
       "      <td>0.0</td>\n",
       "      <td>0.0</td>\n",
       "      <td>0.0</td>\n",
       "      <td>0.0</td>\n",
       "      <td>0.0</td>\n",
       "      <td>0.0</td>\n",
       "      <td>0.0</td>\n",
       "      <td>0.0</td>\n",
       "      <td>0.0</td>\n",
       "      <td>0.0</td>\n",
       "      <td>0.0</td>\n",
       "      <td>0.0</td>\n",
       "      <td>0.0</td>\n",
       "      <td>0.0</td>\n",
       "      <td>0.0</td>\n",
       "      <td>0.0</td>\n",
       "      <td>0.0</td>\n",
       "      <td>0.0</td>\n",
       "      <td>0.0</td>\n",
       "      <td>0.0</td>\n",
       "      <td>0.0</td>\n",
       "      <td>0.0</td>\n",
       "      <td>0.0</td>\n",
       "      <td>0.0</td>\n",
       "      <td>0.0</td>\n",
       "      <td>0.0</td>\n",
       "      <td>0.0</td>\n",
       "      <td>0.0</td>\n",
       "      <td>0.0</td>\n",
       "      <td>0.0</td>\n",
       "      <td>0.0</td>\n",
       "      <td>0.0</td>\n",
       "      <td>0.0</td>\n",
       "      <td>0.0</td>\n",
       "      <td>0.0</td>\n",
       "      <td>0.0</td>\n",
       "      <td>0.0</td>\n",
       "      <td>0.0</td>\n",
       "      <td>0.0</td>\n",
       "      <td>0.0</td>\n",
       "      <td>0.0</td>\n",
       "      <td>0.0</td>\n",
       "      <td>0.0</td>\n",
       "      <td>0.0</td>\n",
       "      <td>0.0</td>\n",
       "      <td>0.0</td>\n",
       "      <td>0.0</td>\n",
       "      <td>0.0</td>\n",
       "      <td>0.0</td>\n",
       "      <td>0.0</td>\n",
       "      <td>0.0</td>\n",
       "      <td>0.0</td>\n",
       "      <td>0.0</td>\n",
       "      <td>0.0</td>\n",
       "      <td>0.0</td>\n",
       "      <td>0.0</td>\n",
       "      <td>0.0</td>\n",
       "      <td>0.0</td>\n",
       "      <td>0.0</td>\n",
       "      <td>0.0</td>\n",
       "      <td>0.0</td>\n",
       "      <td>0.0</td>\n",
       "      <td>0.0</td>\n",
       "      <td>0.0</td>\n",
       "      <td>0.0</td>\n",
       "      <td>0.0</td>\n",
       "      <td>0.0</td>\n",
       "      <td>0.0</td>\n",
       "      <td>0.0</td>\n",
       "      <td>0.0</td>\n",
       "      <td>0.0</td>\n",
       "      <td>0.0</td>\n",
       "      <td>0.0</td>\n",
       "      <td>0.0</td>\n",
       "      <td>0.0</td>\n",
       "      <td>0.0</td>\n",
       "      <td>0.0</td>\n",
       "      <td>0.0</td>\n",
       "      <td>0.0</td>\n",
       "      <td>0.0</td>\n",
       "      <td>0.0</td>\n",
       "      <td>0.0</td>\n",
       "      <td>0.0</td>\n",
       "      <td>0.0</td>\n",
       "      <td>0.0</td>\n",
       "      <td>0.0</td>\n",
       "      <td>0.0</td>\n",
       "      <td>0.0</td>\n",
       "      <td>0.0</td>\n",
       "      <td>0.0</td>\n",
       "      <td>0.0</td>\n",
       "      <td>0.0</td>\n",
       "      <td>0.0</td>\n",
       "      <td>0.0</td>\n",
       "      <td>0.0</td>\n",
       "      <td>0.0</td>\n",
       "      <td>0.0</td>\n",
       "      <td>0.0</td>\n",
       "      <td>0.0</td>\n",
       "      <td>0.0</td>\n",
       "      <td>0.0</td>\n",
       "      <td>0.0</td>\n",
       "      <td>0.0</td>\n",
       "      <td>0.0</td>\n",
       "      <td>0.0</td>\n",
       "      <td>0.0</td>\n",
       "      <td>0.0</td>\n",
       "      <td>0.0</td>\n",
       "      <td>0.0</td>\n",
       "      <td>0.0</td>\n",
       "      <td>0.0</td>\n",
       "      <td>0.0</td>\n",
       "      <td>0.0</td>\n",
       "      <td>0.0</td>\n",
       "      <td>0.0</td>\n",
       "      <td>0.0</td>\n",
       "      <td>0.0</td>\n",
       "      <td>0.0</td>\n",
       "      <td>0.0</td>\n",
       "      <td>0.0</td>\n",
       "      <td>0.0</td>\n",
       "      <td>0.0</td>\n",
       "      <td>0.0</td>\n",
       "      <td>0.0</td>\n",
       "      <td>0.0</td>\n",
       "      <td>0.0</td>\n",
       "      <td>0.0</td>\n",
       "      <td>0.0</td>\n",
       "      <td>0.0</td>\n",
       "      <td>0.0</td>\n",
       "      <td>0.0</td>\n",
       "      <td>0.0</td>\n",
       "      <td>0.0</td>\n",
       "      <td>0.0</td>\n",
       "      <td>0.0</td>\n",
       "      <td>0.0</td>\n",
       "      <td>0.0</td>\n",
       "      <td>0.0</td>\n",
       "      <td>0.0</td>\n",
       "      <td>0.0</td>\n",
       "      <td>0.0</td>\n",
       "      <td>0.0</td>\n",
       "      <td>0.0</td>\n",
       "      <td>1.0</td>\n",
       "      <td>0.0</td>\n",
       "      <td>0.0</td>\n",
       "      <td>0.0</td>\n",
       "      <td>0.0</td>\n",
       "      <td>0.0</td>\n",
       "      <td>0.0</td>\n",
       "      <td>0.0</td>\n",
       "      <td>0.0</td>\n",
       "      <td>0.0</td>\n",
       "      <td>0.0</td>\n",
       "      <td>0.0</td>\n",
       "      <td>0.0</td>\n",
       "      <td>0.0</td>\n",
       "      <td>0.0</td>\n",
       "      <td>0.0</td>\n",
       "      <td>0.0</td>\n",
       "      <td>0.0</td>\n",
       "      <td>0.0</td>\n",
       "      <td>0.0</td>\n",
       "      <td>0.0</td>\n",
       "      <td>0.0</td>\n",
       "      <td>0.0</td>\n",
       "      <td>0.0</td>\n",
       "      <td>0.0</td>\n",
       "      <td>0.0</td>\n",
       "      <td>1.0</td>\n",
       "      <td>0.0</td>\n",
       "      <td>0.0</td>\n",
       "      <td>0.0</td>\n",
       "      <td>0.0</td>\n",
       "      <td>0.0</td>\n",
       "      <td>0.0</td>\n",
       "      <td>0.0</td>\n",
       "      <td>0.0</td>\n",
       "      <td>0.0</td>\n",
       "      <td>0.0</td>\n",
       "      <td>0.0</td>\n",
       "      <td>0.0</td>\n",
       "      <td>0.0</td>\n",
       "      <td>0.0</td>\n",
       "      <td>0.0</td>\n",
       "      <td>0.0</td>\n",
       "      <td>0.0</td>\n",
       "      <td>0.0</td>\n",
       "      <td>0.0</td>\n",
       "      <td>0.0</td>\n",
       "      <td>0.0</td>\n",
       "      <td>0.0</td>\n",
       "      <td>0.0</td>\n",
       "      <td>0.0</td>\n",
       "      <td>0.0</td>\n",
       "      <td>0.0</td>\n",
       "      <td>0.0</td>\n",
       "      <td>0.0</td>\n",
       "      <td>0.0</td>\n",
       "      <td>0.0</td>\n",
       "      <td>0.0</td>\n",
       "      <td>0.0</td>\n",
       "      <td>0.0</td>\n",
       "      <td>0.0</td>\n",
       "      <td>0.0</td>\n",
       "      <td>0.0</td>\n",
       "      <td>0.0</td>\n",
       "      <td>0.0</td>\n",
       "      <td>0.0</td>\n",
       "      <td>0.0</td>\n",
       "      <td>0.0</td>\n",
       "      <td>0.0</td>\n",
       "      <td>0.0</td>\n",
       "      <td>0.0</td>\n",
       "      <td>0.0</td>\n",
       "      <td>0.0</td>\n",
       "      <td>0.0</td>\n",
       "      <td>0.0</td>\n",
       "      <td>0.0</td>\n",
       "      <td>0.0</td>\n",
       "      <td>0.0</td>\n",
       "      <td>0.0</td>\n",
       "      <td>0.0</td>\n",
       "      <td>0.0</td>\n",
       "      <td>0.0</td>\n",
       "      <td>0.0</td>\n",
       "      <td>0.0</td>\n",
       "      <td>0.0</td>\n",
       "      <td>0.0</td>\n",
       "      <td>0.0</td>\n",
       "      <td>5.0</td>\n",
       "      <td>0.0</td>\n",
       "      <td>0.0</td>\n",
       "      <td>0.0</td>\n",
       "      <td>0.0</td>\n",
       "      <td>0.0</td>\n",
       "      <td>0.0</td>\n",
       "      <td>0.0</td>\n",
       "      <td>0.0</td>\n",
       "      <td>0.0</td>\n",
       "      <td>0.0</td>\n",
       "      <td>0.0</td>\n",
       "      <td>0.0</td>\n",
       "      <td>0.0</td>\n",
       "      <td>0.0</td>\n",
       "      <td>0.0</td>\n",
       "      <td>0.0</td>\n",
       "      <td>0.0</td>\n",
       "      <td>0.0</td>\n",
       "      <td>0.0</td>\n",
       "      <td>0.0</td>\n",
       "      <td>0.0</td>\n",
       "      <td>0.0</td>\n",
       "      <td>0.0</td>\n",
       "      <td>0.0</td>\n",
       "      <td>0.0</td>\n",
       "      <td>0.0</td>\n",
       "      <td>0.0</td>\n",
       "      <td>0.0</td>\n",
       "      <td>1.0</td>\n",
       "      <td>0.0</td>\n",
       "      <td>0.0</td>\n",
       "      <td>0.0</td>\n",
       "      <td>0.0</td>\n",
       "      <td>0.0</td>\n",
       "      <td>0.0</td>\n",
       "      <td>1.0</td>\n",
       "      <td>0.0</td>\n",
       "      <td>0.0</td>\n",
       "      <td>0.0</td>\n",
       "      <td>0.0</td>\n",
       "      <td>0.0</td>\n",
       "      <td>0.0</td>\n",
       "      <td>0.0</td>\n",
       "      <td>0.0</td>\n",
       "      <td>0.0</td>\n",
       "      <td>0.0</td>\n",
       "      <td>0.0</td>\n",
       "      <td>0.0</td>\n",
       "      <td>0.0</td>\n",
       "      <td>0.0</td>\n",
       "      <td>0.0</td>\n",
       "      <td>0.0</td>\n",
       "      <td>0.0</td>\n",
       "      <td>0.0</td>\n",
       "      <td>0.0</td>\n",
       "      <td>0.0</td>\n",
       "      <td>0.0</td>\n",
       "      <td>0.0</td>\n",
       "      <td>0.0</td>\n",
       "      <td>0.0</td>\n",
       "      <td>0.0</td>\n",
       "      <td>0.0</td>\n",
       "      <td>0.0</td>\n",
       "    </tr>\n",
       "    <tr>\n",
       "      <th>4</th>\n",
       "      <td>0.0</td>\n",
       "      <td>0.0</td>\n",
       "      <td>0.0</td>\n",
       "      <td>0.0</td>\n",
       "      <td>0.0</td>\n",
       "      <td>0.0</td>\n",
       "      <td>0.0</td>\n",
       "      <td>0.0</td>\n",
       "      <td>0.0</td>\n",
       "      <td>0.0</td>\n",
       "      <td>0.0</td>\n",
       "      <td>0.0</td>\n",
       "      <td>0.0</td>\n",
       "      <td>0.0</td>\n",
       "      <td>0.0</td>\n",
       "      <td>0.0</td>\n",
       "      <td>0.0</td>\n",
       "      <td>0.0</td>\n",
       "      <td>0.0</td>\n",
       "      <td>0.0</td>\n",
       "      <td>0.0</td>\n",
       "      <td>0.0</td>\n",
       "      <td>0.0</td>\n",
       "      <td>0.0</td>\n",
       "      <td>0.0</td>\n",
       "      <td>0.0</td>\n",
       "      <td>0.0</td>\n",
       "      <td>0.0</td>\n",
       "      <td>0.0</td>\n",
       "      <td>0.0</td>\n",
       "      <td>0.0</td>\n",
       "      <td>0.0</td>\n",
       "      <td>0.0</td>\n",
       "      <td>0.0</td>\n",
       "      <td>0.0</td>\n",
       "      <td>0.0</td>\n",
       "      <td>0.0</td>\n",
       "      <td>0.0</td>\n",
       "      <td>0.0</td>\n",
       "      <td>0.0</td>\n",
       "      <td>0.0</td>\n",
       "      <td>0.0</td>\n",
       "      <td>0.0</td>\n",
       "      <td>0.0</td>\n",
       "      <td>0.0</td>\n",
       "      <td>0.0</td>\n",
       "      <td>0.0</td>\n",
       "      <td>0.0</td>\n",
       "      <td>0.0</td>\n",
       "      <td>0.0</td>\n",
       "      <td>0.0</td>\n",
       "      <td>0.0</td>\n",
       "      <td>0.0</td>\n",
       "      <td>0.0</td>\n",
       "      <td>0.0</td>\n",
       "      <td>0.0</td>\n",
       "      <td>0.0</td>\n",
       "      <td>1.0</td>\n",
       "      <td>0.0</td>\n",
       "      <td>0.0</td>\n",
       "      <td>0.0</td>\n",
       "      <td>0.0</td>\n",
       "      <td>1.0</td>\n",
       "      <td>0.0</td>\n",
       "      <td>0.0</td>\n",
       "      <td>0.0</td>\n",
       "      <td>0.0</td>\n",
       "      <td>0.0</td>\n",
       "      <td>0.0</td>\n",
       "      <td>0.0</td>\n",
       "      <td>0.0</td>\n",
       "      <td>0.0</td>\n",
       "      <td>0.0</td>\n",
       "      <td>0.0</td>\n",
       "      <td>0.0</td>\n",
       "      <td>0.0</td>\n",
       "      <td>0.0</td>\n",
       "      <td>0.0</td>\n",
       "      <td>0.0</td>\n",
       "      <td>0.0</td>\n",
       "      <td>0.0</td>\n",
       "      <td>0.0</td>\n",
       "      <td>0.0</td>\n",
       "      <td>0.0</td>\n",
       "      <td>0.0</td>\n",
       "      <td>0.0</td>\n",
       "      <td>1.0</td>\n",
       "      <td>0.0</td>\n",
       "      <td>0.0</td>\n",
       "      <td>0.0</td>\n",
       "      <td>0.0</td>\n",
       "      <td>0.0</td>\n",
       "      <td>0.0</td>\n",
       "      <td>0.0</td>\n",
       "      <td>0.0</td>\n",
       "      <td>0.0</td>\n",
       "      <td>0.0</td>\n",
       "      <td>0.0</td>\n",
       "      <td>0.0</td>\n",
       "      <td>0.0</td>\n",
       "      <td>0.0</td>\n",
       "      <td>0.0</td>\n",
       "      <td>0.0</td>\n",
       "      <td>0.0</td>\n",
       "      <td>0.0</td>\n",
       "      <td>0.0</td>\n",
       "      <td>0.0</td>\n",
       "      <td>0.0</td>\n",
       "      <td>0.0</td>\n",
       "      <td>0.0</td>\n",
       "      <td>0.0</td>\n",
       "      <td>0.0</td>\n",
       "      <td>0.0</td>\n",
       "      <td>0.0</td>\n",
       "      <td>0.0</td>\n",
       "      <td>0.0</td>\n",
       "      <td>0.0</td>\n",
       "      <td>0.0</td>\n",
       "      <td>0.0</td>\n",
       "      <td>0.0</td>\n",
       "      <td>0.0</td>\n",
       "      <td>0.0</td>\n",
       "      <td>0.0</td>\n",
       "      <td>0.0</td>\n",
       "      <td>0.0</td>\n",
       "      <td>0.0</td>\n",
       "      <td>0.0</td>\n",
       "      <td>0.0</td>\n",
       "      <td>0.0</td>\n",
       "      <td>0.0</td>\n",
       "      <td>0.0</td>\n",
       "      <td>0.0</td>\n",
       "      <td>0.0</td>\n",
       "      <td>0.0</td>\n",
       "      <td>0.0</td>\n",
       "      <td>0.0</td>\n",
       "      <td>0.0</td>\n",
       "      <td>0.0</td>\n",
       "      <td>0.0</td>\n",
       "      <td>0.0</td>\n",
       "      <td>0.0</td>\n",
       "      <td>0.0</td>\n",
       "      <td>0.0</td>\n",
       "      <td>0.0</td>\n",
       "      <td>0.0</td>\n",
       "      <td>0.0</td>\n",
       "      <td>0.0</td>\n",
       "      <td>0.0</td>\n",
       "      <td>0.0</td>\n",
       "      <td>0.0</td>\n",
       "      <td>0.0</td>\n",
       "      <td>0.0</td>\n",
       "      <td>0.0</td>\n",
       "      <td>0.0</td>\n",
       "      <td>0.0</td>\n",
       "      <td>0.0</td>\n",
       "      <td>0.0</td>\n",
       "      <td>0.0</td>\n",
       "      <td>0.0</td>\n",
       "      <td>0.0</td>\n",
       "      <td>0.0</td>\n",
       "      <td>0.0</td>\n",
       "      <td>0.0</td>\n",
       "      <td>0.0</td>\n",
       "      <td>0.0</td>\n",
       "      <td>0.0</td>\n",
       "      <td>0.0</td>\n",
       "      <td>0.0</td>\n",
       "      <td>0.0</td>\n",
       "      <td>0.0</td>\n",
       "      <td>0.0</td>\n",
       "      <td>0.0</td>\n",
       "      <td>0.0</td>\n",
       "      <td>0.0</td>\n",
       "      <td>0.0</td>\n",
       "      <td>0.0</td>\n",
       "      <td>0.0</td>\n",
       "      <td>0.0</td>\n",
       "      <td>0.0</td>\n",
       "      <td>0.0</td>\n",
       "      <td>0.0</td>\n",
       "      <td>0.0</td>\n",
       "      <td>0.0</td>\n",
       "      <td>0.0</td>\n",
       "      <td>0.0</td>\n",
       "      <td>0.0</td>\n",
       "      <td>0.0</td>\n",
       "      <td>0.0</td>\n",
       "      <td>0.0</td>\n",
       "      <td>0.0</td>\n",
       "      <td>0.0</td>\n",
       "      <td>0.0</td>\n",
       "      <td>0.0</td>\n",
       "      <td>0.0</td>\n",
       "      <td>0.0</td>\n",
       "      <td>0.0</td>\n",
       "      <td>0.0</td>\n",
       "      <td>0.0</td>\n",
       "      <td>0.0</td>\n",
       "      <td>0.0</td>\n",
       "      <td>0.0</td>\n",
       "      <td>0.0</td>\n",
       "      <td>0.0</td>\n",
       "      <td>0.0</td>\n",
       "      <td>0.0</td>\n",
       "      <td>0.0</td>\n",
       "      <td>0.0</td>\n",
       "      <td>0.0</td>\n",
       "      <td>0.0</td>\n",
       "      <td>0.0</td>\n",
       "      <td>0.0</td>\n",
       "      <td>0.0</td>\n",
       "      <td>0.0</td>\n",
       "      <td>0.0</td>\n",
       "      <td>2.0</td>\n",
       "      <td>0.0</td>\n",
       "      <td>0.0</td>\n",
       "      <td>0.0</td>\n",
       "      <td>0.0</td>\n",
       "      <td>0.0</td>\n",
       "      <td>0.0</td>\n",
       "      <td>0.0</td>\n",
       "      <td>0.0</td>\n",
       "      <td>0.0</td>\n",
       "      <td>0.0</td>\n",
       "      <td>0.0</td>\n",
       "      <td>0.0</td>\n",
       "      <td>0.0</td>\n",
       "      <td>0.0</td>\n",
       "      <td>0.0</td>\n",
       "      <td>0.0</td>\n",
       "      <td>0.0</td>\n",
       "      <td>0.0</td>\n",
       "      <td>0.0</td>\n",
       "      <td>0.0</td>\n",
       "      <td>0.0</td>\n",
       "      <td>0.0</td>\n",
       "      <td>0.0</td>\n",
       "      <td>0.0</td>\n",
       "      <td>0.0</td>\n",
       "      <td>0.0</td>\n",
       "      <td>0.0</td>\n",
       "      <td>0.0</td>\n",
       "      <td>0.0</td>\n",
       "      <td>0.0</td>\n",
       "      <td>0.0</td>\n",
       "      <td>0.0</td>\n",
       "      <td>0.0</td>\n",
       "      <td>0.0</td>\n",
       "      <td>0.0</td>\n",
       "      <td>0.0</td>\n",
       "      <td>0.0</td>\n",
       "      <td>0.0</td>\n",
       "      <td>0.0</td>\n",
       "      <td>0.0</td>\n",
       "      <td>0.0</td>\n",
       "      <td>0.0</td>\n",
       "      <td>0.0</td>\n",
       "      <td>0.0</td>\n",
       "      <td>0.0</td>\n",
       "      <td>0.0</td>\n",
       "      <td>0.0</td>\n",
       "      <td>0.0</td>\n",
       "      <td>0.0</td>\n",
       "      <td>0.0</td>\n",
       "      <td>0.0</td>\n",
       "      <td>0.0</td>\n",
       "      <td>0.0</td>\n",
       "      <td>0.0</td>\n",
       "      <td>0.0</td>\n",
       "      <td>1.0</td>\n",
       "      <td>0.0</td>\n",
       "      <td>0.0</td>\n",
       "      <td>0.0</td>\n",
       "      <td>0.0</td>\n",
       "      <td>0.0</td>\n",
       "      <td>0.0</td>\n",
       "      <td>0.0</td>\n",
       "      <td>0.0</td>\n",
       "      <td>0.0</td>\n",
       "      <td>0.0</td>\n",
       "      <td>0.0</td>\n",
       "      <td>0.0</td>\n",
       "      <td>0.0</td>\n",
       "      <td>0.0</td>\n",
       "      <td>0.0</td>\n",
       "      <td>0.0</td>\n",
       "      <td>0.0</td>\n",
       "      <td>0.0</td>\n",
       "      <td>0.0</td>\n",
       "      <td>0.0</td>\n",
       "      <td>0.0</td>\n",
       "      <td>0.0</td>\n",
       "      <td>0.0</td>\n",
       "      <td>0.0</td>\n",
       "      <td>0.0</td>\n",
       "      <td>0.0</td>\n",
       "      <td>0.0</td>\n",
       "      <td>0.0</td>\n",
       "      <td>1.0</td>\n",
       "      <td>0.0</td>\n",
       "      <td>0.0</td>\n",
       "      <td>0.0</td>\n",
       "      <td>0.0</td>\n",
       "      <td>0.0</td>\n",
       "      <td>0.0</td>\n",
       "      <td>0.0</td>\n",
       "      <td>0.0</td>\n",
       "      <td>0.0</td>\n",
       "      <td>0.0</td>\n",
       "      <td>0.0</td>\n",
       "      <td>0.0</td>\n",
       "      <td>0.0</td>\n",
       "      <td>0.0</td>\n",
       "      <td>0.0</td>\n",
       "      <td>0.0</td>\n",
       "    </tr>\n",
       "  </tbody>\n",
       "</table>\n",
       "</div>"
      ],
      "text/plain": [
       "category_id  1    2    3    4    6    7    9    11   15   16   17   18   19   \\\n",
       "user_id                                                                        \n",
       "0            0.0  0.0  0.0  0.0  0.0  0.0  0.0  0.0  0.0  0.0  0.0  0.0  0.0   \n",
       "1            0.0  0.0  0.0  0.0  0.0  0.0  0.0  0.0  0.0  0.0  0.0  0.0  0.0   \n",
       "2            0.0  0.0  0.0  0.0  0.0  0.0  0.0  0.0  0.0  0.0  0.0  0.0  0.0   \n",
       "3            0.0  0.0  0.0  0.0  0.0  0.0  0.0  0.0  0.0  0.0  0.0  0.0  0.0   \n",
       "4            0.0  0.0  0.0  0.0  0.0  0.0  0.0  0.0  0.0  0.0  0.0  0.0  0.0   \n",
       "\n",
       "category_id  20   21   22   24   25   26   27   28   29   31   32   34   36   \\\n",
       "user_id                                                                        \n",
       "0            0.0  0.0  0.0  0.0  0.0  0.0  0.0  0.0  0.0  0.0  0.0  0.0  0.0   \n",
       "1            0.0  0.0  0.0  0.0  0.0  0.0  0.0  0.0  0.0  0.0  0.0  0.0  0.0   \n",
       "2            0.0  0.0  0.0  0.0  0.0  2.0  0.0  0.0  0.0  0.0  0.0  0.0  0.0   \n",
       "3            0.0  0.0  0.0  0.0  0.0  0.0  0.0  0.0  0.0  0.0  0.0  0.0  0.0   \n",
       "4            0.0  0.0  0.0  0.0  0.0  0.0  0.0  0.0  0.0  0.0  0.0  0.0  0.0   \n",
       "\n",
       "category_id  37   39   40   41   42   43   44   46   47   48   51   54   55   \\\n",
       "user_id                                                                        \n",
       "0            0.0  0.0  0.0  0.0  0.0  0.0  0.0  0.0  0.0  0.0  0.0  0.0  0.0   \n",
       "1            0.0  0.0  0.0  0.0  0.0  1.0  0.0  0.0  0.0  0.0  0.0  0.0  0.0   \n",
       "2            0.0  0.0  0.0  0.0  0.0  0.0  0.0  0.0  0.0  0.0  0.0  0.0  0.0   \n",
       "3            0.0  0.0  0.0  0.0  0.0  0.0  0.0  0.0  0.0  0.0  0.0  0.0  0.0   \n",
       "4            0.0  0.0  0.0  0.0  0.0  0.0  0.0  0.0  0.0  0.0  0.0  0.0  0.0   \n",
       "\n",
       "category_id  56   58   60   62   63   64   65   66   67   68   69   70   71   \\\n",
       "user_id                                                                        \n",
       "0            0.0  0.0  0.0  0.0  0.0  0.0  0.0  0.0  0.0  0.0  0.0  0.0  0.0   \n",
       "1            0.0  0.0  0.0  0.0  0.0  0.0  0.0  0.0  0.0  0.0  0.0  0.0  0.0   \n",
       "2            0.0  0.0  0.0  0.0  0.0  0.0  0.0  0.0  0.0  0.0  0.0  0.0  0.0   \n",
       "3            0.0  0.0  0.0  0.0  0.0  0.0  0.0  0.0  0.0  0.0  0.0  0.0  0.0   \n",
       "4            0.0  0.0  0.0  0.0  0.0  0.0  0.0  0.0  0.0  0.0  0.0  0.0  0.0   \n",
       "\n",
       "category_id  72   74   75   76   77   81   84   87   89   90   92   95   96   \\\n",
       "user_id                                                                        \n",
       "0            0.0  0.0  0.0  0.0  0.0  0.0  0.0  0.0  0.0  0.0  0.0  0.0  0.0   \n",
       "1            0.0  0.0  0.0  0.0  0.0  0.0  0.0  0.0  0.0  0.0  0.0  0.0  0.0   \n",
       "2            0.0  0.0  0.0  0.0  0.0  0.0  0.0  0.0  0.0  0.0  0.0  0.0  0.0   \n",
       "3            0.0  0.0  0.0  0.0  0.0  0.0  0.0  0.0  0.0  0.0  0.0  0.0  0.0   \n",
       "4            0.0  0.0  0.0  0.0  0.0  1.0  0.0  0.0  0.0  0.0  1.0  0.0  0.0   \n",
       "\n",
       "category_id  97   99   101  102  103  104  107  114  115  116  117  118  119  \\\n",
       "user_id                                                                        \n",
       "0            0.0  0.0  0.0  0.0  0.0  0.0  0.0  0.0  0.0  0.0  0.0  0.0  0.0   \n",
       "1            0.0  0.0  0.0  0.0  0.0  0.0  0.0  0.0  0.0  0.0  0.0  0.0  0.0   \n",
       "2            0.0  0.0  0.0  0.0  0.0  0.0  0.0  0.0  0.0  0.0  0.0  0.0  0.0   \n",
       "3            0.0  0.0  0.0  0.0  0.0  0.0  0.0  0.0  0.0  0.0  0.0  0.0  0.0   \n",
       "4            0.0  0.0  0.0  0.0  0.0  0.0  0.0  0.0  0.0  0.0  0.0  0.0  0.0   \n",
       "\n",
       "category_id  120  122  123  125  126  127  128  130  132  133  134  135  136  \\\n",
       "user_id                                                                        \n",
       "0            0.0  0.0  0.0  0.0  0.0  0.0  0.0  0.0  0.0  0.0  0.0  0.0  1.0   \n",
       "1            0.0  0.0  1.0  0.0  0.0  0.0  0.0  0.0  0.0  0.0  0.0  0.0  0.0   \n",
       "2            0.0  0.0  0.0  0.0  0.0  0.0  0.0  0.0  0.0  0.0  0.0  0.0  0.0   \n",
       "3            0.0  0.0  0.0  0.0  0.0  0.0  0.0  0.0  0.0  0.0  0.0  0.0  0.0   \n",
       "4            0.0  0.0  0.0  0.0  0.0  0.0  0.0  0.0  1.0  0.0  0.0  0.0  0.0   \n",
       "\n",
       "category_id  137  138  140  141  142  146  147  148  151  152  156  159  160  \\\n",
       "user_id                                                                        \n",
       "0            0.0  0.0  0.0  0.0  0.0  0.0  0.0  0.0  0.0  0.0  0.0  0.0  0.0   \n",
       "1            0.0  0.0  0.0  0.0  0.0  0.0  0.0  0.0  0.0  0.0  0.0  0.0  0.0   \n",
       "2            0.0  0.0  0.0  0.0  0.0  0.0  0.0  0.0  0.0  0.0  0.0  0.0  0.0   \n",
       "3            0.0  0.0  0.0  0.0  0.0  0.0  0.0  0.0  0.0  0.0  0.0  0.0  0.0   \n",
       "4            0.0  0.0  0.0  0.0  0.0  0.0  0.0  0.0  0.0  0.0  0.0  0.0  0.0   \n",
       "\n",
       "category_id  161  162  163  164  165  166  167  171  172  173  174  175  176  \\\n",
       "user_id                                                                        \n",
       "0            0.0  0.0  0.0  0.0  0.0  0.0  0.0  0.0  0.0  0.0  0.0  0.0  0.0   \n",
       "1            0.0  0.0  0.0  0.0  0.0  0.0  0.0  0.0  0.0  0.0  0.0  0.0  0.0   \n",
       "2            0.0  0.0  0.0  0.0  0.0  0.0  0.0  0.0  0.0  0.0  0.0  0.0  0.0   \n",
       "3            0.0  0.0  0.0  0.0  0.0  0.0  0.0  0.0  0.0  0.0  0.0  0.0  0.0   \n",
       "4            0.0  0.0  0.0  0.0  0.0  0.0  0.0  0.0  0.0  0.0  0.0  0.0  0.0   \n",
       "\n",
       "category_id  177  180  183  184  186  187  188  191  193  195  196  197  198  \\\n",
       "user_id                                                                        \n",
       "0            0.0  0.0  0.0  0.0  2.0  0.0  0.0  0.0  0.0  0.0  0.0  0.0  0.0   \n",
       "1            0.0  0.0  0.0  0.0  0.0  0.0  0.0  0.0  0.0  0.0  0.0  0.0  0.0   \n",
       "2            0.0  0.0  0.0  0.0  0.0  0.0  0.0  0.0  0.0  0.0  0.0  0.0  0.0   \n",
       "3            0.0  0.0  0.0  0.0  0.0  0.0  0.0  0.0  0.0  0.0  0.0  0.0  0.0   \n",
       "4            0.0  0.0  0.0  0.0  0.0  0.0  0.0  0.0  0.0  0.0  0.0  0.0  0.0   \n",
       "\n",
       "category_id  201  202  203  204  207  208  209  211  213  215  216  218  219  \\\n",
       "user_id                                                                        \n",
       "0            0.0  0.0  0.0  0.0  0.0  0.0  1.0  0.0  0.0  0.0  0.0  0.0  0.0   \n",
       "1            0.0  0.0  0.0  0.0  0.0  0.0  1.0  0.0  0.0  0.0  0.0  0.0  0.0   \n",
       "2            0.0  0.0  0.0  0.0  0.0  0.0  0.0  0.0  0.0  0.0  0.0  0.0  0.0   \n",
       "3            0.0  0.0  0.0  0.0  0.0  0.0  0.0  0.0  0.0  0.0  0.0  0.0  0.0   \n",
       "4            0.0  0.0  0.0  0.0  0.0  0.0  0.0  0.0  0.0  0.0  0.0  0.0  0.0   \n",
       "\n",
       "category_id  220  221  222  223  225  226  227  228  229  230  231  233  234  \\\n",
       "user_id                                                                        \n",
       "0            0.0  0.0  0.0  0.0  0.0  0.0  0.0  0.0  0.0  0.0  0.0  0.0  0.0   \n",
       "1            0.0  0.0  0.0  0.0  0.0  0.0  0.0  0.0  0.0  0.0  0.0  0.0  0.0   \n",
       "2            0.0  0.0  0.0  0.0  0.0  0.0  0.0  0.0  0.0  0.0  0.0  0.0  0.0   \n",
       "3            0.0  0.0  0.0  0.0  0.0  0.0  0.0  0.0  0.0  0.0  0.0  0.0  0.0   \n",
       "4            0.0  0.0  0.0  0.0  0.0  0.0  0.0  0.0  0.0  0.0  0.0  0.0  0.0   \n",
       "\n",
       "category_id  236  237  238  240  242  243  244  245  247  249  250  252  254  \\\n",
       "user_id                                                                        \n",
       "0            0.0  0.0  0.0  0.0  0.0  0.0  0.0  0.0  0.0  0.0  0.0  0.0  0.0   \n",
       "1            0.0  0.0  0.0  0.0  0.0  0.0  0.0  0.0  0.0  0.0  0.0  0.0  0.0   \n",
       "2            0.0  0.0  0.0  0.0  0.0  0.0  0.0  0.0  1.0  0.0  0.0  0.0  0.0   \n",
       "3            0.0  0.0  0.0  0.0  0.0  0.0  0.0  0.0  0.0  1.0  0.0  0.0  0.0   \n",
       "4            0.0  0.0  0.0  0.0  0.0  0.0  0.0  0.0  0.0  0.0  0.0  0.0  0.0   \n",
       "\n",
       "category_id  255  256  257  258  259  260  262  263  264  265  266  267  268  \\\n",
       "user_id                                                                        \n",
       "0            0.0  0.0  0.0  0.0  0.0  0.0  0.0  0.0  0.0  0.0  0.0  0.0  0.0   \n",
       "1            0.0  0.0  0.0  0.0  0.0  0.0  0.0  0.0  0.0  0.0  0.0  0.0  0.0   \n",
       "2            0.0  0.0  0.0  0.0  0.0  0.0  0.0  0.0  0.0  0.0  0.0  0.0  0.0   \n",
       "3            0.0  0.0  0.0  0.0  0.0  0.0  0.0  0.0  0.0  0.0  0.0  0.0  0.0   \n",
       "4            0.0  0.0  0.0  0.0  0.0  0.0  0.0  0.0  0.0  0.0  0.0  0.0  0.0   \n",
       "\n",
       "category_id  269  270  271  272  275  276  277  278  279  281  284  285  287  \\\n",
       "user_id                                                                        \n",
       "0            0.0  0.0  0.0  0.0  0.0  0.0  0.0  0.0  0.0  2.0  0.0  0.0  0.0   \n",
       "1            0.0  0.0  0.0  0.0  0.0  0.0  0.0  0.0  0.0  2.0  0.0  0.0  0.0   \n",
       "2            0.0  0.0  0.0  0.0  0.0  0.0  0.0  0.0  0.0  0.0  0.0  0.0  0.0   \n",
       "3            0.0  0.0  0.0  0.0  0.0  0.0  0.0  0.0  0.0  1.0  0.0  0.0  0.0   \n",
       "4            0.0  0.0  0.0  0.0  0.0  0.0  0.0  0.0  0.0  0.0  0.0  0.0  0.0   \n",
       "\n",
       "category_id  288  289  290  291  295  297  298  299  300  301  302  304  305  \\\n",
       "user_id                                                                        \n",
       "0            0.0  0.0  0.0  0.0  0.0  0.0  0.0  0.0  0.0  0.0  0.0  0.0  0.0   \n",
       "1            0.0  0.0  0.0  0.0  0.0  0.0  0.0  0.0  0.0  1.0  0.0  0.0  0.0   \n",
       "2            0.0  0.0  0.0  0.0  0.0  0.0  0.0  0.0  0.0  0.0  0.0  0.0  0.0   \n",
       "3            0.0  0.0  0.0  0.0  0.0  0.0  0.0  0.0  0.0  0.0  0.0  0.0  0.0   \n",
       "4            0.0  0.0  0.0  0.0  0.0  0.0  0.0  0.0  0.0  0.0  0.0  0.0  0.0   \n",
       "\n",
       "category_id  307  309  310  311  314  316  317  318  320  322  323  325  326  \\\n",
       "user_id                                                                        \n",
       "0            0.0  0.0  0.0  0.0  0.0  0.0  0.0  0.0  0.0  0.0  0.0  0.0  0.0   \n",
       "1            0.0  0.0  0.0  0.0  0.0  0.0  0.0  0.0  0.0  0.0  0.0  0.0  0.0   \n",
       "2            0.0  0.0  0.0  0.0  0.0  0.0  0.0  0.0  0.0  0.0  0.0  0.0  0.0   \n",
       "3            0.0  0.0  0.0  0.0  0.0  0.0  0.0  0.0  0.0  0.0  0.0  0.0  0.0   \n",
       "4            0.0  0.0  0.0  0.0  0.0  0.0  2.0  0.0  0.0  0.0  0.0  0.0  0.0   \n",
       "\n",
       "category_id  327  328  329  330  331  332  333  337  339  340  342  348  349  \\\n",
       "user_id                                                                        \n",
       "0            0.0  0.0  0.0  0.0  0.0  0.0  0.0  0.0  0.0  0.0  0.0  0.0  0.0   \n",
       "1            0.0  0.0  0.0  0.0  1.0  0.0  0.0  0.0  0.0  0.0  0.0  0.0  0.0   \n",
       "2            0.0  0.0  0.0  0.0  0.0  1.0  0.0  0.0  0.0  0.0  0.0  0.0  0.0   \n",
       "3            0.0  0.0  0.0  0.0  0.0  0.0  0.0  0.0  0.0  0.0  0.0  0.0  0.0   \n",
       "4            0.0  0.0  0.0  0.0  0.0  0.0  0.0  0.0  0.0  0.0  0.0  0.0  0.0   \n",
       "\n",
       "category_id  351  352  353  354  355  357  359  360  362  363  367  368  369  \\\n",
       "user_id                                                                        \n",
       "0            0.0  0.0  0.0  0.0  0.0  0.0  0.0  0.0  0.0  0.0  0.0  0.0  0.0   \n",
       "1            0.0  0.0  0.0  0.0  0.0  0.0  0.0  0.0  0.0  0.0  0.0  0.0  0.0   \n",
       "2            0.0  0.0  0.0  0.0  0.0  0.0  0.0  0.0  0.0  0.0  0.0  0.0  0.0   \n",
       "3            0.0  0.0  0.0  0.0  0.0  0.0  0.0  0.0  0.0  0.0  0.0  0.0  0.0   \n",
       "4            0.0  0.0  0.0  0.0  0.0  0.0  0.0  0.0  0.0  0.0  0.0  0.0  0.0   \n",
       "\n",
       "category_id  370  371  372  373  374  375  376  377  379  380  381  382  384  \\\n",
       "user_id                                                                        \n",
       "0            0.0  0.0  0.0  0.0  0.0  1.0  0.0  0.0  0.0  0.0  0.0  0.0  0.0   \n",
       "1            0.0  0.0  0.0  0.0  0.0  2.0  0.0  0.0  0.0  0.0  0.0  0.0  0.0   \n",
       "2            0.0  0.0  0.0  0.0  0.0  0.0  0.0  0.0  0.0  0.0  0.0  0.0  0.0   \n",
       "3            0.0  0.0  0.0  0.0  0.0  5.0  0.0  0.0  0.0  0.0  0.0  0.0  0.0   \n",
       "4            0.0  0.0  0.0  0.0  0.0  0.0  0.0  0.0  0.0  0.0  0.0  0.0  0.0   \n",
       "\n",
       "category_id  385  388  389  390  391  392  393  395  396  398  399  401  402  \\\n",
       "user_id                                                                        \n",
       "0            0.0  0.0  0.0  0.0  0.0  0.0  0.0  0.0  0.0  0.0  0.0  0.0  0.0   \n",
       "1            0.0  0.0  0.0  0.0  0.0  0.0  0.0  0.0  0.0  0.0  0.0  0.0  0.0   \n",
       "2            0.0  0.0  0.0  0.0  0.0  0.0  0.0  0.0  0.0  0.0  0.0  0.0  0.0   \n",
       "3            0.0  0.0  0.0  0.0  0.0  0.0  0.0  0.0  0.0  0.0  0.0  0.0  0.0   \n",
       "4            0.0  0.0  0.0  0.0  0.0  0.0  0.0  0.0  0.0  0.0  1.0  0.0  0.0   \n",
       "\n",
       "category_id  403  404  405  406  407  408  409  410  412  413  414  415  417  \\\n",
       "user_id                                                                        \n",
       "0            0.0  0.0  0.0  0.0  0.0  0.0  0.0  0.0  0.0  0.0  0.0  0.0  0.0   \n",
       "1            0.0  0.0  0.0  0.0  0.0  0.0  0.0  0.0  2.0  0.0  0.0  0.0  0.0   \n",
       "2            0.0  0.0  0.0  0.0  0.0  0.0  0.0  0.0  0.0  0.0  0.0  0.0  0.0   \n",
       "3            0.0  0.0  0.0  0.0  0.0  0.0  0.0  0.0  1.0  0.0  0.0  0.0  0.0   \n",
       "4            0.0  0.0  0.0  0.0  0.0  0.0  0.0  0.0  0.0  0.0  0.0  0.0  0.0   \n",
       "\n",
       "category_id  418  420  421  422  424  428  429  430  431  433  434  435  436  \\\n",
       "user_id                                                                        \n",
       "0            0.0  0.0  0.0  0.0  0.0  0.0  0.0  0.0  1.0  0.0  0.0  0.0  0.0   \n",
       "1            0.0  0.0  0.0  0.0  0.0  0.0  0.0  0.0  0.0  0.0  0.0  1.0  0.0   \n",
       "2            0.0  0.0  0.0  0.0  0.0  0.0  0.0  0.0  0.0  0.0  0.0  0.0  0.0   \n",
       "3            0.0  0.0  1.0  0.0  0.0  0.0  0.0  0.0  0.0  0.0  0.0  0.0  0.0   \n",
       "4            0.0  0.0  0.0  0.0  0.0  0.0  0.0  0.0  0.0  0.0  0.0  0.0  0.0   \n",
       "\n",
       "category_id  437  438  442  443  444  445  447  448  449  450  451  453  454  \\\n",
       "user_id                                                                        \n",
       "0            0.0  0.0  0.0  0.0  0.0  0.0  0.0  0.0  0.0  0.0  0.0  0.0  0.0   \n",
       "1            0.0  0.0  0.0  0.0  0.0  0.0  0.0  0.0  0.0  0.0  0.0  0.0  0.0   \n",
       "2            0.0  0.0  0.0  0.0  0.0  0.0  0.0  0.0  0.0  0.0  0.0  0.0  0.0   \n",
       "3            0.0  0.0  0.0  0.0  0.0  0.0  0.0  0.0  0.0  0.0  0.0  0.0  0.0   \n",
       "4            1.0  0.0  0.0  0.0  0.0  0.0  0.0  0.0  0.0  0.0  0.0  0.0  0.0   \n",
       "\n",
       "category_id  455  456  458  460  \n",
       "user_id                          \n",
       "0            0.0  0.0  0.0  0.0  \n",
       "1            0.0  0.0  0.0  0.0  \n",
       "2            0.0  0.0  0.0  0.0  \n",
       "3            0.0  0.0  0.0  0.0  \n",
       "4            0.0  0.0  0.0  0.0  "
      ]
     },
     "execution_count": 8,
     "metadata": {},
     "output_type": "execute_result"
    }
   ],
   "source": [
    "user_int_mat.fillna(0, inplace=True)\n",
    "user_int_mat.head()"
   ]
  },
  {
   "cell_type": "code",
   "execution_count": 9,
   "id": "ad50b52f",
   "metadata": {},
   "outputs": [],
   "source": [
    "user_int_mat.to_csv('data/user_int_mat.csv')"
   ]
  },
  {
   "cell_type": "markdown",
   "id": "b00f711c",
   "metadata": {},
   "source": [
    "Linéarisation de la matrice pour s'ajuster au format Surprise"
   ]
  },
  {
   "cell_type": "code",
   "execution_count": 365,
   "id": "26af9359",
   "metadata": {},
   "outputs": [
    {
     "data": {
      "text/plain": [
       "102035452"
      ]
     },
     "execution_count": 365,
     "metadata": {},
     "output_type": "execute_result"
    }
   ],
   "source": [
    "uid = user_int_mat.index\n",
    "repeated_uid = np.tile(uid, user_int_mat.shape[1])\n",
    "len(repeated_uid)"
   ]
  },
  {
   "cell_type": "code",
   "execution_count": 367,
   "id": "7b34a305",
   "metadata": {},
   "outputs": [
    {
     "data": {
      "text/html": [
       "<div>\n",
       "<style scoped>\n",
       "    .dataframe tbody tr th:only-of-type {\n",
       "        vertical-align: middle;\n",
       "    }\n",
       "\n",
       "    .dataframe tbody tr th {\n",
       "        vertical-align: top;\n",
       "    }\n",
       "\n",
       "    .dataframe thead th {\n",
       "        text-align: right;\n",
       "    }\n",
       "</style>\n",
       "<table border=\"1\" class=\"dataframe\">\n",
       "  <thead>\n",
       "    <tr style=\"text-align: right;\">\n",
       "      <th></th>\n",
       "      <th>user_id</th>\n",
       "      <th>category_id</th>\n",
       "      <th>value</th>\n",
       "    </tr>\n",
       "  </thead>\n",
       "  <tbody>\n",
       "    <tr>\n",
       "      <th>0</th>\n",
       "      <td>0</td>\n",
       "      <td>1</td>\n",
       "      <td>0.0</td>\n",
       "    </tr>\n",
       "    <tr>\n",
       "      <th>1</th>\n",
       "      <td>1</td>\n",
       "      <td>1</td>\n",
       "      <td>0.0</td>\n",
       "    </tr>\n",
       "    <tr>\n",
       "      <th>2</th>\n",
       "      <td>2</td>\n",
       "      <td>1</td>\n",
       "      <td>0.0</td>\n",
       "    </tr>\n",
       "    <tr>\n",
       "      <th>3</th>\n",
       "      <td>3</td>\n",
       "      <td>1</td>\n",
       "      <td>0.0</td>\n",
       "    </tr>\n",
       "    <tr>\n",
       "      <th>4</th>\n",
       "      <td>4</td>\n",
       "      <td>1</td>\n",
       "      <td>0.0</td>\n",
       "    </tr>\n",
       "  </tbody>\n",
       "</table>\n",
       "</div>"
      ],
      "text/plain": [
       "   user_id  category_id  value\n",
       "0        0            1    0.0\n",
       "1        1            1    0.0\n",
       "2        2            1    0.0\n",
       "3        3            1    0.0\n",
       "4        4            1    0.0"
      ]
     },
     "execution_count": 367,
     "metadata": {},
     "output_type": "execute_result"
    }
   ],
   "source": [
    "user_int = user_int_mat.melt()\n",
    "user_int.insert(0, 'user_id', repeated_uid)\n",
    "user_int.head()"
   ]
  },
  {
   "cell_type": "code",
   "execution_count": 368,
   "id": "e1c6148e",
   "metadata": {},
   "outputs": [
    {
     "data": {
      "text/plain": [
       "(102035452, 3)"
      ]
     },
     "execution_count": 368,
     "metadata": {},
     "output_type": "execute_result"
    }
   ],
   "source": [
    "user_int.shape"
   ]
  },
  {
   "cell_type": "code",
   "execution_count": 369,
   "id": "9d0c7827",
   "metadata": {},
   "outputs": [],
   "source": [
    "user_int.to_csv('data/user_int.csv', index=False)"
   ]
  },
  {
   "cell_type": "markdown",
   "id": "bdbac186",
   "metadata": {},
   "source": [
    "### Liste des articles par utilisateur"
   ]
  },
  {
   "cell_type": "markdown",
   "id": "4ed72b6e",
   "metadata": {},
   "source": [
    "La liste des articles par utilisateur nous sert pour la constuction de la matrice user-interaction au niveau de l'article, et pour pouvoir filtrer les recommandations afin de s'assurer de ne pas proposer un article déjà consulté par l'utilisateur."
   ]
  },
  {
   "cell_type": "code",
   "execution_count": 4,
   "id": "59c20578",
   "metadata": {},
   "outputs": [],
   "source": [
    "def get_articles_by_user(cli_df=None):\n",
    "    \n",
    "    \"\"\"\n",
    "    Renvoi un dataframe des articles consultés par user_id\n",
    "    Lit le CSV si une version existe sur disque, sinon la construit et l'écrit dans le dossier data\n",
    "        @param cli_df <pd.DataFrame> : aggrégation des fichiers clicks_hour_{}.csv\n",
    "        @param art_df <pd.DataFrame> : dataframe des articles\n",
    "        @return <pd.DataFrame> : dataframe des articles consultés par user_id\n",
    "    \"\"\"\n",
    "    \n",
    "    df = None\n",
    "    if not os.path.exists('data/articles_by_user.csv'):\n",
    "        \n",
    "        # Récupère le dataframe de base\n",
    "        if cli_df is get_articles_by_user.__defaults__[0]:\n",
    "            cli_df = get_clicks()\n",
    "        \n",
    "        # Liste les articles consultés par chaque user_id\n",
    "        if 'click_article_id' in cli_df.columns:\n",
    "            cli_df.rename(columns={'click_article_id':'article_id'}, inplace = True)\n",
    "        df = cli_df[['user_id', 'article_id', 'click_timestamp']]\n",
    "        df.groupby(['user_id', 'article_id']).count().reset_index()\n",
    "        df = df.drop(columns='click_timestamp')\n",
    "        df.to_csv('data/articles_by_user.csv', index=False)\n",
    "        \n",
    "    else:\n",
    "        df= pd.read_csv('data/articles_by_user.csv')\n",
    "        \n",
    "    return df"
   ]
  },
  {
   "cell_type": "code",
   "execution_count": 5,
   "id": "137be180",
   "metadata": {
    "scrolled": false
   },
   "outputs": [
    {
     "name": "stdout",
     "output_type": "stream",
     "text": [
      "CPU times: total: 1.08 s\n",
      "Wall time: 1.13 s\n"
     ]
    }
   ],
   "source": [
    "%%time\n",
    "articles_by_user = get_articles_by_user()"
   ]
  },
  {
   "cell_type": "code",
   "execution_count": 33,
   "id": "88ea0234",
   "metadata": {},
   "outputs": [
    {
     "data": {
      "text/html": [
       "<div>\n",
       "<style scoped>\n",
       "    .dataframe tbody tr th:only-of-type {\n",
       "        vertical-align: middle;\n",
       "    }\n",
       "\n",
       "    .dataframe tbody tr th {\n",
       "        vertical-align: top;\n",
       "    }\n",
       "\n",
       "    .dataframe thead th {\n",
       "        text-align: right;\n",
       "    }\n",
       "</style>\n",
       "<table border=\"1\" class=\"dataframe\">\n",
       "  <thead>\n",
       "    <tr style=\"text-align: right;\">\n",
       "      <th></th>\n",
       "      <th>user_id</th>\n",
       "      <th>article_id</th>\n",
       "    </tr>\n",
       "  </thead>\n",
       "  <tbody>\n",
       "    <tr>\n",
       "      <th>0</th>\n",
       "      <td>0</td>\n",
       "      <td>157541</td>\n",
       "    </tr>\n",
       "    <tr>\n",
       "      <th>1287361</th>\n",
       "      <td>0</td>\n",
       "      <td>96755</td>\n",
       "    </tr>\n",
       "    <tr>\n",
       "      <th>1287362</th>\n",
       "      <td>0</td>\n",
       "      <td>313996</td>\n",
       "    </tr>\n",
       "    <tr>\n",
       "      <th>1352197</th>\n",
       "      <td>0</td>\n",
       "      <td>160158</td>\n",
       "    </tr>\n",
       "    <tr>\n",
       "      <th>1352198</th>\n",
       "      <td>0</td>\n",
       "      <td>233470</td>\n",
       "    </tr>\n",
       "  </tbody>\n",
       "</table>\n",
       "</div>"
      ],
      "text/plain": [
       "         user_id  article_id\n",
       "0              0      157541\n",
       "1287361        0       96755\n",
       "1287362        0      313996\n",
       "1352197        0      160158\n",
       "1352198        0      233470"
      ]
     },
     "execution_count": 33,
     "metadata": {},
     "output_type": "execute_result"
    }
   ],
   "source": [
    "articles_by_user.sort_values(by='user_id').head()"
   ]
  },
  {
   "cell_type": "markdown",
   "id": "2fa9bbf6",
   "metadata": {},
   "source": [
    "Forme du dataframe obtenu :"
   ]
  },
  {
   "cell_type": "code",
   "execution_count": 38,
   "id": "7b9ca3a9",
   "metadata": {},
   "outputs": [
    {
     "data": {
      "text/plain": [
       "(2988181, 2)"
      ]
     },
     "execution_count": 38,
     "metadata": {},
     "output_type": "execute_result"
    }
   ],
   "source": [
    "articles_by_user.shape"
   ]
  },
  {
   "cell_type": "markdown",
   "id": "180755ce",
   "metadata": {},
   "source": [
    "*[(Retour sommaire)](#Sommaire)*"
   ]
  },
  {
   "cell_type": "markdown",
   "id": "f225b41e",
   "metadata": {},
   "source": [
    "***"
   ]
  },
  {
   "cell_type": "markdown",
   "id": "67f39877",
   "metadata": {},
   "source": [
    "## 3.2 Collaborative-filtering à l'article avec Surprise"
   ]
  },
  {
   "cell_type": "markdown",
   "id": "2850ac7b",
   "metadata": {},
   "source": [
    "### Fonctions"
   ]
  },
  {
   "cell_type": "code",
   "execution_count": 2,
   "id": "79f9c9c0",
   "metadata": {},
   "outputs": [],
   "source": [
    "def get_train_test(art_rating_df, train_size=0.75):\n",
    "    \n",
    "    \"\"\"\n",
    "    Implémentation manuelle du split train/test, car le train_test_split et GridSearchCV de Surprise\n",
    "    ne sont pas compatibles (il manque des attributs à l'élément <surprise.Trainset> dont GridSearchCV a besoin).\n",
    "        @param: cat_rating_df <Pandas.DataFrame> : Dataframe du nombre de clicks par utilisateur et par catégorie\n",
    "            Doit comporter les colonnes 'user_id', 'category_id' et 'nb_clicks', avec 'nb_clicks' de 1 à 5\n",
    "        @param train_size <int> : fraction du Dataframe à utiliser pour l'entraînement (par défaut 75%)\n",
    "        @return <surprise.Dataset>, <surprise.Testset> : train_set, test_set aux proportions indiquées\n",
    "    \"\"\"\n",
    "    \n",
    "    ratings = art_rating_df[['user_id', 'article_id', 'value']].sort_values(by='user_id')\n",
    "    \n",
    "    # Coupure train/test à l'endroit indiqué\n",
    "    breakpoint = int(len(ratings) * train_size)\n",
    "    train_candidate = ratings.head(breakpoint)\n",
    "    test_candidate = ratings.iloc[breakpoint:, :]\n",
    "    \n",
    "    # Suppression de l'utilisateur coupé en 2 s'il existe\n",
    "    common = pd.merge(train_candidate, test_candidate, how='inner', on='user_id')\n",
    "    common_uid = set(common['user_id'].to_list())\n",
    "    train_candidate = train_candidate[~train_candidate['user_id'].isin(common_uid)]\n",
    "    test_candidate = test_candidate[~test_candidate['user_id'].isin(common_uid)]\n",
    "    print('Longueur du Train set :', len(train_candidate))\n",
    "    print('Longueur du Test set :', len(test_candidate))\n",
    "    \n",
    "    # Transformation en datasets Surprise\n",
    "    reader = Reader()   # Le rating_scale par défaut est déjà (1, 5)\n",
    "    train_set = Dataset.load_from_df(train_candidate, reader)\n",
    "    test_candidate = Dataset.load_from_df(test_candidate, reader)\n",
    "    dummy, test_set = train_test_split(test_candidate, test_size=1.0)    # Hack\n",
    "    \n",
    "    return train_set, test_set"
   ]
  },
  {
   "cell_type": "code",
   "execution_count": 27,
   "id": "8376c9cb",
   "metadata": {},
   "outputs": [],
   "source": [
    "# Source : https://github.com/NicolasHug/Surprise/blob/master/examples/top_n_recommendations.py\n",
    "def get_top_n_art(predictions, deja_lus, n=5):\n",
    "    \"\"\"\n",
    "    Renvoi les n articles les plus recommandées pour chaque utilisateur parmis ceux non lus\n",
    "        @param predictions <Surprise Prediction> : prédictions issues de la méthode \"test\" d'un modèle Surprise\n",
    "        @param deja_lus <list> : liste des articles déjà lus par l'utilisateur\n",
    "        @param n <int> : nombre de recommandations à émettre\n",
    "        @return <dict> : dictionnaire {user_id: [(category_id, predicted_rating), ...]}\n",
    "    \"\"\"\n",
    "    # Map the predictions to each user\n",
    "    top_n = defaultdict(list)\n",
    "    for uid, iid, true_r, est, _ in predictions:\n",
    "        if iid not in deja_lus:\n",
    "            top_n[uid].append((iid, est))\n",
    "\n",
    "    # Sort the predictions for each user and retrieve the k highest ones\n",
    "    for uid, user_ratings in top_n.items():\n",
    "        user_ratings.sort(key=lambda x: x[1], reverse=True)\n",
    "        top_n[uid] = user_ratings[:n]\n",
    "\n",
    "    return top_n"
   ]
  },
  {
   "cell_type": "code",
   "execution_count": 28,
   "id": "791c9cf2",
   "metadata": {},
   "outputs": [],
   "source": [
    "def make_recommandation(model, user_id, art_by_user, art_df, n=5):\n",
    "    \"\"\"\n",
    "    Renvoi les articles les plus recommandés pour un utilisateur donné\n",
    "        @param model <Surprise.SVD> : model entraîné servant à la prédiction\n",
    "        @param user_id <int> : utilisateur pour qui effectuer la prédiction\n",
    "        @param art_by_user <Pandas.DataFrame> : dataframe des interactions utilisateur/article\n",
    "        @param art_df <Pandas.DataFrame> : dataframe listant les articles et leur catégorie\n",
    "        @param n <int> : nombre d'articles à renvoyer (défaut : 5)\n",
    "        @return <list>, <list>, <list>, <list> : articles prédits, articles consultés, catégories prédites,\n",
    "            catégories consultées\n",
    "    \"\"\"\n",
    "    # Constuction du dataset pour l'utilisateur user_id\n",
    "    user_sel = art_by_user[art_by_user['user_id'] == user_id]\n",
    "    user_sel['value'] = 1\n",
    "    user_art_list = user_sel['article_id'].values\n",
    "    missing_art = [a for a in article_list if not a in user_art_list]\n",
    "    user_fill = np.full((len(missing_art),), user_id)\n",
    "    value_fill = np.full((len(missing_art),), 0)\n",
    "    missing = pd.DataFrame({'user_id': user_fill, 'article_id': missing_art, 'value': value_fill})\n",
    "    user_sel = pd.concat([user_sel, missing], ignore_index=True)\n",
    "    \n",
    "    # Récupération de la prédiction\n",
    "    pred = model.test(user_sel.to_numpy())\n",
    "    top_n = get_top_n_art(pred, user_art_list)\n",
    "    \n",
    "    # Préparation des données retournées\n",
    "    pred_list = [art for art, _ in top_n[100000]]\n",
    "    pred_cat = list(set(art_df[art_df['article_id'].isin(pred_list)]['category_id'].values))\n",
    "    read_cat = list(set(art_df[art_df['article_id'].isin(user_art_list)]['category_id'].values))\n",
    "    \n",
    "    return pred_list, user_art_list, pred_cat, read_cat"
   ]
  },
  {
   "cell_type": "markdown",
   "id": "5068785c",
   "metadata": {},
   "source": [
    "### Constitution des datasets"
   ]
  },
  {
   "cell_type": "code",
   "execution_count": 2,
   "id": "832a42d6",
   "metadata": {},
   "outputs": [],
   "source": [
    "articles_by_user = pd.read_csv('data/articles_by_user.csv')"
   ]
  },
  {
   "cell_type": "code",
   "execution_count": 3,
   "id": "cf64c989",
   "metadata": {},
   "outputs": [],
   "source": [
    "articles_df = pd.read_csv('data/articles_metadata.csv')"
   ]
  },
  {
   "cell_type": "markdown",
   "id": "d0f8d0f6",
   "metadata": {},
   "source": [
    "<div class=\"alert alert-block alert-warning\">\n",
    "    \n",
    "Nous sommes obligés de réduire à un petit échantillon d'utilisateurs (10 000) afin d'éviter les problèmes de dépassement mémoire\n",
    "    \n",
    "</div>"
   ]
  },
  {
   "cell_type": "markdown",
   "id": "909ceb18",
   "metadata": {},
   "source": [
    "Dataframes utiles à l'entraînement"
   ]
  },
  {
   "cell_type": "code",
   "execution_count": 7,
   "id": "0dc18702",
   "metadata": {},
   "outputs": [],
   "source": [
    "user_short = articles_by_user[articles_by_user['user_id'] < 10000]\n",
    "user_short.insert(2, 'rating', np.ones((len(user_short),), dtype=int))\n",
    "user_list = user_short['user_id'].unique()\n",
    "article_list = articles_by_user['article_id'].unique()"
   ]
  },
  {
   "cell_type": "markdown",
   "id": "41973fde",
   "metadata": {},
   "source": [
    "Forme de la matrice user-interaction"
   ]
  },
  {
   "cell_type": "code",
   "execution_count": 5,
   "id": "7e72f3dd",
   "metadata": {},
   "outputs": [
    {
     "data": {
      "text/plain": [
       "(10000, 46033)"
      ]
     },
     "execution_count": 5,
     "metadata": {},
     "output_type": "execute_result"
    }
   ],
   "source": [
    "base_mat = np.zeros((len(user_list), len(article_list)), dtype=int)\n",
    "base_mat = pd.DataFrame(data=base_mat, index=user_list, columns=article_list)\n",
    "base_mat.shape"
   ]
  },
  {
   "cell_type": "markdown",
   "id": "5a80ed69",
   "metadata": {},
   "source": [
    "Formattage de la matrice user-interaction pour utilisation de SVD avec Surprise"
   ]
  },
  {
   "cell_type": "code",
   "execution_count": 6,
   "id": "71c00a63",
   "metadata": {},
   "outputs": [
    {
     "name": "stdout",
     "output_type": "stream",
     "text": [
      "CPU times: total: 15.3 s\n",
      "Wall time: 14.7 s\n"
     ]
    }
   ],
   "source": [
    "%%time\n",
    "base_mat = pd.pivot_table(data=user_short, index='user_id', columns='article_id', values='rating', fill_value=0)"
   ]
  },
  {
   "cell_type": "markdown",
   "id": "d34e95c6",
   "metadata": {},
   "source": [
    "Nombre de lignes de matrice"
   ]
  },
  {
   "cell_type": "code",
   "execution_count": 7,
   "id": "3004fbb5",
   "metadata": {},
   "outputs": [
    {
     "data": {
      "text/plain": [
       "124230000"
      ]
     },
     "execution_count": 7,
     "metadata": {},
     "output_type": "execute_result"
    }
   ],
   "source": [
    "uid = base_mat.index\n",
    "repeated_uid = np.tile(uid, base_mat.shape[1])\n",
    "len(repeated_uid)"
   ]
  },
  {
   "cell_type": "code",
   "execution_count": 8,
   "id": "f9b7ac85",
   "metadata": {},
   "outputs": [
    {
     "data": {
      "text/html": [
       "<div>\n",
       "<style scoped>\n",
       "    .dataframe tbody tr th:only-of-type {\n",
       "        vertical-align: middle;\n",
       "    }\n",
       "\n",
       "    .dataframe tbody tr th {\n",
       "        vertical-align: top;\n",
       "    }\n",
       "\n",
       "    .dataframe thead th {\n",
       "        text-align: right;\n",
       "    }\n",
       "</style>\n",
       "<table border=\"1\" class=\"dataframe\">\n",
       "  <thead>\n",
       "    <tr style=\"text-align: right;\">\n",
       "      <th></th>\n",
       "      <th>user_id</th>\n",
       "      <th>article_id</th>\n",
       "      <th>value</th>\n",
       "    </tr>\n",
       "  </thead>\n",
       "  <tbody>\n",
       "    <tr>\n",
       "      <th>0</th>\n",
       "      <td>0</td>\n",
       "      <td>94</td>\n",
       "      <td>0</td>\n",
       "    </tr>\n",
       "    <tr>\n",
       "      <th>1</th>\n",
       "      <td>1</td>\n",
       "      <td>94</td>\n",
       "      <td>0</td>\n",
       "    </tr>\n",
       "    <tr>\n",
       "      <th>2</th>\n",
       "      <td>2</td>\n",
       "      <td>94</td>\n",
       "      <td>0</td>\n",
       "    </tr>\n",
       "    <tr>\n",
       "      <th>3</th>\n",
       "      <td>3</td>\n",
       "      <td>94</td>\n",
       "      <td>0</td>\n",
       "    </tr>\n",
       "    <tr>\n",
       "      <th>4</th>\n",
       "      <td>4</td>\n",
       "      <td>94</td>\n",
       "      <td>0</td>\n",
       "    </tr>\n",
       "  </tbody>\n",
       "</table>\n",
       "</div>"
      ],
      "text/plain": [
       "   user_id  article_id  value\n",
       "0        0          94      0\n",
       "1        1          94      0\n",
       "2        2          94      0\n",
       "3        3          94      0\n",
       "4        4          94      0"
      ]
     },
     "execution_count": 8,
     "metadata": {},
     "output_type": "execute_result"
    }
   ],
   "source": [
    "user_art = base_mat.melt()\n",
    "user_art.insert(0, 'user_id', repeated_uid)\n",
    "user_art.head()"
   ]
  },
  {
   "cell_type": "code",
   "execution_count": 10,
   "id": "4bf2c04d",
   "metadata": {},
   "outputs": [],
   "source": [
    "user_art.to_csv('data/user_art.csv', index=False)"
   ]
  },
  {
   "cell_type": "markdown",
   "id": "c4784d28",
   "metadata": {},
   "source": [
    "### SVD (Singular Value Decomposition)"
   ]
  },
  {
   "cell_type": "code",
   "execution_count": 13,
   "id": "3c03afce",
   "metadata": {},
   "outputs": [
    {
     "name": "stdout",
     "output_type": "stream",
     "text": [
      "Longueur du Train set : 93172500\n",
      "Longueur du Test set : 31057500\n"
     ]
    }
   ],
   "source": [
    "train_set, test_set = get_train_test(user_art)"
   ]
  },
  {
   "cell_type": "code",
   "execution_count": 14,
   "id": "3198664c",
   "metadata": {},
   "outputs": [
    {
     "data": {
      "text/plain": [
       "(8397, 286035, 0.0)"
      ]
     },
     "execution_count": 14,
     "metadata": {},
     "output_type": "execute_result"
    }
   ],
   "source": [
    "test_set[0]"
   ]
  },
  {
   "cell_type": "markdown",
   "id": "c8465c59",
   "metadata": {},
   "source": [
    "**Entraînement**"
   ]
  },
  {
   "cell_type": "code",
   "execution_count": 15,
   "id": "07c991fb",
   "metadata": {},
   "outputs": [],
   "source": [
    "param_grid = {\n",
    "    'n_factors': [50, 100, 150],\n",
    "    'n_epochs': [10, 20, 30],\n",
    "    'lr_all': [0.001, 0.005, 0.01]\n",
    "}\n",
    "svd_grid = GridSearchCV(SVD, param_grid, refit=True, measures=[\"rmse\"], n_jobs=-1, joblib_verbose=2, cv=5)"
   ]
  },
  {
   "cell_type": "code",
   "execution_count": null,
   "id": "5b80cdb5",
   "metadata": {},
   "outputs": [],
   "source": [
    "%%time\n",
    "svd_grid.fit(data=train_set)"
   ]
  },
  {
   "cell_type": "markdown",
   "id": "4c2a255d",
   "metadata": {},
   "source": [
    "**Résultats**"
   ]
  },
  {
   "cell_type": "code",
   "execution_count": null,
   "id": "d4087843",
   "metadata": {},
   "outputs": [],
   "source": [
    "print(f\"Meilleurs paramètres : {svd_grid.best_params}\")"
   ]
  },
  {
   "cell_type": "markdown",
   "id": "d0e7885d",
   "metadata": {},
   "source": [
    "**Sauvegarde du model**"
   ]
  },
  {
   "cell_type": "code",
   "execution_count": null,
   "id": "d5693dae",
   "metadata": {},
   "outputs": [],
   "source": [
    "with open(os.path.join('models', 'svd_art.pkl'), 'wb') as f:\n",
    "    pickle.dump(svd_grid, f)"
   ]
  },
  {
   "cell_type": "markdown",
   "id": "9465746c",
   "metadata": {},
   "source": [
    "**Test pour utilisateur n°100000**"
   ]
  },
  {
   "cell_type": "code",
   "execution_count": 29,
   "id": "3e1a66c3",
   "metadata": {},
   "outputs": [],
   "source": [
    "with open(os.path.join('models', 'svd_art.pkl'), 'rb') as f:\n",
    "    model = pickle.load(f)"
   ]
  },
  {
   "cell_type": "code",
   "execution_count": 41,
   "id": "5a47ff8a",
   "metadata": {},
   "outputs": [
    {
     "name": "stderr",
     "output_type": "stream",
     "text": [
      "C:\\Users\\aledo\\AppData\\Local\\Temp\\ipykernel_12000\\3520909208.py:5: SettingWithCopyWarning: \n",
      "A value is trying to be set on a copy of a slice from a DataFrame.\n",
      "Try using .loc[row_indexer,col_indexer] = value instead\n",
      "\n",
      "See the caveats in the documentation: https://pandas.pydata.org/pandas-docs/stable/user_guide/indexing.html#returning-a-view-versus-a-copy\n",
      "  user_sel['value'] = 1\n"
     ]
    },
    {
     "name": "stdout",
     "output_type": "stream",
     "text": [
      "Articles recommandés pour l'utilisateur 100000 : [162270, 64524, 62623, 189530, 282057]\n",
      "Rappel des articles consultés par l'utilisateur : [218337 160417 158536  96210 336245]\n",
      "Catégories des articles recommandés : [135, 304, 281, 412, 127]\n",
      "Rappel des catégories consultés par l'utilisateur : [352, 209, 437, 281]\n",
      "CPU times: total: 2.16 s\n",
      "Wall time: 2.17 s\n"
     ]
    }
   ],
   "source": [
    "%%time\n",
    "user_id = 100000\n",
    "pred_list, user_art_list, pred_cat, read_cat = make_recommandation(model, user_id, articles_by_user, articles_df)\n",
    "print(f\"Articles recommandés pour l'utilisateur {user_id} : {pred_list}\")\n",
    "print(f\"Rappel des articles consultés par l'utilisateur : {user_art_list}\")\n",
    "print(f\"Catégories des articles recommandés : {pred_cat}\")\n",
    "print(f\"Rappel des catégories consultés par l'utilisateur : {read_cat}\")"
   ]
  },
  {
   "cell_type": "markdown",
   "id": "c2d1af2b",
   "metadata": {},
   "source": [
    "*[(Retour sommaire)](#Sommaire)*"
   ]
  },
  {
   "cell_type": "markdown",
   "id": "fd234046",
   "metadata": {},
   "source": [
    "***"
   ]
  },
  {
   "cell_type": "markdown",
   "id": "0a707bd4",
   "metadata": {},
   "source": [
    "## 3.3 Collaborative-filtering à la catégorie avec Surprise"
   ]
  },
  {
   "cell_type": "markdown",
   "id": "67b05f71",
   "metadata": {},
   "source": [
    "### Fonctions"
   ]
  },
  {
   "cell_type": "code",
   "execution_count": 2,
   "id": "772f0c23",
   "metadata": {},
   "outputs": [],
   "source": [
    "def get_train_test(cat_rating_df, train_size=0.75):\n",
    "    \n",
    "    \"\"\"\n",
    "    Implémentation manuelle du split train/test, car le train_test_split et GridSearchCV de Surprise\n",
    "    ne sont pas compatibles (il manque des attributs à l'élément <surprise.Trainset> dont GridSearchCV a besoin).\n",
    "        @param: cat_rating_df <Pandas.DataFrame> : Dataframe du nombre de clicks par utilisateur et par catégorie\n",
    "            Doit comporter les colonnes 'user_id', 'category_id' et 'nb_clicks', avec 'nb_clicks' de 1 à 5\n",
    "        @param train_size <int> : fraction du Dataframe à utiliser pour l'entraînement (par défaut 75%)\n",
    "        @return <surprise.Dataset>, <surprise.Testset> : train_set, test_set aux proportions indiquées\n",
    "    \"\"\"\n",
    "    \n",
    "    ratings = cat_rating_df[['user_id', 'category_id', 'value']].sort_values(by='user_id')\n",
    "    \n",
    "    # Coupure train/test à l'endroit indiqué\n",
    "    breakpoint = int(len(ratings) * train_size)\n",
    "    train_candidate = ratings.head(breakpoint)\n",
    "    test_candidate = ratings.iloc[breakpoint:, :]\n",
    "    \n",
    "    # Suppression de l'utilisateur coupé en 2 s'il existe\n",
    "    common = pd.merge(train_candidate, test_candidate, how='inner', on='user_id')\n",
    "    common_uid = set(common['user_id'].to_list())\n",
    "    train_candidate = train_candidate[~train_candidate['user_id'].isin(common_uid)]\n",
    "    test_candidate = test_candidate[~test_candidate['user_id'].isin(common_uid)]\n",
    "    print('Longueur du Train set :', len(train_candidate))\n",
    "    print('Longueur du Test set :', len(test_candidate))\n",
    "    \n",
    "    # Transformation en datasets Surprise\n",
    "    reader = Reader()   # Le rating_scale par défaut est déjà (1, 5)\n",
    "    train_set = Dataset.load_from_df(train_candidate, reader)\n",
    "    test_candidate = Dataset.load_from_df(test_candidate, reader)\n",
    "    dummy, test_set = train_test_split(test_candidate, test_size=1.0)    # Hack\n",
    "    \n",
    "    return train_set, test_set"
   ]
  },
  {
   "cell_type": "code",
   "execution_count": 277,
   "id": "28821627",
   "metadata": {},
   "outputs": [],
   "source": [
    "def get_predict(model, testSet):\n",
    "    \n",
    "    \"\"\"\n",
    "    Affiche les valeurs d'erreur RMSE, MSE et MAE de la prédiction globale sur un testSet\n",
    "    Affiche le nombre de clicks réels et prédits pour un utilisateur au hasard issu du test_set\n",
    "        @param model <Surprise Model> : model à utiliser pour effectuer la prédiction\n",
    "        @param testSet <Surprise Testset> : test set sur lequel effectuer la prédiction\n",
    "        @return <Surprise Prediction> : lot de prédictions issues du test set\n",
    "    \"\"\"\n",
    "    \n",
    "    predict = model.test(testSet)\n",
    "    #accuracy.rmse(predict)\n",
    "    #accuracy.mse(predict)\n",
    "    #accuracy.mae(predict);\n",
    "    \n",
    "    return predict"
   ]
  },
  {
   "cell_type": "code",
   "execution_count": 17,
   "id": "0c112f7a",
   "metadata": {},
   "outputs": [],
   "source": [
    "# Source : https://github.com/NicolasHug/Surprise/blob/master/examples/top_n_recommendations.py\n",
    "def get_top_n_cat(predictions, n=10):\n",
    "    \n",
    "    \"\"\"\n",
    "    Renvoi les n catégories les plus recommandées pour chaque utilisateur\n",
    "        @param predictions <Surprise Prediction> : prédictions issues de la méthode \"test\" d'un modèle Surprise\n",
    "        @param n <int> : nombre de recommandations à émettre\n",
    "        @return <dict> : dictionnaire {user_id: [(category_id, predicted_rating), ...]}\n",
    "    \"\"\"\n",
    "\n",
    "    # Map the predictions to each user\n",
    "    top_n = defaultdict(list)\n",
    "    for uid, iid, true_r, est, _ in predictions:\n",
    "        top_n[uid].append((iid, est))\n",
    "\n",
    "    # Sort the predictions for each user and retrieve the k highest ones\n",
    "    for uid, user_ratings in top_n.items():\n",
    "        user_ratings.sort(key=lambda x: x[1], reverse=True)\n",
    "        top_n[uid] = user_ratings[:n]\n",
    "\n",
    "    return top_n"
   ]
  },
  {
   "cell_type": "code",
   "execution_count": 266,
   "id": "94f40c8b",
   "metadata": {},
   "outputs": [],
   "source": [
    "def get_recommendations(user_id, top_n_cat, cat_by_user, art_by_user, art_df):\n",
    "    \n",
    "    \"\"\"\n",
    "    Renvoi une liste de 5 articles recommandés pour un utilisateur\n",
    "        @param user_id <int> : ID de l'utilisateur pour lequel émettre des recommandations\n",
    "        @param top_n_cat <list(int)> : top N catégories (avec poids associés) recommandées pour l'utilisateur\n",
    "        @param cat_by_user <Panda.Dataframe> : Dataframe utilisé pour la recommandation si top_n_cat est vide\n",
    "        @param art_by_user <Panda.Dataframe> : Dataframe des articles déjà lus et à ne pas reproposer\n",
    "        @param articles_df <Panda.Dataframe> : Dataframe des articles par catégorie pour piocher les suggestions\n",
    "        @return <list>, <list> : [articles recommandés], [catégories recommandées]\n",
    "    \"\"\"\n",
    "    \n",
    "    # Recherche des catégories recommandées pour l'utilisateur spécifié\n",
    "    recommanded_cat = [cat for cat, _ in top_n_cat[user_id]]\n",
    "    recommanded_wei = [wei for _, wei in top_n_cat[user_id]]\n",
    "    \n",
    "    # S'il n'y a pas de recommandation, nous utilisons les catégories historiques de l'utilisateur\n",
    "    if not recommanded_cat:\n",
    "        nb_cat = len(cat_by_user[cat_by_user['user_id'] == user_id])\n",
    "        sorted_cats = cat_by_user[cat_by_user['user_id'] == user_id].nlargest(nb_cat, ['nb_clicks'])\n",
    "        recommanded_cat = sorted_cats['category_id'].values\n",
    "        recommanded_wei = sorted_cats['nb_clicks'].values\n",
    "    \n",
    "    # Soustraction des articles déjà lus par l'utilisateur\n",
    "    deja_lu = art_by_user[art_by_user['user_id'] == user_id]['article_id'].values\n",
    "    possible_art = art_df[~art_df['article_id'].isin(deja_lu)]\n",
    "    \n",
    "    # Selection des catégories à représenter en tenant compte des pondérations\n",
    "    relative_wei = np.rint(np.divide(recommanded_wei, recommanded_wei[-1]))\n",
    "    selected_cat = []\n",
    "    for i in range(min(5, len(recommanded_cat))):\n",
    "        selected_cat = np.concatenate((selected_cat, np.repeat(recommanded_cat[i], recommanded_wei[i])), axis=None)\n",
    "    selected_cat = selected_cat.astype(int)[:min(5, len(selected_cat))]\n",
    "    while len(selected_cat) < 5:\n",
    "        selected_cat = np.concatenate(\n",
    "            (selected_cat, selected_cat[0: min(len(selected_cat), 5 - len(selected_cat))]), axis=None)\n",
    "    \n",
    "    # Sélection des 5 articles non lus les plus populaires parmis les catégories recommandées avec pondération\n",
    "    selected_art = []\n",
    "    for c in selected_cat:\n",
    "        pop_art = art_by_user[['user_id', 'article_id']].join(\n",
    "            possible_art[['article_id', 'category_id']].set_index('article_id'), how='left', on='article_id')\n",
    "        pop_art = pop_art.loc[\n",
    "            (pop_art['category_id'] == c) & (~pop_art['article_id'].isin(selected_art)), ['article_id', 'user_id']]\n",
    "        pop_art = pop_art.groupby('article_id').count().reset_index().sort_values(by='user_id', ascending=False)\n",
    "        selected_art.append(int(pop_art.head(1)['article_id'].values))\n",
    "    \n",
    "    return list(set(selected_cat)), selected_art"
   ]
  },
  {
   "cell_type": "markdown",
   "id": "1eca95a9",
   "metadata": {},
   "source": [
    "### SVD (Singular Value Decomposition)"
   ]
  },
  {
   "cell_type": "code",
   "execution_count": 3,
   "id": "42ac92df",
   "metadata": {},
   "outputs": [],
   "source": [
    "user_int = pd.read_csv('data/user_int.csv')"
   ]
  },
  {
   "cell_type": "code",
   "execution_count": 4,
   "id": "63c69cb7",
   "metadata": {},
   "outputs": [
    {
     "name": "stdout",
     "output_type": "stream",
     "text": [
      "Longueur du Train set : 35550000\n",
      "Longueur du Test set : 11850000\n"
     ]
    }
   ],
   "source": [
    "train_set, test_set = get_train_test(user_int[user_int['user_id'] < 150000])"
   ]
  },
  {
   "cell_type": "markdown",
   "id": "ce4644e2",
   "metadata": {},
   "source": [
    "<div class=\"alert alert-block alert-warning\">\n",
    "    \n",
    "Nous sommes là aussi forcés de réduire le nombre d'utilisateurs considérés à cause de considération rerlatives à la mémoire disponible, mais dû au faible nombre de colonnes ici (316), nous pouvons tout de même accroître le nombre de clients dans notre dataset, à savoir 15 fois plus que pour l'étude à l'article, soit un peu moins de la moitié du total de nos utilisateurs.\n",
    "    \n",
    "</div>"
   ]
  },
  {
   "cell_type": "code",
   "execution_count": 5,
   "id": "2cf37b53",
   "metadata": {},
   "outputs": [
    {
     "data": {
      "text/plain": [
       "(121444, 436, 0.0)"
      ]
     },
     "execution_count": 5,
     "metadata": {},
     "output_type": "execute_result"
    }
   ],
   "source": [
    "test_set[0]"
   ]
  },
  {
   "cell_type": "markdown",
   "id": "f2fa463d",
   "metadata": {},
   "source": [
    "**Entraînement**"
   ]
  },
  {
   "cell_type": "code",
   "execution_count": 53,
   "id": "347f14a0",
   "metadata": {},
   "outputs": [],
   "source": [
    "param_grid = {\n",
    "    'n_factors': [50, 100, 150],\n",
    "    'n_epochs': [10, 20, 30],\n",
    "    'lr_all': [0.001, 0.005, 0.01]\n",
    "}\n",
    "svd_grid = GridSearchCV(SVD, param_grid, refit=True, measures=[\"rmse\"], n_jobs=-1, joblib_verbose=2, cv=5)"
   ]
  },
  {
   "cell_type": "code",
   "execution_count": 7,
   "id": "0073ee0d",
   "metadata": {},
   "outputs": [
    {
     "name": "stderr",
     "output_type": "stream",
     "text": [
      "[Parallel(n_jobs=-1)]: Using backend LokyBackend with 8 concurrent workers.\n",
      "C:\\Users\\aledo\\anaconda3\\envs\\p9\\lib\\site-packages\\joblib\\externals\\loky\\process_executor.py:700: UserWarning: A worker stopped while some jobs were given to the executor. This can be caused by a too short worker timeout or by a memory leak.\n",
      "  warnings.warn(\n",
      "[Parallel(n_jobs=-1)]: Done   2 out of   5 | elapsed: 45.5min remaining: 68.3min\n",
      "[Parallel(n_jobs=-1)]: Done   5 out of   5 | elapsed: 72.2min finished\n",
      "[Parallel(n_jobs=-1)]: Done   5 out of   5 | elapsed: 72.2min remaining:    0.0s\n"
     ]
    },
    {
     "name": "stdout",
     "output_type": "stream",
     "text": [
      "CPU times: total: 1h 23min 53s\n",
      "Wall time: 2h 36min 56s\n"
     ]
    }
   ],
   "source": [
    "%%time\n",
    "svd_grid.fit(data=train_set)"
   ]
  },
  {
   "cell_type": "markdown",
   "id": "fd80c2e7",
   "metadata": {},
   "source": [
    "**Résultats**"
   ]
  },
  {
   "cell_type": "code",
   "execution_count": 8,
   "id": "b5b6c6ff",
   "metadata": {},
   "outputs": [
    {
     "name": "stdout",
     "output_type": "stream",
     "text": [
      "Meilleurs paramètres : {'rmse': {'n_factors': 100, 'n_epochs': 20, 'lr_all': 0.005}}\n"
     ]
    }
   ],
   "source": [
    "print(f\"Meilleurs paramètres : {svd_grid.best_params}\")"
   ]
  },
  {
   "cell_type": "markdown",
   "id": "4acc5193",
   "metadata": {},
   "source": [
    "**Sauvegarde du model**"
   ]
  },
  {
   "cell_type": "code",
   "execution_count": 9,
   "id": "5132fe1e",
   "metadata": {},
   "outputs": [],
   "source": [
    "with open(os.path.join('models', 'svd_cat.pkl'), 'wb') as f:\n",
    "    pickle.dump(svd_grid, f)"
   ]
  },
  {
   "cell_type": "markdown",
   "id": "ea85c5b2",
   "metadata": {},
   "source": [
    "**Test pour utilisateur = 121444**"
   ]
  },
  {
   "cell_type": "code",
   "execution_count": 10,
   "id": "cc8e1633",
   "metadata": {},
   "outputs": [],
   "source": [
    "with open(os.path.join('models', 'svd_cat.pkl'), 'rb') as f:\n",
    "    model = pickle.load(f)"
   ]
  },
  {
   "cell_type": "code",
   "execution_count": 11,
   "id": "7e8fccfe",
   "metadata": {},
   "outputs": [],
   "source": [
    "user_id = 121444\n",
    "user_spec = user_int[user_int['user_id'] == user_id]"
   ]
  },
  {
   "cell_type": "code",
   "execution_count": 14,
   "id": "69e67380",
   "metadata": {},
   "outputs": [],
   "source": [
    "user_pred = model.test(user_spec.to_numpy())"
   ]
  },
  {
   "cell_type": "code",
   "execution_count": 20,
   "id": "af3f4b78",
   "metadata": {},
   "outputs": [
    {
     "data": {
      "text/plain": [
       "[Prediction(uid=121444.0, iid=1.0, r_ui=0.0, est=1, details={'was_impossible': False}),\n",
       " Prediction(uid=121444.0, iid=2.0, r_ui=0.0, est=1, details={'was_impossible': False}),\n",
       " Prediction(uid=121444.0, iid=3.0, r_ui=0.0, est=1, details={'was_impossible': False}),\n",
       " Prediction(uid=121444.0, iid=4.0, r_ui=0.0, est=1, details={'was_impossible': False}),\n",
       " Prediction(uid=121444.0, iid=6.0, r_ui=0.0, est=1, details={'was_impossible': False}),\n",
       " Prediction(uid=121444.0, iid=7.0, r_ui=0.0, est=1, details={'was_impossible': False}),\n",
       " Prediction(uid=121444.0, iid=9.0, r_ui=0.0, est=1, details={'was_impossible': False}),\n",
       " Prediction(uid=121444.0, iid=11.0, r_ui=0.0, est=1, details={'was_impossible': False}),\n",
       " Prediction(uid=121444.0, iid=15.0, r_ui=0.0, est=1, details={'was_impossible': False}),\n",
       " Prediction(uid=121444.0, iid=16.0, r_ui=0.0, est=1, details={'was_impossible': False}),\n",
       " Prediction(uid=121444.0, iid=17.0, r_ui=0.0, est=1, details={'was_impossible': False}),\n",
       " Prediction(uid=121444.0, iid=18.0, r_ui=0.0, est=1, details={'was_impossible': False}),\n",
       " Prediction(uid=121444.0, iid=19.0, r_ui=0.0, est=1, details={'was_impossible': False}),\n",
       " Prediction(uid=121444.0, iid=20.0, r_ui=0.0, est=1, details={'was_impossible': False}),\n",
       " Prediction(uid=121444.0, iid=21.0, r_ui=0.0, est=1, details={'was_impossible': False}),\n",
       " Prediction(uid=121444.0, iid=22.0, r_ui=0.0, est=1, details={'was_impossible': False}),\n",
       " Prediction(uid=121444.0, iid=24.0, r_ui=0.0, est=1, details={'was_impossible': False}),\n",
       " Prediction(uid=121444.0, iid=25.0, r_ui=0.0, est=1, details={'was_impossible': False}),\n",
       " Prediction(uid=121444.0, iid=26.0, r_ui=0.0, est=1, details={'was_impossible': False}),\n",
       " Prediction(uid=121444.0, iid=27.0, r_ui=0.0, est=1, details={'was_impossible': False}),\n",
       " Prediction(uid=121444.0, iid=28.0, r_ui=0.0, est=1, details={'was_impossible': False}),\n",
       " Prediction(uid=121444.0, iid=29.0, r_ui=0.0, est=1, details={'was_impossible': False}),\n",
       " Prediction(uid=121444.0, iid=31.0, r_ui=0.0, est=1, details={'was_impossible': False}),\n",
       " Prediction(uid=121444.0, iid=32.0, r_ui=0.0, est=1, details={'was_impossible': False}),\n",
       " Prediction(uid=121444.0, iid=34.0, r_ui=0.0, est=1, details={'was_impossible': False}),\n",
       " Prediction(uid=121444.0, iid=36.0, r_ui=0.0, est=1, details={'was_impossible': False}),\n",
       " Prediction(uid=121444.0, iid=37.0, r_ui=0.0, est=1, details={'was_impossible': False}),\n",
       " Prediction(uid=121444.0, iid=39.0, r_ui=0.0, est=1, details={'was_impossible': False}),\n",
       " Prediction(uid=121444.0, iid=40.0, r_ui=0.0, est=1, details={'was_impossible': False}),\n",
       " Prediction(uid=121444.0, iid=41.0, r_ui=0.0, est=1, details={'was_impossible': False}),\n",
       " Prediction(uid=121444.0, iid=42.0, r_ui=0.0, est=1, details={'was_impossible': False}),\n",
       " Prediction(uid=121444.0, iid=43.0, r_ui=0.0, est=1, details={'was_impossible': False}),\n",
       " Prediction(uid=121444.0, iid=44.0, r_ui=0.0, est=1, details={'was_impossible': False}),\n",
       " Prediction(uid=121444.0, iid=46.0, r_ui=0.0, est=1, details={'was_impossible': False}),\n",
       " Prediction(uid=121444.0, iid=47.0, r_ui=0.0, est=1, details={'was_impossible': False}),\n",
       " Prediction(uid=121444.0, iid=48.0, r_ui=0.0, est=1, details={'was_impossible': False}),\n",
       " Prediction(uid=121444.0, iid=51.0, r_ui=0.0, est=1, details={'was_impossible': False}),\n",
       " Prediction(uid=121444.0, iid=54.0, r_ui=0.0, est=1, details={'was_impossible': False}),\n",
       " Prediction(uid=121444.0, iid=55.0, r_ui=0.0, est=1, details={'was_impossible': False}),\n",
       " Prediction(uid=121444.0, iid=56.0, r_ui=0.0, est=1, details={'was_impossible': False}),\n",
       " Prediction(uid=121444.0, iid=58.0, r_ui=0.0, est=1, details={'was_impossible': False}),\n",
       " Prediction(uid=121444.0, iid=60.0, r_ui=0.0, est=1, details={'was_impossible': False}),\n",
       " Prediction(uid=121444.0, iid=62.0, r_ui=0.0, est=1, details={'was_impossible': False}),\n",
       " Prediction(uid=121444.0, iid=63.0, r_ui=0.0, est=1, details={'was_impossible': False}),\n",
       " Prediction(uid=121444.0, iid=64.0, r_ui=0.0, est=1, details={'was_impossible': False}),\n",
       " Prediction(uid=121444.0, iid=65.0, r_ui=0.0, est=1, details={'was_impossible': False}),\n",
       " Prediction(uid=121444.0, iid=66.0, r_ui=0.0, est=1, details={'was_impossible': False}),\n",
       " Prediction(uid=121444.0, iid=67.0, r_ui=0.0, est=1, details={'was_impossible': False}),\n",
       " Prediction(uid=121444.0, iid=68.0, r_ui=0.0, est=1, details={'was_impossible': False}),\n",
       " Prediction(uid=121444.0, iid=69.0, r_ui=0.0, est=1, details={'was_impossible': False}),\n",
       " Prediction(uid=121444.0, iid=70.0, r_ui=0.0, est=1, details={'was_impossible': False}),\n",
       " Prediction(uid=121444.0, iid=71.0, r_ui=0.0, est=1, details={'was_impossible': False}),\n",
       " Prediction(uid=121444.0, iid=72.0, r_ui=0.0, est=1, details={'was_impossible': False}),\n",
       " Prediction(uid=121444.0, iid=74.0, r_ui=0.0, est=1, details={'was_impossible': False}),\n",
       " Prediction(uid=121444.0, iid=75.0, r_ui=0.0, est=1, details={'was_impossible': False}),\n",
       " Prediction(uid=121444.0, iid=76.0, r_ui=0.0, est=1, details={'was_impossible': False}),\n",
       " Prediction(uid=121444.0, iid=77.0, r_ui=0.0, est=1, details={'was_impossible': False}),\n",
       " Prediction(uid=121444.0, iid=81.0, r_ui=0.0, est=1, details={'was_impossible': False}),\n",
       " Prediction(uid=121444.0, iid=84.0, r_ui=0.0, est=1, details={'was_impossible': False}),\n",
       " Prediction(uid=121444.0, iid=87.0, r_ui=0.0, est=1, details={'was_impossible': False}),\n",
       " Prediction(uid=121444.0, iid=89.0, r_ui=0.0, est=1, details={'was_impossible': False}),\n",
       " Prediction(uid=121444.0, iid=90.0, r_ui=0.0, est=1, details={'was_impossible': False}),\n",
       " Prediction(uid=121444.0, iid=92.0, r_ui=0.0, est=1, details={'was_impossible': False}),\n",
       " Prediction(uid=121444.0, iid=95.0, r_ui=0.0, est=1, details={'was_impossible': False}),\n",
       " Prediction(uid=121444.0, iid=96.0, r_ui=0.0, est=1, details={'was_impossible': False}),\n",
       " Prediction(uid=121444.0, iid=97.0, r_ui=0.0, est=1, details={'was_impossible': False}),\n",
       " Prediction(uid=121444.0, iid=99.0, r_ui=0.0, est=1, details={'was_impossible': False}),\n",
       " Prediction(uid=121444.0, iid=101.0, r_ui=0.0, est=1, details={'was_impossible': False}),\n",
       " Prediction(uid=121444.0, iid=102.0, r_ui=0.0, est=1, details={'was_impossible': False}),\n",
       " Prediction(uid=121444.0, iid=103.0, r_ui=0.0, est=1, details={'was_impossible': False}),\n",
       " Prediction(uid=121444.0, iid=104.0, r_ui=0.0, est=1, details={'was_impossible': False}),\n",
       " Prediction(uid=121444.0, iid=107.0, r_ui=0.0, est=1, details={'was_impossible': False}),\n",
       " Prediction(uid=121444.0, iid=114.0, r_ui=0.0, est=1, details={'was_impossible': False}),\n",
       " Prediction(uid=121444.0, iid=115.0, r_ui=0.0, est=1, details={'was_impossible': False}),\n",
       " Prediction(uid=121444.0, iid=116.0, r_ui=0.0, est=1, details={'was_impossible': False}),\n",
       " Prediction(uid=121444.0, iid=117.0, r_ui=0.0, est=1, details={'was_impossible': False}),\n",
       " Prediction(uid=121444.0, iid=118.0, r_ui=0.0, est=1, details={'was_impossible': False}),\n",
       " Prediction(uid=121444.0, iid=119.0, r_ui=0.0, est=1, details={'was_impossible': False}),\n",
       " Prediction(uid=121444.0, iid=120.0, r_ui=0.0, est=1, details={'was_impossible': False}),\n",
       " Prediction(uid=121444.0, iid=122.0, r_ui=0.0, est=1, details={'was_impossible': False}),\n",
       " Prediction(uid=121444.0, iid=123.0, r_ui=0.0, est=1, details={'was_impossible': False}),\n",
       " Prediction(uid=121444.0, iid=125.0, r_ui=0.0, est=1, details={'was_impossible': False}),\n",
       " Prediction(uid=121444.0, iid=126.0, r_ui=0.0, est=1, details={'was_impossible': False}),\n",
       " Prediction(uid=121444.0, iid=127.0, r_ui=0.0, est=1, details={'was_impossible': False}),\n",
       " Prediction(uid=121444.0, iid=128.0, r_ui=0.0, est=1, details={'was_impossible': False}),\n",
       " Prediction(uid=121444.0, iid=130.0, r_ui=0.0, est=1, details={'was_impossible': False}),\n",
       " Prediction(uid=121444.0, iid=132.0, r_ui=0.0, est=1, details={'was_impossible': False}),\n",
       " Prediction(uid=121444.0, iid=133.0, r_ui=0.0, est=1, details={'was_impossible': False}),\n",
       " Prediction(uid=121444.0, iid=134.0, r_ui=0.0, est=1, details={'was_impossible': False}),\n",
       " Prediction(uid=121444.0, iid=135.0, r_ui=0.0, est=1, details={'was_impossible': False}),\n",
       " Prediction(uid=121444.0, iid=136.0, r_ui=0.0, est=1, details={'was_impossible': False}),\n",
       " Prediction(uid=121444.0, iid=137.0, r_ui=0.0, est=1, details={'was_impossible': False}),\n",
       " Prediction(uid=121444.0, iid=138.0, r_ui=0.0, est=1, details={'was_impossible': False}),\n",
       " Prediction(uid=121444.0, iid=140.0, r_ui=0.0, est=1, details={'was_impossible': False}),\n",
       " Prediction(uid=121444.0, iid=141.0, r_ui=0.0, est=1, details={'was_impossible': False}),\n",
       " Prediction(uid=121444.0, iid=142.0, r_ui=0.0, est=1, details={'was_impossible': False}),\n",
       " Prediction(uid=121444.0, iid=146.0, r_ui=0.0, est=1, details={'was_impossible': False}),\n",
       " Prediction(uid=121444.0, iid=147.0, r_ui=0.0, est=1, details={'was_impossible': False}),\n",
       " Prediction(uid=121444.0, iid=148.0, r_ui=0.0, est=1, details={'was_impossible': False}),\n",
       " Prediction(uid=121444.0, iid=151.0, r_ui=0.0, est=1, details={'was_impossible': False}),\n",
       " Prediction(uid=121444.0, iid=152.0, r_ui=0.0, est=1, details={'was_impossible': False}),\n",
       " Prediction(uid=121444.0, iid=156.0, r_ui=0.0, est=1, details={'was_impossible': False}),\n",
       " Prediction(uid=121444.0, iid=159.0, r_ui=0.0, est=1, details={'was_impossible': False}),\n",
       " Prediction(uid=121444.0, iid=160.0, r_ui=0.0, est=1, details={'was_impossible': False}),\n",
       " Prediction(uid=121444.0, iid=161.0, r_ui=0.0, est=1, details={'was_impossible': False}),\n",
       " Prediction(uid=121444.0, iid=162.0, r_ui=0.0, est=1, details={'was_impossible': False}),\n",
       " Prediction(uid=121444.0, iid=163.0, r_ui=0.0, est=1, details={'was_impossible': False}),\n",
       " Prediction(uid=121444.0, iid=164.0, r_ui=0.0, est=1, details={'was_impossible': False}),\n",
       " Prediction(uid=121444.0, iid=165.0, r_ui=0.0, est=1, details={'was_impossible': False}),\n",
       " Prediction(uid=121444.0, iid=166.0, r_ui=0.0, est=1, details={'was_impossible': False}),\n",
       " Prediction(uid=121444.0, iid=167.0, r_ui=0.0, est=1, details={'was_impossible': False}),\n",
       " Prediction(uid=121444.0, iid=171.0, r_ui=0.0, est=1, details={'was_impossible': False}),\n",
       " Prediction(uid=121444.0, iid=172.0, r_ui=0.0, est=1, details={'was_impossible': False}),\n",
       " Prediction(uid=121444.0, iid=173.0, r_ui=0.0, est=1, details={'was_impossible': False}),\n",
       " Prediction(uid=121444.0, iid=174.0, r_ui=0.0, est=1, details={'was_impossible': False}),\n",
       " Prediction(uid=121444.0, iid=175.0, r_ui=0.0, est=1, details={'was_impossible': False}),\n",
       " Prediction(uid=121444.0, iid=176.0, r_ui=0.0, est=1, details={'was_impossible': False}),\n",
       " Prediction(uid=121444.0, iid=177.0, r_ui=0.0, est=1, details={'was_impossible': False}),\n",
       " Prediction(uid=121444.0, iid=180.0, r_ui=0.0, est=1, details={'was_impossible': False}),\n",
       " Prediction(uid=121444.0, iid=183.0, r_ui=0.0, est=1, details={'was_impossible': False}),\n",
       " Prediction(uid=121444.0, iid=184.0, r_ui=0.0, est=1, details={'was_impossible': False}),\n",
       " Prediction(uid=121444.0, iid=186.0, r_ui=0.0, est=1, details={'was_impossible': False}),\n",
       " Prediction(uid=121444.0, iid=187.0, r_ui=0.0, est=1, details={'was_impossible': False}),\n",
       " Prediction(uid=121444.0, iid=188.0, r_ui=0.0, est=1, details={'was_impossible': False}),\n",
       " Prediction(uid=121444.0, iid=191.0, r_ui=0.0, est=1, details={'was_impossible': False}),\n",
       " Prediction(uid=121444.0, iid=193.0, r_ui=0.0, est=1, details={'was_impossible': False}),\n",
       " Prediction(uid=121444.0, iid=195.0, r_ui=0.0, est=1, details={'was_impossible': False}),\n",
       " Prediction(uid=121444.0, iid=196.0, r_ui=0.0, est=1, details={'was_impossible': False}),\n",
       " Prediction(uid=121444.0, iid=197.0, r_ui=0.0, est=1, details={'was_impossible': False}),\n",
       " Prediction(uid=121444.0, iid=198.0, r_ui=0.0, est=1, details={'was_impossible': False}),\n",
       " Prediction(uid=121444.0, iid=201.0, r_ui=0.0, est=1, details={'was_impossible': False}),\n",
       " Prediction(uid=121444.0, iid=202.0, r_ui=0.0, est=1, details={'was_impossible': False}),\n",
       " Prediction(uid=121444.0, iid=203.0, r_ui=0.0, est=1, details={'was_impossible': False}),\n",
       " Prediction(uid=121444.0, iid=204.0, r_ui=0.0, est=1, details={'was_impossible': False}),\n",
       " Prediction(uid=121444.0, iid=207.0, r_ui=0.0, est=1, details={'was_impossible': False}),\n",
       " Prediction(uid=121444.0, iid=208.0, r_ui=0.0, est=1, details={'was_impossible': False}),\n",
       " Prediction(uid=121444.0, iid=209.0, r_ui=0.0, est=1, details={'was_impossible': False}),\n",
       " Prediction(uid=121444.0, iid=211.0, r_ui=0.0, est=1, details={'was_impossible': False}),\n",
       " Prediction(uid=121444.0, iid=213.0, r_ui=0.0, est=1, details={'was_impossible': False}),\n",
       " Prediction(uid=121444.0, iid=215.0, r_ui=0.0, est=1, details={'was_impossible': False}),\n",
       " Prediction(uid=121444.0, iid=216.0, r_ui=0.0, est=1, details={'was_impossible': False}),\n",
       " Prediction(uid=121444.0, iid=218.0, r_ui=0.0, est=1, details={'was_impossible': False}),\n",
       " Prediction(uid=121444.0, iid=219.0, r_ui=0.0, est=1, details={'was_impossible': False}),\n",
       " Prediction(uid=121444.0, iid=220.0, r_ui=0.0, est=1, details={'was_impossible': False}),\n",
       " Prediction(uid=121444.0, iid=221.0, r_ui=0.0, est=1, details={'was_impossible': False}),\n",
       " Prediction(uid=121444.0, iid=222.0, r_ui=0.0, est=1, details={'was_impossible': False}),\n",
       " Prediction(uid=121444.0, iid=223.0, r_ui=0.0, est=1, details={'was_impossible': False}),\n",
       " Prediction(uid=121444.0, iid=225.0, r_ui=0.0, est=1, details={'was_impossible': False}),\n",
       " Prediction(uid=121444.0, iid=226.0, r_ui=0.0, est=1, details={'was_impossible': False}),\n",
       " Prediction(uid=121444.0, iid=227.0, r_ui=0.0, est=1, details={'was_impossible': False}),\n",
       " Prediction(uid=121444.0, iid=228.0, r_ui=0.0, est=1, details={'was_impossible': False}),\n",
       " Prediction(uid=121444.0, iid=229.0, r_ui=0.0, est=1, details={'was_impossible': False}),\n",
       " Prediction(uid=121444.0, iid=230.0, r_ui=0.0, est=1, details={'was_impossible': False}),\n",
       " Prediction(uid=121444.0, iid=231.0, r_ui=0.0, est=1, details={'was_impossible': False}),\n",
       " Prediction(uid=121444.0, iid=233.0, r_ui=0.0, est=1, details={'was_impossible': False}),\n",
       " Prediction(uid=121444.0, iid=234.0, r_ui=0.0, est=1, details={'was_impossible': False}),\n",
       " Prediction(uid=121444.0, iid=236.0, r_ui=0.0, est=1, details={'was_impossible': False}),\n",
       " Prediction(uid=121444.0, iid=237.0, r_ui=0.0, est=1, details={'was_impossible': False}),\n",
       " Prediction(uid=121444.0, iid=238.0, r_ui=0.0, est=1, details={'was_impossible': False}),\n",
       " Prediction(uid=121444.0, iid=240.0, r_ui=0.0, est=1, details={'was_impossible': False}),\n",
       " Prediction(uid=121444.0, iid=242.0, r_ui=0.0, est=1, details={'was_impossible': False}),\n",
       " Prediction(uid=121444.0, iid=243.0, r_ui=0.0, est=1, details={'was_impossible': False}),\n",
       " Prediction(uid=121444.0, iid=244.0, r_ui=0.0, est=1, details={'was_impossible': False}),\n",
       " Prediction(uid=121444.0, iid=245.0, r_ui=0.0, est=1, details={'was_impossible': False}),\n",
       " Prediction(uid=121444.0, iid=247.0, r_ui=0.0, est=1, details={'was_impossible': False}),\n",
       " Prediction(uid=121444.0, iid=249.0, r_ui=0.0, est=1, details={'was_impossible': False}),\n",
       " Prediction(uid=121444.0, iid=250.0, r_ui=0.0, est=1, details={'was_impossible': False}),\n",
       " Prediction(uid=121444.0, iid=252.0, r_ui=0.0, est=1, details={'was_impossible': False}),\n",
       " Prediction(uid=121444.0, iid=254.0, r_ui=0.0, est=1, details={'was_impossible': False}),\n",
       " Prediction(uid=121444.0, iid=255.0, r_ui=0.0, est=1, details={'was_impossible': False}),\n",
       " Prediction(uid=121444.0, iid=256.0, r_ui=0.0, est=1, details={'was_impossible': False}),\n",
       " Prediction(uid=121444.0, iid=257.0, r_ui=0.0, est=1, details={'was_impossible': False}),\n",
       " Prediction(uid=121444.0, iid=258.0, r_ui=0.0, est=1, details={'was_impossible': False}),\n",
       " Prediction(uid=121444.0, iid=259.0, r_ui=0.0, est=1, details={'was_impossible': False}),\n",
       " Prediction(uid=121444.0, iid=260.0, r_ui=0.0, est=1, details={'was_impossible': False}),\n",
       " Prediction(uid=121444.0, iid=262.0, r_ui=0.0, est=1, details={'was_impossible': False}),\n",
       " Prediction(uid=121444.0, iid=263.0, r_ui=0.0, est=1, details={'was_impossible': False}),\n",
       " Prediction(uid=121444.0, iid=264.0, r_ui=0.0, est=1, details={'was_impossible': False}),\n",
       " Prediction(uid=121444.0, iid=265.0, r_ui=0.0, est=1, details={'was_impossible': False}),\n",
       " Prediction(uid=121444.0, iid=266.0, r_ui=0.0, est=1, details={'was_impossible': False}),\n",
       " Prediction(uid=121444.0, iid=267.0, r_ui=0.0, est=1, details={'was_impossible': False}),\n",
       " Prediction(uid=121444.0, iid=268.0, r_ui=0.0, est=1, details={'was_impossible': False}),\n",
       " Prediction(uid=121444.0, iid=269.0, r_ui=0.0, est=1, details={'was_impossible': False}),\n",
       " Prediction(uid=121444.0, iid=270.0, r_ui=0.0, est=1, details={'was_impossible': False}),\n",
       " Prediction(uid=121444.0, iid=271.0, r_ui=0.0, est=1, details={'was_impossible': False}),\n",
       " Prediction(uid=121444.0, iid=272.0, r_ui=0.0, est=1, details={'was_impossible': False}),\n",
       " Prediction(uid=121444.0, iid=275.0, r_ui=0.0, est=1, details={'was_impossible': False}),\n",
       " Prediction(uid=121444.0, iid=276.0, r_ui=0.0, est=1, details={'was_impossible': False}),\n",
       " Prediction(uid=121444.0, iid=277.0, r_ui=0.0, est=1, details={'was_impossible': False}),\n",
       " Prediction(uid=121444.0, iid=278.0, r_ui=0.0, est=1, details={'was_impossible': False}),\n",
       " Prediction(uid=121444.0, iid=279.0, r_ui=0.0, est=1, details={'was_impossible': False}),\n",
       " Prediction(uid=121444.0, iid=281.0, r_ui=0.0, est=1.1574285546623286, details={'was_impossible': False}),\n",
       " Prediction(uid=121444.0, iid=284.0, r_ui=0.0, est=1, details={'was_impossible': False}),\n",
       " Prediction(uid=121444.0, iid=285.0, r_ui=0.0, est=1, details={'was_impossible': False}),\n",
       " Prediction(uid=121444.0, iid=287.0, r_ui=0.0, est=1, details={'was_impossible': False}),\n",
       " Prediction(uid=121444.0, iid=288.0, r_ui=0.0, est=1, details={'was_impossible': False}),\n",
       " Prediction(uid=121444.0, iid=289.0, r_ui=0.0, est=1, details={'was_impossible': False}),\n",
       " Prediction(uid=121444.0, iid=290.0, r_ui=0.0, est=1, details={'was_impossible': False}),\n",
       " Prediction(uid=121444.0, iid=291.0, r_ui=0.0, est=1, details={'was_impossible': False}),\n",
       " Prediction(uid=121444.0, iid=295.0, r_ui=0.0, est=1, details={'was_impossible': False}),\n",
       " Prediction(uid=121444.0, iid=297.0, r_ui=0.0, est=1, details={'was_impossible': False}),\n",
       " Prediction(uid=121444.0, iid=298.0, r_ui=0.0, est=1, details={'was_impossible': False}),\n",
       " Prediction(uid=121444.0, iid=299.0, r_ui=1.0, est=1, details={'was_impossible': False}),\n",
       " Prediction(uid=121444.0, iid=300.0, r_ui=0.0, est=1, details={'was_impossible': False}),\n",
       " Prediction(uid=121444.0, iid=301.0, r_ui=0.0, est=1, details={'was_impossible': False}),\n",
       " Prediction(uid=121444.0, iid=302.0, r_ui=0.0, est=1, details={'was_impossible': False}),\n",
       " Prediction(uid=121444.0, iid=304.0, r_ui=0.0, est=1, details={'was_impossible': False}),\n",
       " Prediction(uid=121444.0, iid=305.0, r_ui=0.0, est=1, details={'was_impossible': False}),\n",
       " Prediction(uid=121444.0, iid=307.0, r_ui=0.0, est=1, details={'was_impossible': False}),\n",
       " Prediction(uid=121444.0, iid=309.0, r_ui=0.0, est=1, details={'was_impossible': False}),\n",
       " Prediction(uid=121444.0, iid=310.0, r_ui=0.0, est=1, details={'was_impossible': False}),\n",
       " Prediction(uid=121444.0, iid=311.0, r_ui=0.0, est=1, details={'was_impossible': False}),\n",
       " Prediction(uid=121444.0, iid=314.0, r_ui=0.0, est=1, details={'was_impossible': False}),\n",
       " Prediction(uid=121444.0, iid=316.0, r_ui=0.0, est=1, details={'was_impossible': False}),\n",
       " Prediction(uid=121444.0, iid=317.0, r_ui=0.0, est=1, details={'was_impossible': False}),\n",
       " Prediction(uid=121444.0, iid=318.0, r_ui=0.0, est=1, details={'was_impossible': False}),\n",
       " Prediction(uid=121444.0, iid=320.0, r_ui=0.0, est=1, details={'was_impossible': False}),\n",
       " Prediction(uid=121444.0, iid=322.0, r_ui=0.0, est=1, details={'was_impossible': False}),\n",
       " Prediction(uid=121444.0, iid=323.0, r_ui=0.0, est=1, details={'was_impossible': False}),\n",
       " Prediction(uid=121444.0, iid=325.0, r_ui=0.0, est=1, details={'was_impossible': False}),\n",
       " Prediction(uid=121444.0, iid=326.0, r_ui=0.0, est=1, details={'was_impossible': False}),\n",
       " Prediction(uid=121444.0, iid=327.0, r_ui=0.0, est=1, details={'was_impossible': False}),\n",
       " Prediction(uid=121444.0, iid=328.0, r_ui=0.0, est=1, details={'was_impossible': False}),\n",
       " Prediction(uid=121444.0, iid=329.0, r_ui=0.0, est=1, details={'was_impossible': False}),\n",
       " Prediction(uid=121444.0, iid=330.0, r_ui=0.0, est=1, details={'was_impossible': False}),\n",
       " Prediction(uid=121444.0, iid=331.0, r_ui=0.0, est=1, details={'was_impossible': False}),\n",
       " Prediction(uid=121444.0, iid=332.0, r_ui=0.0, est=1, details={'was_impossible': False}),\n",
       " Prediction(uid=121444.0, iid=333.0, r_ui=0.0, est=1, details={'was_impossible': False}),\n",
       " Prediction(uid=121444.0, iid=337.0, r_ui=0.0, est=1, details={'was_impossible': False}),\n",
       " Prediction(uid=121444.0, iid=339.0, r_ui=0.0, est=1, details={'was_impossible': False}),\n",
       " Prediction(uid=121444.0, iid=340.0, r_ui=0.0, est=1, details={'was_impossible': False}),\n",
       " Prediction(uid=121444.0, iid=342.0, r_ui=0.0, est=1, details={'was_impossible': False}),\n",
       " Prediction(uid=121444.0, iid=348.0, r_ui=0.0, est=1, details={'was_impossible': False}),\n",
       " Prediction(uid=121444.0, iid=349.0, r_ui=0.0, est=1, details={'was_impossible': False}),\n",
       " Prediction(uid=121444.0, iid=351.0, r_ui=0.0, est=1, details={'was_impossible': False}),\n",
       " Prediction(uid=121444.0, iid=352.0, r_ui=0.0, est=1, details={'was_impossible': False}),\n",
       " Prediction(uid=121444.0, iid=353.0, r_ui=0.0, est=1, details={'was_impossible': False}),\n",
       " Prediction(uid=121444.0, iid=354.0, r_ui=0.0, est=1, details={'was_impossible': False}),\n",
       " Prediction(uid=121444.0, iid=355.0, r_ui=0.0, est=1, details={'was_impossible': False}),\n",
       " Prediction(uid=121444.0, iid=357.0, r_ui=0.0, est=1, details={'was_impossible': False}),\n",
       " Prediction(uid=121444.0, iid=359.0, r_ui=0.0, est=1, details={'was_impossible': False}),\n",
       " Prediction(uid=121444.0, iid=360.0, r_ui=0.0, est=1, details={'was_impossible': False}),\n",
       " Prediction(uid=121444.0, iid=362.0, r_ui=0.0, est=1, details={'was_impossible': False}),\n",
       " Prediction(uid=121444.0, iid=363.0, r_ui=0.0, est=1, details={'was_impossible': False}),\n",
       " Prediction(uid=121444.0, iid=367.0, r_ui=0.0, est=1, details={'was_impossible': False}),\n",
       " Prediction(uid=121444.0, iid=368.0, r_ui=0.0, est=1, details={'was_impossible': False}),\n",
       " Prediction(uid=121444.0, iid=369.0, r_ui=0.0, est=1, details={'was_impossible': False}),\n",
       " Prediction(uid=121444.0, iid=370.0, r_ui=0.0, est=1, details={'was_impossible': False}),\n",
       " Prediction(uid=121444.0, iid=371.0, r_ui=0.0, est=1, details={'was_impossible': False}),\n",
       " Prediction(uid=121444.0, iid=372.0, r_ui=0.0, est=1, details={'was_impossible': False}),\n",
       " Prediction(uid=121444.0, iid=373.0, r_ui=0.0, est=1, details={'was_impossible': False}),\n",
       " Prediction(uid=121444.0, iid=374.0, r_ui=0.0, est=1, details={'was_impossible': False}),\n",
       " Prediction(uid=121444.0, iid=375.0, r_ui=0.0, est=1, details={'was_impossible': False}),\n",
       " Prediction(uid=121444.0, iid=376.0, r_ui=0.0, est=1, details={'was_impossible': False}),\n",
       " Prediction(uid=121444.0, iid=377.0, r_ui=0.0, est=1, details={'was_impossible': False}),\n",
       " Prediction(uid=121444.0, iid=379.0, r_ui=0.0, est=1, details={'was_impossible': False}),\n",
       " Prediction(uid=121444.0, iid=380.0, r_ui=0.0, est=1, details={'was_impossible': False}),\n",
       " Prediction(uid=121444.0, iid=381.0, r_ui=0.0, est=1, details={'was_impossible': False}),\n",
       " Prediction(uid=121444.0, iid=382.0, r_ui=0.0, est=1, details={'was_impossible': False}),\n",
       " Prediction(uid=121444.0, iid=384.0, r_ui=0.0, est=1, details={'was_impossible': False}),\n",
       " Prediction(uid=121444.0, iid=385.0, r_ui=0.0, est=1, details={'was_impossible': False}),\n",
       " Prediction(uid=121444.0, iid=388.0, r_ui=0.0, est=1, details={'was_impossible': False}),\n",
       " Prediction(uid=121444.0, iid=389.0, r_ui=0.0, est=1, details={'was_impossible': False}),\n",
       " Prediction(uid=121444.0, iid=390.0, r_ui=0.0, est=1, details={'was_impossible': False}),\n",
       " Prediction(uid=121444.0, iid=391.0, r_ui=0.0, est=1, details={'was_impossible': False}),\n",
       " Prediction(uid=121444.0, iid=392.0, r_ui=0.0, est=1, details={'was_impossible': False}),\n",
       " Prediction(uid=121444.0, iid=393.0, r_ui=0.0, est=1, details={'was_impossible': False}),\n",
       " Prediction(uid=121444.0, iid=395.0, r_ui=0.0, est=1, details={'was_impossible': False}),\n",
       " Prediction(uid=121444.0, iid=396.0, r_ui=0.0, est=1, details={'was_impossible': False}),\n",
       " Prediction(uid=121444.0, iid=398.0, r_ui=0.0, est=1, details={'was_impossible': False}),\n",
       " Prediction(uid=121444.0, iid=399.0, r_ui=0.0, est=1, details={'was_impossible': False}),\n",
       " Prediction(uid=121444.0, iid=401.0, r_ui=0.0, est=1, details={'was_impossible': False}),\n",
       " Prediction(uid=121444.0, iid=402.0, r_ui=0.0, est=1, details={'was_impossible': False}),\n",
       " Prediction(uid=121444.0, iid=403.0, r_ui=0.0, est=1, details={'was_impossible': False}),\n",
       " Prediction(uid=121444.0, iid=404.0, r_ui=0.0, est=1, details={'was_impossible': False}),\n",
       " Prediction(uid=121444.0, iid=405.0, r_ui=0.0, est=1, details={'was_impossible': False}),\n",
       " Prediction(uid=121444.0, iid=406.0, r_ui=0.0, est=1, details={'was_impossible': False}),\n",
       " Prediction(uid=121444.0, iid=407.0, r_ui=0.0, est=1, details={'was_impossible': False}),\n",
       " Prediction(uid=121444.0, iid=408.0, r_ui=0.0, est=1, details={'was_impossible': False}),\n",
       " Prediction(uid=121444.0, iid=409.0, r_ui=0.0, est=1, details={'was_impossible': False}),\n",
       " Prediction(uid=121444.0, iid=410.0, r_ui=0.0, est=1, details={'was_impossible': False}),\n",
       " Prediction(uid=121444.0, iid=412.0, r_ui=0.0, est=1, details={'was_impossible': False}),\n",
       " Prediction(uid=121444.0, iid=413.0, r_ui=0.0, est=1, details={'was_impossible': False}),\n",
       " Prediction(uid=121444.0, iid=414.0, r_ui=0.0, est=1, details={'was_impossible': False}),\n",
       " Prediction(uid=121444.0, iid=415.0, r_ui=0.0, est=1, details={'was_impossible': False}),\n",
       " Prediction(uid=121444.0, iid=417.0, r_ui=0.0, est=1, details={'was_impossible': False}),\n",
       " Prediction(uid=121444.0, iid=418.0, r_ui=0.0, est=1, details={'was_impossible': False}),\n",
       " Prediction(uid=121444.0, iid=420.0, r_ui=0.0, est=1, details={'was_impossible': False}),\n",
       " Prediction(uid=121444.0, iid=421.0, r_ui=0.0, est=1, details={'was_impossible': False}),\n",
       " Prediction(uid=121444.0, iid=422.0, r_ui=0.0, est=1, details={'was_impossible': False}),\n",
       " Prediction(uid=121444.0, iid=424.0, r_ui=0.0, est=1, details={'was_impossible': False}),\n",
       " Prediction(uid=121444.0, iid=428.0, r_ui=0.0, est=1, details={'was_impossible': False}),\n",
       " Prediction(uid=121444.0, iid=429.0, r_ui=0.0, est=1, details={'was_impossible': False}),\n",
       " Prediction(uid=121444.0, iid=430.0, r_ui=0.0, est=1, details={'was_impossible': False}),\n",
       " Prediction(uid=121444.0, iid=431.0, r_ui=0.0, est=1, details={'was_impossible': False}),\n",
       " Prediction(uid=121444.0, iid=433.0, r_ui=0.0, est=1, details={'was_impossible': False}),\n",
       " Prediction(uid=121444.0, iid=434.0, r_ui=1.0, est=1, details={'was_impossible': False}),\n",
       " Prediction(uid=121444.0, iid=435.0, r_ui=0.0, est=1, details={'was_impossible': False}),\n",
       " Prediction(uid=121444.0, iid=436.0, r_ui=0.0, est=1, details={'was_impossible': False}),\n",
       " Prediction(uid=121444.0, iid=437.0, r_ui=0.0, est=1, details={'was_impossible': False}),\n",
       " Prediction(uid=121444.0, iid=438.0, r_ui=0.0, est=1, details={'was_impossible': False}),\n",
       " Prediction(uid=121444.0, iid=442.0, r_ui=0.0, est=1, details={'was_impossible': False}),\n",
       " Prediction(uid=121444.0, iid=443.0, r_ui=0.0, est=1, details={'was_impossible': False}),\n",
       " Prediction(uid=121444.0, iid=444.0, r_ui=0.0, est=1, details={'was_impossible': False}),\n",
       " Prediction(uid=121444.0, iid=445.0, r_ui=0.0, est=1, details={'was_impossible': False}),\n",
       " Prediction(uid=121444.0, iid=447.0, r_ui=0.0, est=1, details={'was_impossible': False}),\n",
       " Prediction(uid=121444.0, iid=448.0, r_ui=0.0, est=1, details={'was_impossible': False}),\n",
       " Prediction(uid=121444.0, iid=449.0, r_ui=0.0, est=1, details={'was_impossible': False}),\n",
       " Prediction(uid=121444.0, iid=450.0, r_ui=0.0, est=1, details={'was_impossible': False}),\n",
       " Prediction(uid=121444.0, iid=451.0, r_ui=0.0, est=1, details={'was_impossible': False}),\n",
       " Prediction(uid=121444.0, iid=453.0, r_ui=0.0, est=1, details={'was_impossible': False}),\n",
       " Prediction(uid=121444.0, iid=454.0, r_ui=0.0, est=1, details={'was_impossible': False}),\n",
       " Prediction(uid=121444.0, iid=455.0, r_ui=0.0, est=1, details={'was_impossible': False}),\n",
       " Prediction(uid=121444.0, iid=456.0, r_ui=0.0, est=1, details={'was_impossible': False}),\n",
       " Prediction(uid=121444.0, iid=458.0, r_ui=0.0, est=1, details={'was_impossible': False}),\n",
       " Prediction(uid=121444.0, iid=460.0, r_ui=0.0, est=1, details={'was_impossible': False})]"
      ]
     },
     "execution_count": 20,
     "metadata": {},
     "output_type": "execute_result"
    }
   ],
   "source": [
    "user_pred"
   ]
  },
  {
   "cell_type": "code",
   "execution_count": 21,
   "id": "924e9946",
   "metadata": {},
   "outputs": [
    {
     "data": {
      "text/plain": [
       "defaultdict(list,\n",
       "            {121444.0: [(281.0, 1.1574285546623286),\n",
       "              (1.0, 1),\n",
       "              (2.0, 1),\n",
       "              (3.0, 1),\n",
       "              (4.0, 1)]})"
      ]
     },
     "execution_count": 21,
     "metadata": {},
     "output_type": "execute_result"
    }
   ],
   "source": [
    "get_top_n_cat(user_pred, 5)"
   ]
  },
  {
   "cell_type": "code",
   "execution_count": 23,
   "id": "e0a4d4fd",
   "metadata": {},
   "outputs": [
    {
     "name": "stdout",
     "output_type": "stream",
     "text": [
      "Articles consultés par l'utilisateur : [324823 175040]\n"
     ]
    }
   ],
   "source": [
    "print(f\"Articles consultés par l'utilisateur : {articles_by_user[articles_by_user['user_id'] == 121444]['article_id'].values}\")"
   ]
  },
  {
   "cell_type": "code",
   "execution_count": 25,
   "id": "4fefedbb",
   "metadata": {},
   "outputs": [
    {
     "name": "stdout",
     "output_type": "stream",
     "text": [
      "Catégories des articles consultés : [299 434]\n"
     ]
    }
   ],
   "source": [
    "print(f\"Catégories des articles consultés : {articles_df[articles_df['article_id'].isin([324823, 175040])]['category_id'].values}\")"
   ]
  },
  {
   "cell_type": "markdown",
   "id": "3bb85f60",
   "metadata": {},
   "source": [
    "<div class=\"alert alert-block alert-danger\">\n",
    "    \n",
    "On constate ici que la recommandation à la catégorie via SVD n'a pas fonctionné, puisque'elle se contente de prédire 1 à chaque catégorie, à part sur la catégorie la plus représentée (281, voir l'analyse exploratoire ci-dessus).\n",
    "    \n",
    "Nous allons donc tenter une approche manuelle par similarité consinus ci-dessous.\n",
    "    \n",
    "</div>"
   ]
  },
  {
   "cell_type": "markdown",
   "id": "c18d2738",
   "metadata": {},
   "source": [
    "*[(Retour sommaire)](#Sommaire)*"
   ]
  },
  {
   "cell_type": "markdown",
   "id": "11f65f89",
   "metadata": {},
   "source": [
    "***"
   ]
  },
  {
   "cell_type": "markdown",
   "id": "4d77aa47",
   "metadata": {},
   "source": [
    "## 3.4 Collaborative-filtering à la catégorie : approche manuelle"
   ]
  },
  {
   "cell_type": "markdown",
   "id": "3f5b9d9e",
   "metadata": {},
   "source": [
    "### Fonctions"
   ]
  },
  {
   "cell_type": "code",
   "execution_count": 79,
   "id": "58e23502",
   "metadata": {},
   "outputs": [],
   "source": [
    "def get_recommended_cats(user_interactions, user_id):\n",
    "    \n",
    "    \"\"\"\n",
    "    Renvoi un vecteur de similarité entre l'utilisateur indiqué et tous les autres\n",
    "        @param user_interactions <Pandas.Dataframe>: Dataframe des interactions(val) utilisateur(idx)-catégories(col)\n",
    "        @param user_id <int> : ID de l'utilisateur à comparer\n",
    "        @return <Pandas.Dataframe> : vecteur 1D des similitudes entre tous les profils utilisateurs et user_id\n",
    "    \"\"\"\n",
    "    \n",
    "    # Extraction du vecteur utilisateur du user_id\n",
    "    users = user_interactions['user_id'].values\n",
    "    user_vector = np.squeeze(np.asarray(user_interactions[user_interactions['user_id'] == user_id].iloc[:, 1:]))\n",
    "    \n",
    "    # Création du vecteur de similarités utilisateurs avec user_id\n",
    "    similarities = []\n",
    "    for u in tqdm.tqdm(users):\n",
    "        u_vector = np.squeeze(np.asarray(user_interactions[user_interactions['user_id'] == u].iloc[:, 1:]))\n",
    "        similarities.append(np.dot(user_vector, u_vector) / (np.linalg.norm(user_vector) * np.linalg.norm(u_vector)))\n",
    "        \n",
    "    # Moyenne des notes d'interaction avec chaque catégorie, pondérée des notes de similitude\n",
    "    cat_vector = np.average(user_interactions.iloc[:, 1:], axis=0, weights=similarities)\n",
    "    reco = pd.DataFrame({'reco_weight': cat_vector}, index=user_interactions.iloc[:, 1:].columns)\n",
    "    \n",
    "    return reco.sort_values(by='reco_weight', ascending=False)"
   ]
  },
  {
   "cell_type": "code",
   "execution_count": 99,
   "id": "5de29dcf",
   "metadata": {},
   "outputs": [],
   "source": [
    "def get_recommended_arts(user_id, top_cats, art_by_user, art_df, n=5):\n",
    "    \n",
    "    \"\"\"\n",
    "    Renvoi une liste de 5 articles recommandés pour un utilisateur\n",
    "        @param user_id <int> : ID de l'utilisateur pour lequel émettre des recommandations\n",
    "        @param top_n_cat <Pandas.Dataframe> : catégories (avec poids associés) triées par recommandation pour user_id\n",
    "        @param art_by_user <Panda.Dataframe> : Dataframe des articles déjà lus et à ne pas reproposer\n",
    "        @param articles_df <Panda.Dataframe> : Dataframe des articles par catégorie pour piocher les suggestions\n",
    "        @return <list>, <list> : [articles recommandés], [catégories recommandées]\n",
    "    \"\"\"\n",
    "    \n",
    "    # Soustraction des articles déjà lus par l'utilisateur\n",
    "    deja_lu = art_by_user[art_by_user['user_id'] == user_id]['article_id'].values\n",
    "    possible_art = art_df[~art_df['article_id'].isin(deja_lu)]\n",
    "    \n",
    "    # Filtrage des catégories > 0 de recommandation\n",
    "    possible_df = top_cats[top_cats['reco_weight'] > 0].head(n)\n",
    "    possible_cats = np.asarray(possible_df.index.values, dtype=int)\n",
    "    possible_wei = possible_df['reco_weight'].values\n",
    "    \n",
    "    # S'il n'y a pas de recommandation, nous utilisons la \"sagesse de la foule\"\n",
    "    if int(np.ceil(max(top_cats['reco_weight']))) == 0:\n",
    "        selected_art = art_by_user[~art_by_user['article_id'].isin(deja_lu)] \\\n",
    "            .groupby('article_id').count().reset_index().sort_values(by='user_id', ascending=False).head(5)\n",
    "    \n",
    "    else:\n",
    "        # Bourrage par répétitions si la liste des catégories est trop courte\n",
    "        while len(possible_cats) < n:\n",
    "            possible_cats = np.concatenate(\n",
    "                (possible_cats, possible_cats[0: min(len(possible_cats), n - len(possible_cats))]), axis=None)\n",
    "            possible_wei = np.concatenate(\n",
    "                (possible_wei, possible_wei[0: min(len(possible_wei), n - len(possible_wei))]), axis=None)\n",
    "\n",
    "        # Selection des catégories à représenter en tenant compte des pondérations relatives\n",
    "        relative_wei = np.rint(np.divide(possible_wei, possible_wei[-1]))\n",
    "        selected_cat = []\n",
    "        for i in range(min(n, len(possible_cats))):\n",
    "            selected_cat = np.concatenate((selected_cat, np.repeat(possible_cats[i], possible_wei[i])), axis=None)\n",
    "        selected_cat = selected_cat.astype(int)[:min(n, len(selected_cat))]\n",
    "        while len(selected_cat) < n:\n",
    "            selected_cat = np.concatenate(\n",
    "                (selected_cat, selected_cat[0: min(len(selected_cat), n - len(selected_cat))]), axis=None)\n",
    "\n",
    "        # Sélection des N articles non lus les plus populaires parmis les catégories recommandées avec pondération\n",
    "        selected_art = []\n",
    "        for c in selected_cat:\n",
    "            pop_art = art_by_user[['user_id', 'article_id']].join(\n",
    "                possible_art[['article_id', 'category_id']].set_index('article_id'), how='left', on='article_id')\n",
    "            pop_art = pop_art.loc[\n",
    "                (pop_art['category_id'] == c) & (~pop_art['article_id'].isin(selected_art)), ['article_id', 'user_id']]\n",
    "            pop_art = pop_art.groupby('article_id').count().reset_index().sort_values(by='user_id', ascending=False)\n",
    "            selected_art.append(int(pop_art.head(1)['article_id'].values))\n",
    "    \n",
    "    return selected_art"
   ]
  },
  {
   "cell_type": "code",
   "execution_count": 200,
   "id": "7127466c",
   "metadata": {},
   "outputs": [],
   "source": [
    "def compute_metrics(predictions, targets):\n",
    "    return {\n",
    "        'rmse': np.sqrt(np.mean((predictions - targets)**2)),\n",
    "        'mse': np.mean((predictions - targets)**2),\n",
    "        'mae': np.mean(np.abs(predictions - targets))\n",
    "    }"
   ]
  },
  {
   "cell_type": "markdown",
   "id": "9165100d",
   "metadata": {},
   "source": [
    "### Etude pour l'utilisateur n°2"
   ]
  },
  {
   "cell_type": "markdown",
   "id": "b7478cfb",
   "metadata": {},
   "source": [
    "**Récupération de la matrice user-interaction au niveau de la catégorie**"
   ]
  },
  {
   "cell_type": "code",
   "execution_count": 13,
   "id": "fc424a7c",
   "metadata": {},
   "outputs": [],
   "source": [
    "user_int_mat = pd.read_csv('data/user_int_mat.csv')"
   ]
  },
  {
   "cell_type": "markdown",
   "id": "79bd9fd5",
   "metadata": {},
   "source": [
    "**Récupération des catégories recommandées (coeur de l'algorithme)**"
   ]
  },
  {
   "cell_type": "code",
   "execution_count": 80,
   "id": "63ffbf1b",
   "metadata": {},
   "outputs": [
    {
     "name": "stderr",
     "output_type": "stream",
     "text": [
      "100%|█████████████████████████████████████████████████████████████████████████| 322897/322897 [09:09<00:00, 587.25it/s]\n"
     ]
    }
   ],
   "source": [
    "reco_cats = get_recommended_cats(user_int_mat, 2)"
   ]
  },
  {
   "cell_type": "markdown",
   "id": "10909efe",
   "metadata": {},
   "source": [
    "**Catégories recommandées**"
   ]
  },
  {
   "cell_type": "code",
   "execution_count": 81,
   "id": "ea299988",
   "metadata": {},
   "outputs": [
    {
     "data": {
      "text/html": [
       "<div>\n",
       "<style scoped>\n",
       "    .dataframe tbody tr th:only-of-type {\n",
       "        vertical-align: middle;\n",
       "    }\n",
       "\n",
       "    .dataframe tbody tr th {\n",
       "        vertical-align: top;\n",
       "    }\n",
       "\n",
       "    .dataframe thead th {\n",
       "        text-align: right;\n",
       "    }\n",
       "</style>\n",
       "<table border=\"1\" class=\"dataframe\">\n",
       "  <thead>\n",
       "    <tr style=\"text-align: right;\">\n",
       "      <th></th>\n",
       "      <th>reco_weight</th>\n",
       "    </tr>\n",
       "  </thead>\n",
       "  <tbody>\n",
       "    <tr>\n",
       "      <th>375</th>\n",
       "      <td>1.131683</td>\n",
       "    </tr>\n",
       "    <tr>\n",
       "      <th>281</th>\n",
       "      <td>1.128002</td>\n",
       "    </tr>\n",
       "    <tr>\n",
       "      <th>26</th>\n",
       "      <td>1.098699</td>\n",
       "    </tr>\n",
       "    <tr>\n",
       "      <th>437</th>\n",
       "      <td>0.802193</td>\n",
       "    </tr>\n",
       "    <tr>\n",
       "      <th>412</th>\n",
       "      <td>0.790176</td>\n",
       "    </tr>\n",
       "  </tbody>\n",
       "</table>\n",
       "</div>"
      ],
      "text/plain": [
       "     reco_weight\n",
       "375     1.131683\n",
       "281     1.128002\n",
       "26      1.098699\n",
       "437     0.802193\n",
       "412     0.790176"
      ]
     },
     "execution_count": 81,
     "metadata": {},
     "output_type": "execute_result"
    }
   ],
   "source": [
    "reco_cats.head()"
   ]
  },
  {
   "cell_type": "markdown",
   "id": "4b05db82",
   "metadata": {},
   "source": [
    "**Catégories réellement consultées**"
   ]
  },
  {
   "cell_type": "code",
   "execution_count": 172,
   "id": "f05315ef",
   "metadata": {},
   "outputs": [
    {
     "data": {
      "text/plain": [
       "array([ 26, 247, 332], dtype=int64)"
      ]
     },
     "execution_count": 172,
     "metadata": {},
     "output_type": "execute_result"
    }
   ],
   "source": [
    "cat_rating_by_user[cat_rating_by_user['user_id'] == 2]['category_id'].values"
   ]
  },
  {
   "cell_type": "markdown",
   "id": "243a1c7a",
   "metadata": {},
   "source": [
    "**Récupération des articles recommandés (sur la base des catégories recommandées)**"
   ]
  },
  {
   "cell_type": "code",
   "execution_count": 83,
   "id": "1dba3f8a",
   "metadata": {},
   "outputs": [],
   "source": [
    "art_by_user = get_articles_by_user()\n",
    "art_df = pd.read_csv('data/articles_metadata.csv')"
   ]
  },
  {
   "cell_type": "code",
   "execution_count": 100,
   "id": "5abdc618",
   "metadata": {},
   "outputs": [
    {
     "name": "stdout",
     "output_type": "stream",
     "text": [
      "CPU times: total: 3.2 s\n",
      "Wall time: 3.4 s\n"
     ]
    }
   ],
   "source": [
    "%%time\n",
    "reco_arts = get_recommended_arts(2, reco_cats, art_by_user, art_df)"
   ]
  },
  {
   "cell_type": "markdown",
   "id": "be5aa7fe",
   "metadata": {},
   "source": [
    "**Articles recommandés**"
   ]
  },
  {
   "cell_type": "code",
   "execution_count": 101,
   "id": "a59c2103",
   "metadata": {},
   "outputs": [
    {
     "data": {
      "text/plain": [
       "[234698, 160974, 31836, 235616, 162655]"
      ]
     },
     "execution_count": 101,
     "metadata": {},
     "output_type": "execute_result"
    }
   ],
   "source": [
    "reco_arts"
   ]
  },
  {
   "cell_type": "markdown",
   "id": "a6424008",
   "metadata": {},
   "source": [
    "**Catégories des articles recommandés**"
   ]
  },
  {
   "cell_type": "code",
   "execution_count": 105,
   "id": "2c9df2c6",
   "metadata": {},
   "outputs": [
    {
     "data": {
      "text/plain": [
       "{26, 281, 375}"
      ]
     },
     "execution_count": 105,
     "metadata": {},
     "output_type": "execute_result"
    }
   ],
   "source": [
    "set(art_df[art_df['article_id'].isin(reco_arts)]['category_id'].values)"
   ]
  },
  {
   "cell_type": "markdown",
   "id": "6c29fdea",
   "metadata": {},
   "source": [
    "**Métriques**"
   ]
  },
  {
   "cell_type": "code",
   "execution_count": 197,
   "id": "e8a35c23",
   "metadata": {},
   "outputs": [
    {
     "data": {
      "text/plain": [
       "(316, 1)"
      ]
     },
     "execution_count": 197,
     "metadata": {},
     "output_type": "execute_result"
    }
   ],
   "source": [
    "reco = reco_cats.copy()\n",
    "reco.index.names = ['cat_id']\n",
    "reco = reco.reset_index()\n",
    "reco['cat_id'] = reco['cat_id'].astype(int)\n",
    "reco = reco.sort_values(by='cat_id')\n",
    "reco_vect = np.reshape(reco['reco_weight'].values, (-1, 1))\n",
    "np.shape(reco_vect)"
   ]
  },
  {
   "cell_type": "code",
   "execution_count": 198,
   "id": "da9b2fcd",
   "metadata": {},
   "outputs": [
    {
     "data": {
      "text/plain": [
       "(316, 1)"
      ]
     },
     "execution_count": 198,
     "metadata": {},
     "output_type": "execute_result"
    }
   ],
   "source": [
    "pref_vect = np.transpose(user_int_mat[user_int_mat['user_id'] == 2].iloc[:, 1:].values)\n",
    "np.shape(pref_vect)"
   ]
  },
  {
   "cell_type": "code",
   "execution_count": 201,
   "id": "5496975c",
   "metadata": {},
   "outputs": [
    {
     "data": {
      "text/plain": [
       "{'rmse': 0.15536721893248673,\n",
       " 'mse': 0.02413897271881526,\n",
       " 'mae': 0.04792655480116084}"
      ]
     },
     "execution_count": 201,
     "metadata": {},
     "output_type": "execute_result"
    }
   ],
   "source": [
    "metrics = compute_metrics(reco_vect, pref_vect)\n",
    "metrics"
   ]
  },
  {
   "cell_type": "markdown",
   "id": "83ec872e",
   "metadata": {},
   "source": [
    "*[(Retour sommaire)](#Sommaire)*"
   ]
  },
  {
   "cell_type": "markdown",
   "id": "afbbcffa",
   "metadata": {},
   "source": [
    "***"
   ]
  },
  {
   "cell_type": "markdown",
   "id": "4540080c",
   "metadata": {
    "papermill": {
     "duration": 0.055322,
     "end_time": "2021-10-02T15:52:09.016918",
     "exception": false,
     "start_time": "2021-10-02T15:52:08.961596",
     "status": "completed"
    },
    "tags": []
   },
   "source": [
    "# 4. Modèle de recommandation Content-based"
   ]
  },
  {
   "cell_type": "markdown",
   "id": "dca70303",
   "metadata": {},
   "source": [
    "## 4.1 Embeddings entiers"
   ]
  },
  {
   "cell_type": "markdown",
   "id": "ab23cf88",
   "metadata": {},
   "source": [
    "### Récupération des embeddings des articles"
   ]
  },
  {
   "cell_type": "code",
   "execution_count": 26,
   "id": "dfa54003",
   "metadata": {},
   "outputs": [
    {
     "data": {
      "text/plain": [
       "(364047, 250)"
      ]
     },
     "execution_count": 26,
     "metadata": {},
     "output_type": "execute_result"
    }
   ],
   "source": [
    "embeddings = pd.read_pickle('data/articles_embeddings.pickle')\n",
    "embeddings.shape"
   ]
  },
  {
   "cell_type": "code",
   "execution_count": 108,
   "id": "e49341c4",
   "metadata": {},
   "outputs": [
    {
     "data": {
      "text/plain": [
       "array([[-0.16118301, -0.95723313, -0.13794445, ..., -0.231686  ,\n",
       "         0.5974159 ,  0.40962312],\n",
       "       [-0.52321565, -0.974058  ,  0.73860806, ...,  0.18282819,\n",
       "         0.39708954, -0.83436364],\n",
       "       [-0.61961854, -0.9729604 , -0.20736018, ..., -0.44758022,\n",
       "         0.8059317 , -0.28528407],\n",
       "       [-0.7408434 , -0.97574896,  0.39169782, ..., -0.5378381 ,\n",
       "         0.24354108, -0.8853287 ],\n",
       "       [-0.2790515 , -0.97231525,  0.68537366, ..., -0.42406067,\n",
       "         0.18548405, -0.5802922 ]], dtype=float32)"
      ]
     },
     "execution_count": 108,
     "metadata": {},
     "output_type": "execute_result"
    }
   ],
   "source": [
    "embeddings[:5, :]"
   ]
  },
  {
   "cell_type": "markdown",
   "id": "2c0ad27e",
   "metadata": {},
   "source": [
    "<div class=\"alert alert-block alert-info\">\n",
    "    \n",
    "Nous avons un ensemble de 364 047 vecteurs (1 par article) de 250 caractéristiques chacun : l'index de chaque vecteur correspond à l'article_id.\n",
    "    \n",
    "</div>"
   ]
  },
  {
   "cell_type": "markdown",
   "id": "621c46f7",
   "metadata": {},
   "source": [
    "### Fonctions"
   ]
  },
  {
   "cell_type": "code",
   "execution_count": 30,
   "id": "fa925641",
   "metadata": {},
   "outputs": [],
   "source": [
    "def get_top_articles(articles, n=1):\n",
    "    indexed = enumerate(articles)\n",
    "    sorted_articles = sorted(indexed, key=operator.itemgetter(1), reverse=True) \n",
    "    return [a[0] for a in sorted_articles[:n]]"
   ]
  },
  {
   "cell_type": "code",
   "execution_count": 31,
   "id": "5ece6e73",
   "metadata": {},
   "outputs": [],
   "source": [
    "def get_content_recommandations(user_id, embeddings, clicks, n=5):\n",
    "    \n",
    "    \"\"\"\n",
    "    Produit 5 recommandations d'articles en se basant sur les articles déjà lus par l'utilisateur\n",
    "        @param user_id <int> : utilisateur pour lequel émettre des recommandations\n",
    "        @param embeddings <numpy.Array> : ensemble de vecteurs de word embedding de longueur 250\n",
    "        @param art_by_user <Pandas.Dataframe> : Dataframe des articles lus pour chaque utilisateur\n",
    "        @return <list> : une liste de 5 articles les plus recommandés pour le profil\n",
    "    \"\"\"\n",
    "    \n",
    "    # Récupère une liste ordonnée des articles lus : les plus lus et consultés plus récemment sont mieux classés\n",
    "    art_list = clicks.loc[clicks_df['user_id'] == user_id, ['click_article_id', 'session_size']] \\\n",
    "        .groupby('click_article_id').count().reset_index().set_index('click_article_id') \\\n",
    "        .join(clicks[['click_article_id', 'click_timestamp']], how='left', on='click_article_id') \\\n",
    "        .sort_values(by=['session_size', 'click_timestamp'], ascending=False)\n",
    "    deja_lu = art_list['click_article_id'].values\n",
    "    while len(deja_lu) < n:\n",
    "        deja_lu = np.concatenate((deja_lu, deja_lu[0: min(len(deja_lu), n-len(deja_lu))]), axis=None)\n",
    "    \n",
    "    # Calcul la meilleure similarité pour le top N des articles déjà lus\n",
    "    deja_lu = deja_lu[:n]\n",
    "    reco = []\n",
    "    embed_len = len(embeddings)\n",
    "    for d in deja_lu:\n",
    "        sim_score = []\n",
    "        for i in range(embed_len):\n",
    "            if (i in deja_lu) | (i in reco):\n",
    "                cos_sim = 0\n",
    "            else:\n",
    "                cos_sim = np.dot(embeddings[d], embeddings[i]) / \\\n",
    "                    (np.linalg.norm(embeddings[d]) * np.linalg.norm(embeddings[i]))\n",
    "            sim_score.append(cos_sim)\n",
    "        reco.append(get_top_articles(sim_score))\n",
    "    \n",
    "    return reco"
   ]
  },
  {
   "cell_type": "code",
   "execution_count": 33,
   "id": "afffd11f",
   "metadata": {},
   "outputs": [],
   "source": [
    "clicks_df = pd.read_csv('data/clicks.csv')"
   ]
  },
  {
   "cell_type": "markdown",
   "id": "fc05c6a3",
   "metadata": {},
   "source": [
    "### Essai de recommandation pour l'utilisateur n°100000"
   ]
  },
  {
   "cell_type": "markdown",
   "id": "8552a0e7",
   "metadata": {},
   "source": [
    "**Articles recommandés**"
   ]
  },
  {
   "cell_type": "code",
   "execution_count": 34,
   "id": "03bbc6b1",
   "metadata": {},
   "outputs": [
    {
     "name": "stdout",
     "output_type": "stream",
     "text": [
      "CPU times: total: 28.7 s\n",
      "Wall time: 28.8 s\n"
     ]
    },
    {
     "data": {
      "text/plain": [
       "[[279547], [206570], [156560], [157541], [206845]]"
      ]
     },
     "execution_count": 34,
     "metadata": {},
     "output_type": "execute_result"
    }
   ],
   "source": [
    "%%time\n",
    "get_content_recommandations(100000, embeddings, clicks_df)"
   ]
  },
  {
   "cell_type": "markdown",
   "id": "16eb6b67",
   "metadata": {},
   "source": [
    "Rappel des recommandations Collaborative-Filtering : [162270, 64524, 62623, 189530, 282057]\n",
    "\n",
    "Rappel des articles consultés par l'utilisateur : [218337 160417 158536  96210 336245]"
   ]
  },
  {
   "cell_type": "markdown",
   "id": "4d94ee4d",
   "metadata": {},
   "source": [
    "**Catégories recommandées**"
   ]
  },
  {
   "cell_type": "code",
   "execution_count": 123,
   "id": "1e59b719",
   "metadata": {},
   "outputs": [
    {
     "data": {
      "text/plain": [
       "{281, 331, 354, 437}"
      ]
     },
     "execution_count": 123,
     "metadata": {},
     "output_type": "execute_result"
    }
   ],
   "source": [
    "set(art_df[art_df['article_id'].isin([220928, 161035, 334138, 207129, 220928])]['category_id'].values)"
   ]
  },
  {
   "cell_type": "markdown",
   "id": "207e9854",
   "metadata": {},
   "source": [
    "Rappel des catégories des articles recommandés en Collaborative-Filtering : [135, 304, 281, 412, 127]\n",
    "\n",
    "Rappel des catégories consultés par l'utilisateur : [352, 209, 437, 281]"
   ]
  },
  {
   "cell_type": "markdown",
   "id": "8c8e5a97",
   "metadata": {},
   "source": [
    "*[(Retour sommaire)](#Sommaire)*"
   ]
  },
  {
   "cell_type": "markdown",
   "id": "ddf21a8d",
   "metadata": {},
   "source": [
    "***"
   ]
  },
  {
   "cell_type": "markdown",
   "id": "fadb0107",
   "metadata": {},
   "source": [
    "## 4.2 Embeddings réduits (PCA)"
   ]
  },
  {
   "cell_type": "markdown",
   "id": "1d9e167c",
   "metadata": {},
   "source": [
    "### Réduction de dimensions"
   ]
  },
  {
   "cell_type": "code",
   "execution_count": 138,
   "id": "f7e2b7bd",
   "metadata": {},
   "outputs": [],
   "source": [
    "from sklearn.decomposition import PCA"
   ]
  },
  {
   "cell_type": "code",
   "execution_count": 139,
   "id": "2328f0df",
   "metadata": {},
   "outputs": [],
   "source": [
    "pca = PCA(svd_solver='full', n_components=.95).fit_transform(embeddings)"
   ]
  },
  {
   "cell_type": "code",
   "execution_count": 140,
   "id": "24e53747",
   "metadata": {},
   "outputs": [
    {
     "data": {
      "text/plain": [
       "(364047, 52)"
      ]
     },
     "execution_count": 140,
     "metadata": {},
     "output_type": "execute_result"
    }
   ],
   "source": [
    "np.shape(pca)"
   ]
  },
  {
   "cell_type": "code",
   "execution_count": 144,
   "id": "c043e029",
   "metadata": {},
   "outputs": [],
   "source": [
    "pd.to_pickle(pca, 'data/pca_embeddings.pickle')"
   ]
  },
  {
   "cell_type": "markdown",
   "id": "c062e5b3",
   "metadata": {},
   "source": [
    "### Essai de recommandation pour l'utilisateur 2"
   ]
  },
  {
   "cell_type": "code",
   "execution_count": 35,
   "id": "c2050ec1",
   "metadata": {},
   "outputs": [],
   "source": [
    "pca = pd.read_pickle('data/pca_embeddings.pickle')"
   ]
  },
  {
   "cell_type": "markdown",
   "id": "4a7390bb",
   "metadata": {},
   "source": [
    "**Articles recommandés**"
   ]
  },
  {
   "cell_type": "code",
   "execution_count": 36,
   "id": "08ba085d",
   "metadata": {},
   "outputs": [
    {
     "name": "stdout",
     "output_type": "stream",
     "text": [
      "CPU times: total: 31.5 s\n",
      "Wall time: 31.6 s\n"
     ]
    },
    {
     "data": {
      "text/plain": [
       "[[279547], [206570], [156560], [157541], [207310]]"
      ]
     },
     "execution_count": 36,
     "metadata": {},
     "output_type": "execute_result"
    }
   ],
   "source": [
    "%%time\n",
    "get_content_recommandations(100000, pca, clicks_df)"
   ]
  },
  {
   "cell_type": "markdown",
   "id": "7b7b9a3b",
   "metadata": {},
   "source": [
    "Rappel des recommandations Content-Based sans ACP : [279547, 206570, 156560, 157541, 206845]\n",
    "\n",
    "Rappel des recommandations Collaborative-Filtering : [162270, 64524, 62623, 189530, 282057]\n",
    "\n",
    "Rappel des articles consultés par l'utilisateur : [218337 160417 158536  96210 336245]"
   ]
  },
  {
   "cell_type": "markdown",
   "id": "662d30ea",
   "metadata": {},
   "source": [
    "**Catégories recommandées**"
   ]
  },
  {
   "cell_type": "code",
   "execution_count": 142,
   "id": "c7483adc",
   "metadata": {},
   "outputs": [
    {
     "data": {
      "text/plain": [
       "{281, 331, 436, 437}"
      ]
     },
     "execution_count": 142,
     "metadata": {},
     "output_type": "execute_result"
    }
   ],
   "source": [
    "set(art_df[art_df['article_id'].isin([329561, 161035, 336221, 207129, 329561])]['category_id'].values)"
   ]
  },
  {
   "cell_type": "markdown",
   "id": "4bad9214",
   "metadata": {},
   "source": [
    "Rappel des catégories prédites en Content-Based sans ACP : [281, 331, 354, 437]\n",
    "\n",
    "Rappel des catégories des articles recommandés en Collaborative-Filtering : [135, 304, 281, 412, 127]\n",
    "\n",
    "Rappel des catégories consultés par l'utilisateur : [352, 209, 437, 281]"
   ]
  },
  {
   "cell_type": "markdown",
   "id": "28b730ec",
   "metadata": {},
   "source": [
    "<div class=\"alert alert-block alert-info\">\n",
    "    \n",
    "Avec réduction de dimension :\n",
    "<ul>\n",
    "    <li>Les articles prédits sont proches de ceux avec full embeddings</li>\n",
    "    <li>Le temps de prédiction est comparable</li>\n",
    "    <li>La variance est retenu à 95%</li>\n",
    "    <li>Le nombre de caractéristiques est divisé par 5</li>\n",
    "    <li>Le poids des embeddings sur disque est divisé par 5</li>\n",
    "</ul>\n",
    "    \n",
    "</div>"
   ]
  },
  {
   "cell_type": "markdown",
   "id": "72ef46cb",
   "metadata": {},
   "source": [
    "<div class=\"alert alert-block alert-warning\">\n",
    "    \n",
    "La méthode Content-Based présente 2 inconvénients majeurs dans notre cas :\n",
    "- Le temps de prédiction (~30s) : trop long pour un application en production dont il s'agit de la fonctionnalité principale\n",
    "- Le système de recommandation lui-même : comme nous cherchons à promouvoir la lecture, il faut nécessairement introduire de la diversité dans les choix proposés, ce que le Content-Based aura du mal à faire\n",
    "    \n",
    "</div>"
   ]
  },
  {
   "cell_type": "markdown",
   "id": "9576e288",
   "metadata": {},
   "source": [
    "*[(Retour sommaire)](#Sommaire)*"
   ]
  },
  {
   "cell_type": "markdown",
   "id": "c2de9fca",
   "metadata": {},
   "source": [
    "***"
   ]
  },
  {
   "cell_type": "markdown",
   "id": "d5799791",
   "metadata": {},
   "source": [
    "# 5. Script de calcul des recommandations"
   ]
  },
  {
   "cell_type": "markdown",
   "id": "49f5e1b7",
   "metadata": {},
   "source": [
    "<div class=\"alert alert-block alert-info\">\n",
    "\n",
    "Ayant choisi la méthode Collaborative-Filtering à l'article avec SVD Surprise comme modèle pour la mise en production, nous testons ici un pré-calcul des prédictions du modèle qui nous permettra simplement de lire la réponse dans un tableau au lieu de la calculer via le modèle lors des requêtes utilisateur.\n",
    "\n",
    "Devant les limitations de ressources de calcul qui sont les nôtres, nous ne testerons que sur un segment de 10,000 utilisateurs : du n°20,000 au n°29,999.\n",
    "    \n",
    "    \n",
    "</div>"
   ]
  },
  {
   "cell_type": "markdown",
   "id": "f5573bee",
   "metadata": {},
   "source": [
    "### Fonctions"
   ]
  },
  {
   "cell_type": "code",
   "execution_count": 5,
   "id": "888b46d5",
   "metadata": {},
   "outputs": [],
   "source": [
    "# Source : https://github.com/NicolasHug/Surprise/blob/master/examples/top_n_recommendations.py\n",
    "def get_top_n_art(predictions, deja_lus, n=5):\n",
    "    \"\"\"\n",
    "    Renvoi les n articles les plus recommandées pour chaque utilisateur parmis ceux non lus\n",
    "        @param predictions <Surprise Prediction> : prédictions issues de la méthode \"test\" d'un modèle Surprise\n",
    "        @param deja_lus <list> : liste des articles déjà lus par l'utilisateur\n",
    "        @param n <int> : nombre de recommandations à émettre\n",
    "        @return <dict> : dictionnaire {user_id: [(category_id, predicted_rating), ...]}\n",
    "    \"\"\"\n",
    "    # Map the predictions to each user\n",
    "    top_n = defaultdict(list)\n",
    "    for uid, iid, true_r, est, _ in predictions:\n",
    "        if iid not in deja_lus:\n",
    "            top_n[uid].append((iid, est))\n",
    "\n",
    "    # Sort the predictions for each user and retrieve the k highest ones\n",
    "    for uid, user_ratings in top_n.items():\n",
    "        user_ratings.sort(key=lambda x: x[1], reverse=True)\n",
    "        top_n[uid] = user_ratings[:n]\n",
    "\n",
    "    return top_n"
   ]
  },
  {
   "cell_type": "code",
   "execution_count": 15,
   "id": "1ed73a5f",
   "metadata": {},
   "outputs": [],
   "source": [
    "def make_recommendation(model, art_by_user, art_df, n=5):\n",
    "    \"\"\"\n",
    "    Renvoi un dataframe des articles les plus recommandés pour tous les utilisateur\n",
    "        @param model <Surprise.SVD> : model entraîné servant à la prédiction\n",
    "        @param user_id <int> : utilisateur pour qui effectuer la prédiction\n",
    "        @param art_by_user <Pandas.DataFrame> : dataframe des interactions utilisateur/article\n",
    "        @param art_df <Pandas.DataFrame> : dataframe listant les articles et leur catégorie\n",
    "        @param n <int> : nombre d'articles à renvoyer (défaut : 5)\n",
    "        @return <Pandas.DataFrame> : user_id, reco_art, reco_cat\n",
    "    \"\"\"\n",
    "    # Variables stockant les résultats\n",
    "    article_list = art_by_user['article_id'].unique()\n",
    "    nb_art = len(article_list)\n",
    "    value_fill = np.full((nb_art,), 0)\n",
    "    uid_list = art_by_user['user_id'].unique()[20000:30000]\n",
    "    aid_list = []\n",
    "    cid_list = []\n",
    "    \n",
    "    for u in tqdm.tqdm(uid_list):\n",
    "        \n",
    "        # Constuction du dataset de prédiction\n",
    "        user_fill = np.full((nb_art,), u)\n",
    "        art_rating = pd.DataFrame({\n",
    "            'user_id': user_fill,\n",
    "            'article_id': article_list,\n",
    "            'value': value_fill\n",
    "        })\n",
    "\n",
    "        # Identifiation des articles lus\n",
    "        user_art_list = art_by_user[art_by_user['user_id'] == u]['article_id'].values\n",
    "        art_rating.loc[art_rating['article_id'].isin(user_art_list), 'value'] = 1\n",
    "\n",
    "        # Récupération de la prédiction\n",
    "        pred = model.test(art_rating.to_numpy())\n",
    "        top_n = get_top_n_art(pred, user_art_list)\n",
    "\n",
    "        # Préparation des données retournées\n",
    "        pred_arts = [art for art, _ in top_n[u]]\n",
    "        pred_cats = list(set(art_df[art_df['article_id'].isin(pred_arts)]['category_id'].values))\n",
    "\n",
    "        cid_list.append(\", \".join([str(c) for c in list(set(pred_cats))]))\n",
    "        aid_list.append(\",\".join([str(a) for a in pred_arts]))\n",
    "        \n",
    "    return pd.DataFrame({'user_id': uid_list, 'reco_art': aid_list, 'reco_cat': cid_list})"
   ]
  },
  {
   "cell_type": "markdown",
   "id": "ba1b8fd3",
   "metadata": {},
   "source": [
    "### Récupération des données et du modèle"
   ]
  },
  {
   "cell_type": "code",
   "execution_count": 2,
   "id": "a1e07195",
   "metadata": {},
   "outputs": [],
   "source": [
    "articles_by_user = pd.read_csv('data/articles_by_user.csv')"
   ]
  },
  {
   "cell_type": "code",
   "execution_count": 3,
   "id": "2689f850",
   "metadata": {},
   "outputs": [],
   "source": [
    "articles_df = pd.read_csv('data/articles_metadata.csv')"
   ]
  },
  {
   "cell_type": "code",
   "execution_count": 4,
   "id": "673323c0",
   "metadata": {},
   "outputs": [],
   "source": [
    "with open(os.path.join('models', 'svd_art.pkl'), 'rb') as f:\n",
    "    model = pickle.load(f)"
   ]
  },
  {
   "cell_type": "markdown",
   "id": "9a2e7e85",
   "metadata": {},
   "source": [
    "### Calcul"
   ]
  },
  {
   "cell_type": "code",
   "execution_count": 16,
   "id": "627f8f5b",
   "metadata": {},
   "outputs": [
    {
     "name": "stderr",
     "output_type": "stream",
     "text": [
      "100%|██████████████████████████████████████████████████████████████████████████████████████████████████████████████████████████████| 10000/10000 [2:01:33<00:00,  1.37it/s]\n"
     ]
    }
   ],
   "source": [
    "reco_df = make_recommendation(model, articles_by_user, articles_df)"
   ]
  },
  {
   "cell_type": "markdown",
   "id": "e018c94a",
   "metadata": {},
   "source": [
    "<div class=\"alert alert-block alert-warning\">\n",
    "\n",
    "2h pour (seulement) 10,000 utilisateurs (non parallélisation des calculs)\n",
    "    \n",
    "</div>"
   ]
  },
  {
   "cell_type": "code",
   "execution_count": 17,
   "id": "0fe51e6d",
   "metadata": {},
   "outputs": [
    {
     "data": {
      "text/html": [
       "<div>\n",
       "<style scoped>\n",
       "    .dataframe tbody tr th:only-of-type {\n",
       "        vertical-align: middle;\n",
       "    }\n",
       "\n",
       "    .dataframe tbody tr th {\n",
       "        vertical-align: top;\n",
       "    }\n",
       "\n",
       "    .dataframe thead th {\n",
       "        text-align: right;\n",
       "    }\n",
       "</style>\n",
       "<table border=\"1\" class=\"dataframe\">\n",
       "  <thead>\n",
       "    <tr style=\"text-align: right;\">\n",
       "      <th></th>\n",
       "      <th>user_id</th>\n",
       "      <th>reco_art</th>\n",
       "      <th>reco_cat</th>\n",
       "    </tr>\n",
       "  </thead>\n",
       "  <tbody>\n",
       "    <tr>\n",
       "      <th>0</th>\n",
       "      <td>20000</td>\n",
       "      <td>332909,220781,194409,339018,30708</td>\n",
       "      <td>354, 437, 438, 26, 317</td>\n",
       "    </tr>\n",
       "    <tr>\n",
       "      <th>1</th>\n",
       "      <td>20001</td>\n",
       "      <td>41432,106955,298032,97123,161086</td>\n",
       "      <td>67, 228, 428, 211, 281</td>\n",
       "    </tr>\n",
       "    <tr>\n",
       "      <th>2</th>\n",
       "      <td>20002</td>\n",
       "      <td>59292,251285,205554,201245,72609</td>\n",
       "      <td>388, 325, 137, 331, 118</td>\n",
       "    </tr>\n",
       "    <tr>\n",
       "      <th>3</th>\n",
       "      <td>20003</td>\n",
       "      <td>76002,86948,118998,285470,97039</td>\n",
       "      <td>209, 147, 247, 186, 412</td>\n",
       "    </tr>\n",
       "    <tr>\n",
       "      <th>4</th>\n",
       "      <td>20004</td>\n",
       "      <td>51482,273327,151171,276669,309952</td>\n",
       "      <td>281, 104, 399, 431, 409</td>\n",
       "    </tr>\n",
       "  </tbody>\n",
       "</table>\n",
       "</div>"
      ],
      "text/plain": [
       "   user_id                           reco_art                 reco_cat\n",
       "0    20000  332909,220781,194409,339018,30708   354, 437, 438, 26, 317\n",
       "1    20001   41432,106955,298032,97123,161086   67, 228, 428, 211, 281\n",
       "2    20002   59292,251285,205554,201245,72609  388, 325, 137, 331, 118\n",
       "3    20003    76002,86948,118998,285470,97039  209, 147, 247, 186, 412\n",
       "4    20004  51482,273327,151171,276669,309952  281, 104, 399, 431, 409"
      ]
     },
     "execution_count": 17,
     "metadata": {},
     "output_type": "execute_result"
    }
   ],
   "source": [
    "reco_df.head()"
   ]
  },
  {
   "cell_type": "code",
   "execution_count": 22,
   "id": "065358e8",
   "metadata": {},
   "outputs": [],
   "source": [
    "reco_df.to_csv('data/reco_df.csv', index=False, sep=\";\")"
   ]
  },
  {
   "cell_type": "code",
   "execution_count": 19,
   "id": "04aac41d",
   "metadata": {},
   "outputs": [],
   "source": [
    "ligne = reco_df[reco_df['user_id'] == 20000]"
   ]
  },
  {
   "cell_type": "code",
   "execution_count": 21,
   "id": "3c466da6",
   "metadata": {},
   "outputs": [
    {
     "data": {
      "text/plain": [
       "'332909,220781,194409,339018,30708'"
      ]
     },
     "execution_count": 21,
     "metadata": {},
     "output_type": "execute_result"
    }
   ],
   "source": [
    "ligne['reco_art'].values[0]"
   ]
  },
  {
   "cell_type": "markdown",
   "id": "9c75cfc4",
   "metadata": {},
   "source": [
    "*[(Retour sommaire)](#Sommaire)*"
   ]
  }
 ],
 "metadata": {
  "kernelspec": {
   "display_name": "Python 3 (ipykernel)",
   "language": "python",
   "name": "python3"
  },
  "language_info": {
   "codemirror_mode": {
    "name": "ipython",
    "version": 3
   },
   "file_extension": ".py",
   "mimetype": "text/x-python",
   "name": "python",
   "nbconvert_exporter": "python",
   "pygments_lexer": "ipython3",
   "version": "3.9.13"
  },
  "papermill": {
   "default_parameters": {},
   "duration": 239.718806,
   "end_time": "2021-10-02T15:54:45.632996",
   "environment_variables": {},
   "exception": null,
   "input_path": "__notebook__.ipynb",
   "output_path": "__notebook__.ipynb",
   "parameters": {},
   "start_time": "2021-10-02T15:50:45.914190",
   "version": "2.3.3"
  }
 },
 "nbformat": 4,
 "nbformat_minor": 5
}
